{
 "cells": [
  {
   "cell_type": "code",
   "execution_count": 1,
   "id": "e48d8015-257e-4f16-9f28-7bc915f0eb51",
   "metadata": {},
   "outputs": [],
   "source": [
    "import numpy as np\n",
    "import pandas as pd\n",
    "from sklearn import preprocessing\n",
    "import seaborn as sns\n",
    "import matplotlib.pyplot as plt\n",
    "import math\n",
    "import glob\n",
    "from sklearn.metrics import classification_report, confusion_matrix, ConfusionMatrixDisplay, accuracy_score\n",
    "from sklearn.datasets import load_digits\n",
    "from sklearn.neighbors import KNeighborsClassifier\n",
    "from sklearn.utils import shuffle\n",
    "from sklearn.model_selection import train_test_split, GridSearchCV, KFold, cross_validate, ShuffleSplit, LearningCurveDisplay\n",
    "from sklearn import svm\n",
    "from imblearn.under_sampling import RandomUnderSampler\n",
    "\n",
    "from sklearn.metrics import f1_score, recall_score, precision_score, confusion_matrix\n",
    "from sklearn.metrics import r2_score, roc_auc_score, roc_curve, classification_report\n",
    "\n",
    "plt.style.use('default')\n",
    "%matplotlib inline"
   ]
  },
  {
   "cell_type": "code",
   "execution_count": 20,
   "id": "a5539e87-a0fa-4d7b-bafc-c3c3398fbf36",
   "metadata": {},
   "outputs": [
    {
     "data": {
      "text/html": [
       "<div>\n",
       "<style scoped>\n",
       "    .dataframe tbody tr th:only-of-type {\n",
       "        vertical-align: middle;\n",
       "    }\n",
       "\n",
       "    .dataframe tbody tr th {\n",
       "        vertical-align: top;\n",
       "    }\n",
       "\n",
       "    .dataframe thead th {\n",
       "        text-align: right;\n",
       "    }\n",
       "</style>\n",
       "<table border=\"1\" class=\"dataframe\">\n",
       "  <thead>\n",
       "    <tr style=\"text-align: right;\">\n",
       "      <th></th>\n",
       "      <th>Ax_MAV</th>\n",
       "      <th>Ax_CD</th>\n",
       "      <th>Ax_MAX</th>\n",
       "      <th>Ax_MIN</th>\n",
       "      <th>Ax_INIT</th>\n",
       "      <th>Ax_FNL</th>\n",
       "      <th>Ay_MAV</th>\n",
       "      <th>Ay_CD</th>\n",
       "      <th>Ay_MAX</th>\n",
       "      <th>Ay_MIN</th>\n",
       "      <th>...</th>\n",
       "      <th>RF_IEMG</th>\n",
       "      <th>RF_MAV</th>\n",
       "      <th>RF_LOG</th>\n",
       "      <th>RF_WL</th>\n",
       "      <th>RF_ACC</th>\n",
       "      <th>RF_DASDV</th>\n",
       "      <th>RF_ZC</th>\n",
       "      <th>RF_WAMP</th>\n",
       "      <th>RF_MYOP</th>\n",
       "      <th>Mode</th>\n",
       "    </tr>\n",
       "  </thead>\n",
       "  <tbody>\n",
       "    <tr>\n",
       "      <th>0</th>\n",
       "      <td>-0.082788</td>\n",
       "      <td>0.194516</td>\n",
       "      <td>0.098621</td>\n",
       "      <td>-0.553145</td>\n",
       "      <td>-0.548947</td>\n",
       "      <td>-0.006729</td>\n",
       "      <td>0.193257</td>\n",
       "      <td>0.105025</td>\n",
       "      <td>0.482086</td>\n",
       "      <td>0.086829</td>\n",
       "      <td>...</td>\n",
       "      <td>0.659565</td>\n",
       "      <td>0.002199</td>\n",
       "      <td>0.057953</td>\n",
       "      <td>0.369797</td>\n",
       "      <td>0.001233</td>\n",
       "      <td>0.001564</td>\n",
       "      <td>52.0</td>\n",
       "      <td>0.0</td>\n",
       "      <td>0.0</td>\n",
       "      <td>0.0</td>\n",
       "    </tr>\n",
       "    <tr>\n",
       "      <th>1</th>\n",
       "      <td>-0.095318</td>\n",
       "      <td>0.186721</td>\n",
       "      <td>0.104413</td>\n",
       "      <td>-0.572925</td>\n",
       "      <td>0.038609</td>\n",
       "      <td>-0.461041</td>\n",
       "      <td>0.214915</td>\n",
       "      <td>0.111148</td>\n",
       "      <td>0.504380</td>\n",
       "      <td>0.085965</td>\n",
       "      <td>...</td>\n",
       "      <td>0.543723</td>\n",
       "      <td>0.001812</td>\n",
       "      <td>0.054427</td>\n",
       "      <td>0.403360</td>\n",
       "      <td>0.001345</td>\n",
       "      <td>0.001724</td>\n",
       "      <td>74.0</td>\n",
       "      <td>0.0</td>\n",
       "      <td>0.0</td>\n",
       "      <td>0.0</td>\n",
       "    </tr>\n",
       "    <tr>\n",
       "      <th>2</th>\n",
       "      <td>-0.164038</td>\n",
       "      <td>0.216013</td>\n",
       "      <td>0.100683</td>\n",
       "      <td>-0.585118</td>\n",
       "      <td>-0.002821</td>\n",
       "      <td>-0.013294</td>\n",
       "      <td>0.248497</td>\n",
       "      <td>0.134200</td>\n",
       "      <td>0.532462</td>\n",
       "      <td>0.075260</td>\n",
       "      <td>...</td>\n",
       "      <td>0.543924</td>\n",
       "      <td>0.001813</td>\n",
       "      <td>0.054203</td>\n",
       "      <td>0.387581</td>\n",
       "      <td>0.001292</td>\n",
       "      <td>0.001632</td>\n",
       "      <td>61.0</td>\n",
       "      <td>0.0</td>\n",
       "      <td>0.0</td>\n",
       "      <td>0.0</td>\n",
       "    </tr>\n",
       "    <tr>\n",
       "      <th>3</th>\n",
       "      <td>-0.114228</td>\n",
       "      <td>0.196493</td>\n",
       "      <td>0.093302</td>\n",
       "      <td>-0.561091</td>\n",
       "      <td>-0.556269</td>\n",
       "      <td>0.031456</td>\n",
       "      <td>0.211610</td>\n",
       "      <td>0.116422</td>\n",
       "      <td>0.498779</td>\n",
       "      <td>0.072621</td>\n",
       "      <td>...</td>\n",
       "      <td>0.499161</td>\n",
       "      <td>0.001664</td>\n",
       "      <td>0.052599</td>\n",
       "      <td>0.365358</td>\n",
       "      <td>0.001218</td>\n",
       "      <td>0.001510</td>\n",
       "      <td>67.0</td>\n",
       "      <td>0.0</td>\n",
       "      <td>0.0</td>\n",
       "      <td>0.0</td>\n",
       "    </tr>\n",
       "    <tr>\n",
       "      <th>4</th>\n",
       "      <td>-0.084593</td>\n",
       "      <td>0.157460</td>\n",
       "      <td>0.063919</td>\n",
       "      <td>-0.507791</td>\n",
       "      <td>0.005059</td>\n",
       "      <td>-0.077004</td>\n",
       "      <td>0.200574</td>\n",
       "      <td>0.114150</td>\n",
       "      <td>0.530889</td>\n",
       "      <td>0.082135</td>\n",
       "      <td>...</td>\n",
       "      <td>0.503382</td>\n",
       "      <td>0.001678</td>\n",
       "      <td>0.051411</td>\n",
       "      <td>0.385047</td>\n",
       "      <td>0.001283</td>\n",
       "      <td>0.001603</td>\n",
       "      <td>72.0</td>\n",
       "      <td>0.0</td>\n",
       "      <td>0.0</td>\n",
       "      <td>0.0</td>\n",
       "    </tr>\n",
       "  </tbody>\n",
       "</table>\n",
       "<p>5 rows × 93 columns</p>\n",
       "</div>"
      ],
      "text/plain": [
       "     Ax_MAV     Ax_CD    Ax_MAX    Ax_MIN   Ax_INIT    Ax_FNL    Ay_MAV  \\\n",
       "0 -0.082788  0.194516  0.098621 -0.553145 -0.548947 -0.006729  0.193257   \n",
       "1 -0.095318  0.186721  0.104413 -0.572925  0.038609 -0.461041  0.214915   \n",
       "2 -0.164038  0.216013  0.100683 -0.585118 -0.002821 -0.013294  0.248497   \n",
       "3 -0.114228  0.196493  0.093302 -0.561091 -0.556269  0.031456  0.211610   \n",
       "4 -0.084593  0.157460  0.063919 -0.507791  0.005059 -0.077004  0.200574   \n",
       "\n",
       "      Ay_CD    Ay_MAX    Ay_MIN  ...   RF_IEMG    RF_MAV    RF_LOG     RF_WL  \\\n",
       "0  0.105025  0.482086  0.086829  ...  0.659565  0.002199  0.057953  0.369797   \n",
       "1  0.111148  0.504380  0.085965  ...  0.543723  0.001812  0.054427  0.403360   \n",
       "2  0.134200  0.532462  0.075260  ...  0.543924  0.001813  0.054203  0.387581   \n",
       "3  0.116422  0.498779  0.072621  ...  0.499161  0.001664  0.052599  0.365358   \n",
       "4  0.114150  0.530889  0.082135  ...  0.503382  0.001678  0.051411  0.385047   \n",
       "\n",
       "     RF_ACC  RF_DASDV  RF_ZC  RF_WAMP  RF_MYOP  Mode  \n",
       "0  0.001233  0.001564   52.0      0.0      0.0   0.0  \n",
       "1  0.001345  0.001724   74.0      0.0      0.0   0.0  \n",
       "2  0.001292  0.001632   61.0      0.0      0.0   0.0  \n",
       "3  0.001218  0.001510   67.0      0.0      0.0   0.0  \n",
       "4  0.001283  0.001603   72.0      0.0      0.0   0.0  \n",
       "\n",
       "[5 rows x 93 columns]"
      ]
     },
     "execution_count": 20,
     "metadata": {},
     "output_type": "execute_result"
    }
   ],
   "source": [
    "# Загрузка матрицы признаков\n",
    "feature_matrix =  pd.read_csv('feature_matrix_256.csv', na_values=[\"?\"])\n",
    "total_matrix = feature_matrix.copy()\n",
    "\n",
    "total_matrix = feature_matrix.drop(columns = ['Unnamed: 0'])\n",
    "total_matrix.head()"
   ]
  },
  {
   "cell_type": "code",
   "execution_count": 21,
   "id": "81a4a1b2-3691-4548-b9ad-d66812560a6c",
   "metadata": {},
   "outputs": [
    {
     "name": "stdout",
     "output_type": "stream",
     "text": [
      "(1782, 92)\n",
      "(1782, 92)\n"
     ]
    }
   ],
   "source": [
    "x_raw = total_matrix.copy()\n",
    "y = x_raw['Mode']\n",
    "x_raw = x_raw.copy().drop(columns=['Mode'])\n",
    "rus = RandomUnderSampler()\n",
    "x_raw, y = rus.fit_resample(x_raw, y)\n",
    "print(x_raw[y==0].shape)\n",
    "print(x_raw[y==1].shape)"
   ]
  },
  {
   "cell_type": "code",
   "execution_count": 22,
   "id": "c483efce-4bf5-4fa7-b9f3-c5763fcae96a",
   "metadata": {},
   "outputs": [],
   "source": [
    "X_train, X_test, y_train, y_test = train_test_split(x_raw, y, test_size=0.2, random_state=42)\n",
    "normalizer1 = preprocessing.StandardScaler()\n",
    "X_train = pd.DataFrame(normalizer1.fit_transform(X_train), columns=X_train.columns)\n",
    "X_test = pd.DataFrame(normalizer1.fit_transform(X_test), columns=X_test.columns)\n",
    "clf_svm = svm.SVC(kernel = \"poly\", C = 0.01, gamma = 0.1)\n",
    "clf_svm.fit(X_train, y_train)\n",
    "y_pred = clf_svm.predict(X_test)"
   ]
  },
  {
   "cell_type": "code",
   "execution_count": 11,
   "id": "1bdeb743-a82a-4d37-83b4-0389c619bec5",
   "metadata": {},
   "outputs": [
    {
     "name": "stdout",
     "output_type": "stream",
     "text": [
      "Accuracy: 0.9256716417910448\n"
     ]
    }
   ],
   "source": [
    "accuracy1 = accuracy_score(y_test, y_pred)\n",
    "print(\"Accuracy:\", accuracy1)"
   ]
  },
  {
   "cell_type": "code",
   "execution_count": 15,
   "id": "0a3bc62d-c0a0-40a4-b6dc-fc671e3eb357",
   "metadata": {},
   "outputs": [
    {
     "name": "stdout",
     "output_type": "stream",
     "text": [
      "Accuracy: 0.9083482765491133\n"
     ]
    }
   ],
   "source": [
    "accuracy2 = accuracy_score(y_test, y_pred)\n",
    "print(\"Accuracy:\", accuracy2)"
   ]
  },
  {
   "cell_type": "code",
   "execution_count": 19,
   "id": "bec39b2e-bfbf-4a8a-821c-b05fcb5b4009",
   "metadata": {},
   "outputs": [
    {
     "name": "stdout",
     "output_type": "stream",
     "text": [
      "Accuracy: 0.8766796058524933\n"
     ]
    }
   ],
   "source": [
    "accuracy3 = accuracy_score(y_test, y_pred)\n",
    "print(\"Accuracy:\", accuracy3)"
   ]
  },
  {
   "cell_type": "code",
   "execution_count": 23,
   "id": "f3b93d97-e59f-4ce1-91e4-493e73869b2a",
   "metadata": {},
   "outputs": [
    {
     "name": "stdout",
     "output_type": "stream",
     "text": [
      "Accuracy: 0.8677354709418837\n"
     ]
    }
   ],
   "source": [
    "accuracy4 = accuracy_score(y_test, y_pred)\n",
    "print(\"Accuracy:\", accuracy4)"
   ]
  },
  {
   "cell_type": "code",
   "execution_count": 40,
   "id": "a04927d6-bb63-4707-a845-f25d4ba317b4",
   "metadata": {},
   "outputs": [
    {
     "data": {
      "image/png": "[encoded data removed]",
      "text/plain": [
       "<Figure size 640x480 with 1 Axes>"
      ]
     },
     "metadata": {},
     "output_type": "display_data"
    },
    {
     "data": {
      "text/plain": [
       "<Figure size 640x480 with 0 Axes>"
      ]
     },
     "metadata": {},
     "output_type": "display_data"
    }
   ],
   "source": [
    "plt.plot([192, 128, 64, 0], [92.56, 90.83, 87.66, 86.77], color='green', linestyle='dashed', linewidth = 3,\n",
    "         marker='o', markerfacecolor='blue', markersize=12)\n",
    "plt.ylabel('Accuracy, %')\n",
    "plt.xlabel('Величина пересечения, n')\n",
    "plt.axis((-10, 200, 85, 95))\n",
    "plt.show()\n",
    "plt.savefig('Window_size.png')"
   ]
  },
  {
   "cell_type": "code",
   "execution_count": null,
   "id": "a67f17d2-10c1-4b80-a385-dd96b70f661c",
   "metadata": {},
   "outputs": [],
   "source": []
  }
 ],
 "metadata": {
  "kernelspec": {
   "display_name": "Python 3 (ipykernel)",
   "language": "python",
   "name": "python3"
  },
  "language_info": {
   "codemirror_mode": {
    "name": "ipython",
    "version": 3
   },
   "file_extension": ".py",
   "mimetype": "text/x-python",
   "name": "python",
   "nbconvert_exporter": "python",
   "pygments_lexer": "ipython3",
   "version": "3.10.12"
  }
 },
 "nbformat": 4,
 "nbformat_minor": 5
}
