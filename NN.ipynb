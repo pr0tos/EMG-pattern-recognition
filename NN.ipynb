{
 "cells": [
  {
   "cell_type": "markdown",
   "metadata": {
    "id": "7aUNYwWexNFx"
   },
   "source": [
    "# NN"
   ]
  },
  {
   "cell_type": "code",
   "execution_count": 1,
   "metadata": {
    "executionInfo": {
     "elapsed": 1351,
     "status": "ok",
     "timestamp": 1713443367096,
     "user": {
      "displayName": "Konstantin Eidelman",
      "userId": "17829340596789731820"
     },
     "user_tz": -180
    },
    "id": "4PcRDRd3zywK"
   },
   "outputs": [
    {
     "name": "stderr",
     "output_type": "stream",
     "text": [
      "/tmp/ipykernel_5314/38736474.py:11: TqdmExperimentalWarning: Using `tqdm.autonotebook.tqdm` in notebook mode. Use `tqdm.tqdm` instead to force console mode (e.g. in jupyter console)\n",
      "  from tqdm.autonotebook import tqdm\n"
     ]
    }
   ],
   "source": [
    "import matplotlib.pyplot as plt\n",
    "import numpy as np\n",
    "import seaborn as sns\n",
    "import torch\n",
    "from torch import nn, optim\n",
    "from torch.utils.data import DataLoader\n",
    "from torchvision import datasets\n",
    "from torchvision.transforms import ToTensor\n",
    "import pandas as pd\n",
    "from imblearn.under_sampling import RandomUnderSampler\n",
    "from tqdm.autonotebook import tqdm"
   ]
  },
  {
   "cell_type": "code",
   "execution_count": 2,
   "metadata": {
    "colab": {
     "base_uri": "https://localhost:8080/",
     "height": 236
    },
    "executionInfo": {
     "elapsed": 8447,
     "status": "ok",
     "timestamp": 1713443375541,
     "user": {
      "displayName": "Konstantin Eidelman",
      "userId": "17829340596789731820"
     },
     "user_tz": -180
    },
    "id": "DXJHrLtnq0DP",
    "outputId": "ec467906-84c0-498c-d586-8b8c28e2a1e2"
   },
   "outputs": [
    {
     "data": {
      "text/html": [
       "<div>\n",
       "<style scoped>\n",
       "    .dataframe tbody tr th:only-of-type {\n",
       "        vertical-align: middle;\n",
       "    }\n",
       "\n",
       "    .dataframe tbody tr th {\n",
       "        vertical-align: top;\n",
       "    }\n",
       "\n",
       "    .dataframe thead th {\n",
       "        text-align: right;\n",
       "    }\n",
       "</style>\n",
       "<table border=\"1\" class=\"dataframe\">\n",
       "  <thead>\n",
       "    <tr style=\"text-align: right;\">\n",
       "      <th></th>\n",
       "      <th>Ax_MAV</th>\n",
       "      <th>Ax_CD</th>\n",
       "      <th>Ax_MAX</th>\n",
       "      <th>Ax_MIN</th>\n",
       "      <th>Ax_INIT</th>\n",
       "      <th>Ax_FNL</th>\n",
       "      <th>Ay_MAV</th>\n",
       "      <th>Ay_CD</th>\n",
       "      <th>Ay_MAX</th>\n",
       "      <th>Ay_MIN</th>\n",
       "      <th>...</th>\n",
       "      <th>RF_IEMG</th>\n",
       "      <th>RF_MAV</th>\n",
       "      <th>RF_LOG</th>\n",
       "      <th>RF_WL</th>\n",
       "      <th>RF_ACC</th>\n",
       "      <th>RF_DASDV</th>\n",
       "      <th>RF_ZC</th>\n",
       "      <th>RF_WAMP</th>\n",
       "      <th>RF_MYOP</th>\n",
       "      <th>Mode</th>\n",
       "    </tr>\n",
       "  </thead>\n",
       "  <tbody>\n",
       "    <tr>\n",
       "      <th>0</th>\n",
       "      <td>-0.082788</td>\n",
       "      <td>0.194516</td>\n",
       "      <td>0.098621</td>\n",
       "      <td>-0.553145</td>\n",
       "      <td>-0.548947</td>\n",
       "      <td>-0.006729</td>\n",
       "      <td>0.193257</td>\n",
       "      <td>0.105025</td>\n",
       "      <td>0.482086</td>\n",
       "      <td>0.086829</td>\n",
       "      <td>...</td>\n",
       "      <td>0.659565</td>\n",
       "      <td>0.002199</td>\n",
       "      <td>0.057953</td>\n",
       "      <td>0.369797</td>\n",
       "      <td>0.001233</td>\n",
       "      <td>0.001564</td>\n",
       "      <td>52.0</td>\n",
       "      <td>0.0</td>\n",
       "      <td>0.0</td>\n",
       "      <td>0.0</td>\n",
       "    </tr>\n",
       "    <tr>\n",
       "      <th>1</th>\n",
       "      <td>-0.147134</td>\n",
       "      <td>0.218421</td>\n",
       "      <td>0.104413</td>\n",
       "      <td>-0.572925</td>\n",
       "      <td>-0.035088</td>\n",
       "      <td>0.104413</td>\n",
       "      <td>0.229532</td>\n",
       "      <td>0.130144</td>\n",
       "      <td>0.504380</td>\n",
       "      <td>0.085965</td>\n",
       "      <td>...</td>\n",
       "      <td>0.584493</td>\n",
       "      <td>0.001948</td>\n",
       "      <td>0.056085</td>\n",
       "      <td>0.381330</td>\n",
       "      <td>0.001271</td>\n",
       "      <td>0.001618</td>\n",
       "      <td>64.0</td>\n",
       "      <td>0.0</td>\n",
       "      <td>0.0</td>\n",
       "      <td>0.0</td>\n",
       "    </tr>\n",
       "    <tr>\n",
       "      <th>2</th>\n",
       "      <td>-0.095318</td>\n",
       "      <td>0.186721</td>\n",
       "      <td>0.104413</td>\n",
       "      <td>-0.572925</td>\n",
       "      <td>0.038609</td>\n",
       "      <td>-0.461041</td>\n",
       "      <td>0.214915</td>\n",
       "      <td>0.111148</td>\n",
       "      <td>0.504380</td>\n",
       "      <td>0.085965</td>\n",
       "      <td>...</td>\n",
       "      <td>0.543723</td>\n",
       "      <td>0.001812</td>\n",
       "      <td>0.054427</td>\n",
       "      <td>0.403360</td>\n",
       "      <td>0.001345</td>\n",
       "      <td>0.001724</td>\n",
       "      <td>74.0</td>\n",
       "      <td>0.0</td>\n",
       "      <td>0.0</td>\n",
       "      <td>0.0</td>\n",
       "    </tr>\n",
       "    <tr>\n",
       "      <th>3</th>\n",
       "      <td>-0.072635</td>\n",
       "      <td>0.191764</td>\n",
       "      <td>0.104413</td>\n",
       "      <td>-0.585118</td>\n",
       "      <td>-0.343078</td>\n",
       "      <td>-0.001161</td>\n",
       "      <td>0.194778</td>\n",
       "      <td>0.117547</td>\n",
       "      <td>0.532462</td>\n",
       "      <td>0.081685</td>\n",
       "      <td>...</td>\n",
       "      <td>0.564877</td>\n",
       "      <td>0.001883</td>\n",
       "      <td>0.055629</td>\n",
       "      <td>0.378346</td>\n",
       "      <td>0.001261</td>\n",
       "      <td>0.001626</td>\n",
       "      <td>59.0</td>\n",
       "      <td>0.0</td>\n",
       "      <td>0.0</td>\n",
       "      <td>0.0</td>\n",
       "    </tr>\n",
       "    <tr>\n",
       "      <th>4</th>\n",
       "      <td>-0.164038</td>\n",
       "      <td>0.216013</td>\n",
       "      <td>0.100683</td>\n",
       "      <td>-0.585118</td>\n",
       "      <td>-0.002821</td>\n",
       "      <td>-0.013294</td>\n",
       "      <td>0.248497</td>\n",
       "      <td>0.134200</td>\n",
       "      <td>0.532462</td>\n",
       "      <td>0.075260</td>\n",
       "      <td>...</td>\n",
       "      <td>0.543924</td>\n",
       "      <td>0.001813</td>\n",
       "      <td>0.054203</td>\n",
       "      <td>0.387581</td>\n",
       "      <td>0.001292</td>\n",
       "      <td>0.001632</td>\n",
       "      <td>61.0</td>\n",
       "      <td>0.0</td>\n",
       "      <td>0.0</td>\n",
       "      <td>0.0</td>\n",
       "    </tr>\n",
       "  </tbody>\n",
       "</table>\n",
       "<p>5 rows × 93 columns</p>\n",
       "</div>"
      ],
      "text/plain": [
       "     Ax_MAV     Ax_CD    Ax_MAX    Ax_MIN   Ax_INIT    Ax_FNL    Ay_MAV  \\\n",
       "0 -0.082788  0.194516  0.098621 -0.553145 -0.548947 -0.006729  0.193257   \n",
       "1 -0.147134  0.218421  0.104413 -0.572925 -0.035088  0.104413  0.229532   \n",
       "2 -0.095318  0.186721  0.104413 -0.572925  0.038609 -0.461041  0.214915   \n",
       "3 -0.072635  0.191764  0.104413 -0.585118 -0.343078 -0.001161  0.194778   \n",
       "4 -0.164038  0.216013  0.100683 -0.585118 -0.002821 -0.013294  0.248497   \n",
       "\n",
       "      Ay_CD    Ay_MAX    Ay_MIN  ...   RF_IEMG    RF_MAV    RF_LOG     RF_WL  \\\n",
       "0  0.105025  0.482086  0.086829  ...  0.659565  0.002199  0.057953  0.369797   \n",
       "1  0.130144  0.504380  0.085965  ...  0.584493  0.001948  0.056085  0.381330   \n",
       "2  0.111148  0.504380  0.085965  ...  0.543723  0.001812  0.054427  0.403360   \n",
       "3  0.117547  0.532462  0.081685  ...  0.564877  0.001883  0.055629  0.378346   \n",
       "4  0.134200  0.532462  0.075260  ...  0.543924  0.001813  0.054203  0.387581   \n",
       "\n",
       "     RF_ACC  RF_DASDV  RF_ZC  RF_WAMP  RF_MYOP  Mode  \n",
       "0  0.001233  0.001564   52.0      0.0      0.0   0.0  \n",
       "1  0.001271  0.001618   64.0      0.0      0.0   0.0  \n",
       "2  0.001345  0.001724   74.0      0.0      0.0   0.0  \n",
       "3  0.001261  0.001626   59.0      0.0      0.0   0.0  \n",
       "4  0.001292  0.001632   61.0      0.0      0.0   0.0  \n",
       "\n",
       "[5 rows x 93 columns]"
      ]
     },
     "execution_count": 2,
     "metadata": {},
     "output_type": "execute_result"
    }
   ],
   "source": [
    "# Загрузка матрицы признаков\n",
    "feature_matrix =  pd.read_csv('feature_matrix_128.csv', na_values=[\"?\"])\n",
    "total_matrix = feature_matrix.copy()\n",
    "\n",
    "total_matrix = feature_matrix.drop(columns = ['Unnamed: 0'])\n",
    "total_matrix.head()"
   ]
  },
  {
   "cell_type": "code",
   "execution_count": 3,
   "metadata": {
    "executionInfo": {
     "elapsed": 438,
     "status": "ok",
     "timestamp": 1713443375975,
     "user": {
      "displayName": "Konstantin Eidelman",
      "userId": "17829340596789731820"
     },
     "user_tz": -180
    },
    "id": "eYBwLr1TwGhL"
   },
   "outputs": [],
   "source": [
    "device = torch.device(\"cuda\" if torch.cuda.is_available() else \"cpu\")"
   ]
  },
  {
   "cell_type": "code",
   "execution_count": 4,
   "metadata": {
    "colab": {
     "base_uri": "https://localhost:8080/"
    },
    "executionInfo": {
     "elapsed": 6,
     "status": "ok",
     "timestamp": 1713443375975,
     "user": {
      "displayName": "Konstantin Eidelman",
      "userId": "17829340596789731820"
     },
     "user_tz": -180
    },
    "id": "KjdeDzYzt-rs",
    "outputId": "f7629d53-091f-4742-960d-c970d3b2dafd"
   },
   "outputs": [
    {
     "name": "stdout",
     "output_type": "stream",
     "text": [
      "(3585, 92)\n",
      "(3585, 92)\n"
     ]
    }
   ],
   "source": [
    "from sklearn.model_selection import train_test_split\n",
    "from sklearn import preprocessing\n",
    "x_raw = total_matrix.copy()\n",
    "y = x_raw['Mode']\n",
    "x_raw = x_raw.copy().drop(columns=['Mode'])\n",
    "rus = RandomUnderSampler()\n",
    "x_raw, y = rus.fit_resample(x_raw, y)\n",
    "print(x_raw[y==0].shape)\n",
    "print(x_raw[y==1].shape)\n",
    "X_train, X_test, y_train, y_test = train_test_split(x_raw, y, test_size=0.2, random_state=42)\n",
    "normalizer = preprocessing.StandardScaler()\n",
    "X_train = pd.DataFrame(normalizer.fit_transform(X_train), columns=X_train.columns)\n",
    "X_test = pd.DataFrame(normalizer.fit_transform(X_test), columns=X_test.columns)"
   ]
  },
  {
   "cell_type": "code",
   "execution_count": 5,
   "metadata": {
    "executionInfo": {
     "elapsed": 5,
     "status": "ok",
     "timestamp": 1713443375975,
     "user": {
      "displayName": "Konstantin Eidelman",
      "userId": "17829340596789731820"
     },
     "user_tz": -180
    },
    "id": "qj1kheUHwLgo"
   },
   "outputs": [],
   "source": [
    "from torchvision import transforms\n",
    "from torch.utils.data import Dataset, DataLoader"
   ]
  },
  {
   "cell_type": "code",
   "execution_count": 6,
   "metadata": {
    "executionInfo": {
     "elapsed": 5,
     "status": "ok",
     "timestamp": 1713443375976,
     "user": {
      "displayName": "Konstantin Eidelman",
      "userId": "17829340596789731820"
     },
     "user_tz": -180
    },
    "id": "szr1QGKrwPrO"
   },
   "outputs": [],
   "source": [
    "class FeatureDataset(Dataset):\n",
    "  def __init__(self, data, targets, transform=None):\n",
    "      self.data = torch.Tensor(data)\n",
    "      self.targets = torch.LongTensor(targets)\n",
    "      self.transform = transform\n",
    "\n",
    "  def __getitem__(self, index):\n",
    "      x = self.data[index]\n",
    "      y = self.targets[index]\n",
    "      return x, y\n",
    "\n",
    "  def __len__(self):\n",
    "      return len(self.data)"
   ]
  },
  {
   "cell_type": "code",
   "execution_count": 7,
   "metadata": {
    "executionInfo": {
     "elapsed": 5,
     "status": "ok",
     "timestamp": 1713443375976,
     "user": {
      "displayName": "Konstantin Eidelman",
      "userId": "17829340596789731820"
     },
     "user_tz": -180
    },
    "id": "3Wx-joy9wRvi"
   },
   "outputs": [],
   "source": [
    "train_dataset=FeatureDataset(X_train.to_numpy(),y_train.to_numpy())\n",
    "test_dataset=FeatureDataset(X_test.to_numpy(),y_test.to_numpy())"
   ]
  },
  {
   "cell_type": "code",
   "execution_count": 8,
   "metadata": {
    "colab": {
     "base_uri": "https://localhost:8080/"
    },
    "executionInfo": {
     "elapsed": 5,
     "status": "ok",
     "timestamp": 1713443375976,
     "user": {
      "displayName": "Konstantin Eidelman",
      "userId": "17829340596789731820"
     },
     "user_tz": -180
    },
    "id": "vwRHs38vwqip",
    "outputId": "46ed048b-4daf-43df-c896-b561b878987e"
   },
   "outputs": [
    {
     "data": {
      "text/plain": [
       "(tensor([-1.0843,  0.9503,  0.4715, -0.7292, -0.1371, -0.6281,  0.4656,  1.4930,\n",
       "          1.7980, -1.2059,  0.9249, -0.1410, -0.6311,  1.5475,  1.1657, -1.1153,\n",
       "          2.2137, -0.9988,  0.6507, -0.2457,  0.4002,  0.3761,  0.6051,  1.0191,\n",
       "         -0.4134,  0.1667, -0.2192, -0.0808,  0.2081, -0.8107, -0.1485, -0.1077,\n",
       "         -0.2517,  0.0163, -0.1328,  0.4684,  0.5166,  0.0137,  0.5923,  0.6625,\n",
       "          0.9239,  0.2709, -0.6554,  0.0431, -0.2092, -0.6327,  0.5849,  0.3674,\n",
       "         -0.0127,  0.4529,  0.5218,  0.5218,  0.9626,  0.6484,  0.6484,  0.5636,\n",
       "          0.4892,  0.2278,  0.5894, -0.3119, -0.7015, -0.7447, -0.7447, -0.7741,\n",
       "         -0.6501, -0.6501, -0.6392, -0.0137, -0.5339, -0.5433,  0.1034,  0.6949,\n",
       "          0.7315,  0.7315,  1.1348,  0.6175,  0.6175,  0.5656, -0.9225, -0.3849,\n",
       "         -0.4935,  0.0334,  0.7990,  0.9932,  0.9932,  1.2977,  0.9733,  0.9733,\n",
       "          0.8226, -0.3668, -0.2657, -0.5038]),\n",
       " tensor(5))"
      ]
     },
     "execution_count": 8,
     "metadata": {},
     "output_type": "execute_result"
    }
   ],
   "source": [
    "train_dataset[0]"
   ]
  },
  {
   "cell_type": "code",
   "execution_count": 9,
   "metadata": {
    "executionInfo": {
     "elapsed": 3,
     "status": "ok",
     "timestamp": 1713443375976,
     "user": {
      "displayName": "Konstantin Eidelman",
      "userId": "17829340596789731820"
     },
     "user_tz": -180
    },
    "id": "FeFrFJGnw2At"
   },
   "outputs": [],
   "source": [
    "batch_size=150# размер пакета\n",
    "train_loader = DataLoader(train_dataset, batch_size=batch_size,shuffle=True)\n",
    "test_loader = DataLoader(test_dataset, batch_size=batch_size,shuffle=True)\n",
    "dataloaders = {\"train\": train_loader,\"validation\": test_loader}"
   ]
  },
  {
   "cell_type": "code",
   "execution_count": 10,
   "metadata": {},
   "outputs": [
    {
     "name": "stdout",
     "output_type": "stream",
     "text": [
      "Using cuda device\n"
     ]
    }
   ],
   "source": [
    "# Get cpu, gpu or mps device for training.\n",
    "device = (\n",
    "    \"cuda\"\n",
    "    if torch.cuda.is_available()\n",
    "    else \"mps\"\n",
    "    if torch.backends.mps.is_available()\n",
    "    else \"cpu\"\n",
    ")\n",
    "print(f\"Using {device} device\")"
   ]
  },
  {
   "cell_type": "code",
   "execution_count": 11,
   "metadata": {
    "executionInfo": {
     "elapsed": 4,
     "status": "ok",
     "timestamp": 1713443376398,
     "user": {
      "displayName": "Konstantin Eidelman",
      "userId": "17829340596789731820"
     },
     "user_tz": -180
    },
    "id": "eLzvJvAbw4m5"
   },
   "outputs": [
    {
     "name": "stdout",
     "output_type": "stream",
     "text": [
      "NeuralNetwork(\n",
      "  (linear_relu_stack): Sequential(\n",
      "    (0): Linear(in_features=92, out_features=184, bias=True)\n",
      "    (1): LeakyReLU(negative_slope=0.01)\n",
      "    (2): Linear(in_features=184, out_features=184, bias=True)\n",
      "    (3): LeakyReLU(negative_slope=0.01)\n",
      "    (4): Linear(in_features=184, out_features=25, bias=True)\n",
      "    (5): LeakyReLU(negative_slope=0.01)\n",
      "    (6): Linear(in_features=25, out_features=7, bias=True)\n",
      "  )\n",
      ")\n"
     ]
    }
   ],
   "source": [
    "import torch.nn as nn\n",
    "\n",
    "class NeuralNetwork(nn.Module):\n",
    "    def __init__(self, num_inputs, num_classes):\n",
    "        super(NeuralNetwork, self).__init__()\n",
    "        self.linear_relu_stack = nn.Sequential(\n",
    "        nn.Linear(num_inputs, 184),\n",
    "        nn.LeakyReLU(),\n",
    "        nn.Linear(184, 184),\n",
    "        nn.LeakyReLU(),\n",
    "        nn.Linear(184, 25),\n",
    "        nn.LeakyReLU(),\n",
    "        nn.Linear(25, num_classes)\n",
    "    )\n",
    "\n",
    "    def forward(self, x):\n",
    "        logits = self.linear_relu_stack(x)\n",
    "        return logits\n",
    "\n",
    "model=NeuralNetwork(92,7)\n",
    "print(model.to(device))\n"
   ]
  },
  {
   "cell_type": "code",
   "execution_count": 12,
   "metadata": {
    "colab": {
     "base_uri": "https://localhost:8080/"
    },
    "executionInfo": {
     "elapsed": 6,
     "status": "ok",
     "timestamp": 1713443383607,
     "user": {
      "displayName": "Konstantin Eidelman",
      "userId": "17829340596789731820"
     },
     "user_tz": -180
    },
    "id": "NFHQPIerxjuc",
    "outputId": "be9e3699-17d3-4330-9222-d99668ea5ced"
   },
   "outputs": [
    {
     "data": {
      "text/plain": [
       "==========================================================================================\n",
       "Layer (type:depth-idx)                   Output Shape              Param #\n",
       "==========================================================================================\n",
       "NeuralNetwork                            [1, 7]                    --\n",
       "├─Sequential: 1-1                        [1, 7]                    --\n",
       "│    └─Linear: 2-1                       [1, 184]                  17,112\n",
       "│    └─LeakyReLU: 2-2                    [1, 184]                  --\n",
       "│    └─Linear: 2-3                       [1, 184]                  34,040\n",
       "│    └─LeakyReLU: 2-4                    [1, 184]                  --\n",
       "│    └─Linear: 2-5                       [1, 25]                   4,625\n",
       "│    └─LeakyReLU: 2-6                    [1, 25]                   --\n",
       "│    └─Linear: 2-7                       [1, 7]                    182\n",
       "==========================================================================================\n",
       "Total params: 55,959\n",
       "Trainable params: 55,959\n",
       "Non-trainable params: 0\n",
       "Total mult-adds (M): 0.06\n",
       "==========================================================================================\n",
       "Input size (MB): 0.00\n",
       "Forward/backward pass size (MB): 0.00\n",
       "Params size (MB): 0.22\n",
       "Estimated Total Size (MB): 0.23\n",
       "=========================================================================================="
      ]
     },
     "execution_count": 12,
     "metadata": {},
     "output_type": "execute_result"
    }
   ],
   "source": [
    "from torchinfo import summary\n",
    "summary(model,input_size=(1,92))"
   ]
  },
  {
   "cell_type": "code",
   "execution_count": 13,
   "metadata": {},
   "outputs": [],
   "source": [
    "optimizer = optim.Adam(model.parameters(), lr = 0.00005)\n",
    "criterion = nn.CrossEntropyLoss()"
   ]
  },
  {
   "cell_type": "code",
   "execution_count": 14,
   "metadata": {},
   "outputs": [],
   "source": [
    "!pip install pytorch-ignite --quiet"
   ]
  },
  {
   "cell_type": "code",
   "execution_count": 15,
   "metadata": {},
   "outputs": [],
   "source": [
    "from ignite.engine import Events, create_supervised_trainer, create_supervised_evaluator\n",
    "from ignite.metrics import Accuracy, Loss, RunningAverage, ConfusionMatrix\n",
    "from ignite.handlers import ModelCheckpoint, EarlyStopping\n",
    "from ignite.contrib.handlers import ProgressBar, HandlersTimeProfiler\n",
    "from ignite.handlers import Checkpoint, global_step_from_engine"
   ]
  },
  {
   "cell_type": "code",
   "execution_count": 16,
   "metadata": {},
   "outputs": [],
   "source": [
    "trainer = create_supervised_trainer(model, optimizer, criterion, device=device)"
   ]
  },
  {
   "cell_type": "code",
   "execution_count": 17,
   "metadata": {},
   "outputs": [],
   "source": [
    "metrics = { \"loss\" : Loss(criterion), \n",
    "           \"accuracy\" : Accuracy(),\n",
    "            \"cm\": ConfusionMatrix(num_classes=7)}"
   ]
  },
  {
   "cell_type": "code",
   "execution_count": 18,
   "metadata": {},
   "outputs": [],
   "source": [
    "train_evaluator = create_supervised_evaluator(model, metrics = metrics, device = device)\n",
    "test_evaluator = create_supervised_evaluator(model, metrics = metrics, device = device)"
   ]
  },
  {
   "cell_type": "code",
   "execution_count": 19,
   "metadata": {},
   "outputs": [],
   "source": [
    "training_history = {'accuracy':[],'loss':[]}\n",
    "test_history = {'accuracy':[],'loss':[]}\n",
    "last_epoch = []"
   ]
  },
  {
   "cell_type": "code",
   "execution_count": 20,
   "metadata": {},
   "outputs": [],
   "source": [
    "@trainer.on(Events.EPOCH_COMPLETED)\n",
    "def log_training_results(trainer):\n",
    "    train_evaluator.run(train_loader)\n",
    "    metrics = train_evaluator.state.metrics\n",
    "    accuracy = metrics['accuracy']*100\n",
    "    loss = metrics['loss']\n",
    "    last_epoch.append(0)\n",
    "    training_history['accuracy'].append(accuracy)\n",
    "    training_history['loss'].append(loss)\n",
    "    print(\"Результат обучения - Эпоха: {}  Сред. точность: {:.2f} Сред. ошибка: {:.5f}\"\n",
    "          .format(trainer.state.epoch, accuracy, loss))"
   ]
  },
  {
   "cell_type": "code",
   "execution_count": 21,
   "metadata": {},
   "outputs": [],
   "source": [
    "@trainer.on(Events.EPOCH_COMPLETED)\n",
    "def log_test_results(trainer):\n",
    "    test_evaluator.run(test_loader)\n",
    "    metrics = test_evaluator.state.metrics\n",
    "    accuracy = metrics['accuracy']*100\n",
    "    loss = metrics['loss']\n",
    "    test_history['accuracy'].append(accuracy)\n",
    "    test_history['loss'].append(loss)\n",
    "    print(\"Результат валидации - Эпоха: {}  Сред. точность: {:.2f} Сред. ошибка: {:.5f}\"\n",
    "          .format(trainer.state.epoch, accuracy, loss))"
   ]
  },
  {
   "cell_type": "code",
   "execution_count": 22,
   "metadata": {},
   "outputs": [],
   "source": [
    "#breaker = EarlyStopping(patience = 20, score_function = lambda engine : engine.state.metrics['accuracy'],\n",
    "#                       trainer = trainer)\n",
    "#test_evaluator.add_event_handler(Events.COMPLETED, breaker);"
   ]
  },
  {
   "cell_type": "code",
   "execution_count": 23,
   "metadata": {},
   "outputs": [],
   "source": [
    "to_save = {'model': model}\n",
    "saver = Checkpoint(\n",
    "    to_save, './models',\n",
    "    n_saved=2, filename_prefix='best',\n",
    "    score_name=\"accuracy\",\n",
    "    global_step_transform=global_step_from_engine(trainer),\n",
    ")\n",
    "test_evaluator.add_event_handler(Events.COMPLETED, saver);"
   ]
  },
  {
   "cell_type": "code",
   "execution_count": 24,
   "metadata": {},
   "outputs": [],
   "source": [
    "from tqdm.autonotebook import tqdm\n",
    "profiler = HandlersTimeProfiler()\n",
    "profiler.attach(trainer)\n",
    "pbar = ProgressBar(persist=True,\n",
    "    bar_format = '')\n",
    "pbar.attach(trainer, output_transform = lambda x : {\"loss\" : x})"
   ]
  },
  {
   "cell_type": "code",
   "execution_count": 25,
   "metadata": {},
   "outputs": [],
   "source": [
    "@trainer.on(Events.COMPLETED)\n",
    "def log_confusion_matrix(trainer):\n",
    "    test_evaluator.run(test_loader)\n",
    "    metrics = test_evaluator.state.metrics\n",
    "    cm = metrics['cm']\n",
    "    cm = cm.numpy()\n",
    "    cm = cm.astype(int)\n",
    "    classes = ['Сидение', 'Ходьба по ровной поверхности', 'Поднятие по рампе', 'Спуск по рампе', 'Поднятие по лестнице', 'Спуск по лестнице', 'Стояние']\n",
    "    fig, ax = plt.subplots(figsize=(5,5))  \n",
    "    ax= plt.subplot()\n",
    "    sns.heatmap(cm, annot=True, ax = ax,fmt=\"d\")\n",
    "    # labels, title and ticks\n",
    "    ax.set_xlabel('Предсказанные классы')\n",
    "    ax.set_ylabel('Реальные классы') \n",
    "    ax.set_title('Матрица ошибок') \n",
    "    ax.xaxis.set_ticklabels(classes,rotation=90)\n",
    "    ax.yaxis.set_ticklabels(classes,rotation=0)"
   ]
  },
  {
   "cell_type": "code",
   "execution_count": 26,
   "metadata": {},
   "outputs": [
    {
     "data": {
      "application/vnd.jupyter.widget-view+json": {
       "model_id": "e226e1a0c80040aea54b225b5b07aa55",
       "version_major": 2,
       "version_minor": 0
      },
      "text/plain": [
       "  1%|          | 1/134 [00:00<?, ?it/s]"
      ]
     },
     "metadata": {},
     "output_type": "display_data"
    },
    {
     "name": "stdout",
     "output_type": "stream",
     "text": [
      "Результат обучения - Эпоха: 1  Сред. точность: 44.79 Сред. ошибка: 1.81472\n",
      "Результат валидации - Эпоха: 1  Сред. точность: 45.29 Сред. ошибка: 1.81538\n"
     ]
    },
    {
     "data": {
      "application/vnd.jupyter.widget-view+json": {
       "model_id": "f553120e8342493fb1dd78d1544cc7d3",
       "version_major": 2,
       "version_minor": 0
      },
      "text/plain": [
       "  1%|          | 1/134 [00:00<?, ?it/s]"
      ]
     },
     "metadata": {},
     "output_type": "display_data"
    },
    {
     "name": "stdout",
     "output_type": "stream",
     "text": [
      "Результат обучения - Эпоха: 2  Сред. точность: 50.10 Сред. ошибка: 1.51570\n",
      "Результат валидации - Эпоха: 2  Сред. точность: 50.23 Сред. ошибка: 1.51616\n"
     ]
    },
    {
     "data": {
      "application/vnd.jupyter.widget-view+json": {
       "model_id": "80ccca2537aa4606a5ae55a2df78b146",
       "version_major": 2,
       "version_minor": 0
      },
      "text/plain": [
       "  1%|          | 1/134 [00:00<?, ?it/s]"
      ]
     },
     "metadata": {},
     "output_type": "display_data"
    },
    {
     "name": "stdout",
     "output_type": "stream",
     "text": [
      "Результат обучения - Эпоха: 3  Сред. точность: 55.17 Сред. ошибка: 1.29548\n",
      "Результат валидации - Эпоха: 3  Сред. точность: 54.47 Сред. ошибка: 1.29874\n"
     ]
    },
    {
     "data": {
      "application/vnd.jupyter.widget-view+json": {
       "model_id": "e579a2d225e1407897c1f363c95586aa",
       "version_major": 2,
       "version_minor": 0
      },
      "text/plain": [
       "  1%|          | 1/134 [00:00<?, ?it/s]"
      ]
     },
     "metadata": {},
     "output_type": "display_data"
    },
    {
     "name": "stdout",
     "output_type": "stream",
     "text": [
      "Результат обучения - Эпоха: 4  Сред. точность: 60.32 Сред. ошибка: 1.15591\n",
      "Результат валидации - Эпоха: 4  Сред. точность: 59.73 Сред. ошибка: 1.15952\n"
     ]
    },
    {
     "data": {
      "application/vnd.jupyter.widget-view+json": {
       "model_id": "0911af5a7f8449c6b2d4574c7a5c9ecd",
       "version_major": 2,
       "version_minor": 0
      },
      "text/plain": [
       "  1%|          | 1/134 [00:00<?, ?it/s]"
      ]
     },
     "metadata": {},
     "output_type": "display_data"
    },
    {
     "name": "stdout",
     "output_type": "stream",
     "text": [
      "Результат обучения - Эпоха: 5  Сред. точность: 64.34 Сред. ошибка: 1.04393\n",
      "Результат валидации - Эпоха: 5  Сред. точность: 63.92 Сред. ошибка: 1.04749\n"
     ]
    },
    {
     "data": {
      "application/vnd.jupyter.widget-view+json": {
       "model_id": "b7fb4f12d9fd4b8b90dd3b544e869dee",
       "version_major": 2,
       "version_minor": 0
      },
      "text/plain": [
       "  1%|          | 1/134 [00:00<?, ?it/s]"
      ]
     },
     "metadata": {},
     "output_type": "display_data"
    },
    {
     "name": "stdout",
     "output_type": "stream",
     "text": [
      "Результат обучения - Эпоха: 6  Сред. точность: 68.54 Сред. ошибка: 0.94872\n",
      "Результат валидации - Эпоха: 6  Сред. точность: 67.76 Сред. ошибка: 0.95309\n"
     ]
    },
    {
     "data": {
      "application/vnd.jupyter.widget-view+json": {
       "model_id": "fd00801a87a6460fb48778909bcada47",
       "version_major": 2,
       "version_minor": 0
      },
      "text/plain": [
       "  1%|          | 1/134 [00:00<?, ?it/s]"
      ]
     },
     "metadata": {},
     "output_type": "display_data"
    },
    {
     "name": "stdout",
     "output_type": "stream",
     "text": [
      "Результат обучения - Эпоха: 7  Сред. точность: 71.58 Сред. ошибка: 0.87239\n",
      "Результат валидации - Эпоха: 7  Сред. точность: 71.21 Сред. ошибка: 0.87803\n"
     ]
    },
    {
     "data": {
      "application/vnd.jupyter.widget-view+json": {
       "model_id": "1ed0355b795e403da4c666019aac2ce0",
       "version_major": 2,
       "version_minor": 0
      },
      "text/plain": [
       "  1%|          | 1/134 [00:00<?, ?it/s]"
      ]
     },
     "metadata": {},
     "output_type": "display_data"
    },
    {
     "name": "stdout",
     "output_type": "stream",
     "text": [
      "Результат обучения - Эпоха: 8  Сред. точность: 73.65 Сред. ошибка: 0.81270\n",
      "Результат валидации - Эпоха: 8  Сред. точность: 73.34 Сред. ошибка: 0.81977\n"
     ]
    },
    {
     "data": {
      "application/vnd.jupyter.widget-view+json": {
       "model_id": "d4102757d826401d8b41c34ddfd540b7",
       "version_major": 2,
       "version_minor": 0
      },
      "text/plain": [
       "  1%|          | 1/134 [00:00<?, ?it/s]"
      ]
     },
     "metadata": {},
     "output_type": "display_data"
    },
    {
     "name": "stdout",
     "output_type": "stream",
     "text": [
      "Результат обучения - Эпоха: 9  Сред. точность: 75.42 Сред. ошибка: 0.76547\n",
      "Результат валидации - Эпоха: 9  Сред. точность: 75.07 Сред. ошибка: 0.77426\n"
     ]
    },
    {
     "data": {
      "application/vnd.jupyter.widget-view+json": {
       "model_id": "9a33156802a94618932b9c1d8bb650e6",
       "version_major": 2,
       "version_minor": 0
      },
      "text/plain": [
       "  1%|          | 1/134 [00:00<?, ?it/s]"
      ]
     },
     "metadata": {},
     "output_type": "display_data"
    },
    {
     "name": "stdout",
     "output_type": "stream",
     "text": [
      "Результат обучения - Эпоха: 10  Сред. точность: 76.65 Сред. ошибка: 0.72708\n",
      "Результат валидации - Эпоха: 10  Сред. точность: 76.45 Сред. ошибка: 0.73630\n"
     ]
    },
    {
     "data": {
      "application/vnd.jupyter.widget-view+json": {
       "model_id": "7b2c0f8c10124a3898b6e176f76acf16",
       "version_major": 2,
       "version_minor": 0
      },
      "text/plain": [
       "  1%|          | 1/134 [00:00<?, ?it/s]"
      ]
     },
     "metadata": {},
     "output_type": "display_data"
    },
    {
     "name": "stdout",
     "output_type": "stream",
     "text": [
      "Результат обучения - Эпоха: 11  Сред. точность: 77.82 Сред. ошибка: 0.69379\n",
      "Результат валидации - Эпоха: 11  Сред. точность: 77.23 Сред. ошибка: 0.70404\n"
     ]
    },
    {
     "data": {
      "application/vnd.jupyter.widget-view+json": {
       "model_id": "32c46d9bf0e24bacbdf9f8b08687e74e",
       "version_major": 2,
       "version_minor": 0
      },
      "text/plain": [
       "  1%|          | 1/134 [00:00<?, ?it/s]"
      ]
     },
     "metadata": {},
     "output_type": "display_data"
    },
    {
     "name": "stdout",
     "output_type": "stream",
     "text": [
      "Результат обучения - Эпоха: 12  Сред. точность: 78.99 Сред. ошибка: 0.66526\n",
      "Результат валидации - Эпоха: 12  Сред. точность: 78.46 Сред. ошибка: 0.67685\n"
     ]
    },
    {
     "data": {
      "application/vnd.jupyter.widget-view+json": {
       "model_id": "81245f15a0d5486fa2809d4e806e2519",
       "version_major": 2,
       "version_minor": 0
      },
      "text/plain": [
       "  1%|          | 1/134 [00:00<?, ?it/s]"
      ]
     },
     "metadata": {},
     "output_type": "display_data"
    },
    {
     "name": "stdout",
     "output_type": "stream",
     "text": [
      "Результат обучения - Эпоха: 13  Сред. точность: 79.73 Сред. ошибка: 0.63994\n",
      "Результат валидации - Эпоха: 13  Сред. точность: 79.56 Сред. ошибка: 0.65291\n"
     ]
    },
    {
     "data": {
      "application/vnd.jupyter.widget-view+json": {
       "model_id": "7759d16d091c4ed4b2f7eabb86363543",
       "version_major": 2,
       "version_minor": 0
      },
      "text/plain": [
       "  1%|          | 1/134 [00:00<?, ?it/s]"
      ]
     },
     "metadata": {},
     "output_type": "display_data"
    },
    {
     "name": "stdout",
     "output_type": "stream",
     "text": [
      "Результат обучения - Эпоха: 14  Сред. точность: 80.50 Сред. ошибка: 0.61807\n",
      "Результат валидации - Эпоха: 14  Сред. точность: 80.06 Сред. ошибка: 0.63194\n"
     ]
    },
    {
     "data": {
      "application/vnd.jupyter.widget-view+json": {
       "model_id": "be75fd396dc043e99ac0f734d0eeba2b",
       "version_major": 2,
       "version_minor": 0
      },
      "text/plain": [
       "  1%|          | 1/134 [00:00<?, ?it/s]"
      ]
     },
     "metadata": {},
     "output_type": "display_data"
    },
    {
     "name": "stdout",
     "output_type": "stream",
     "text": [
      "Результат обучения - Эпоха: 15  Сред. точность: 81.19 Сред. ошибка: 0.59764\n",
      "Результат валидации - Эпоха: 15  Сред. точность: 80.77 Сред. ошибка: 0.61337\n"
     ]
    },
    {
     "data": {
      "application/vnd.jupyter.widget-view+json": {
       "model_id": "a0d719eef0e64b439d5e199481d656a7",
       "version_major": 2,
       "version_minor": 0
      },
      "text/plain": [
       "  1%|          | 1/134 [00:00<?, ?it/s]"
      ]
     },
     "metadata": {},
     "output_type": "display_data"
    },
    {
     "name": "stdout",
     "output_type": "stream",
     "text": [
      "Результат обучения - Эпоха: 16  Сред. точность: 81.81 Сред. ошибка: 0.57929\n",
      "Результат валидации - Эпоха: 16  Сред. точность: 81.51 Сред. ошибка: 0.59583\n"
     ]
    },
    {
     "data": {
      "application/vnd.jupyter.widget-view+json": {
       "model_id": "3bfb0778dc334c9794e0016321b67f87",
       "version_major": 2,
       "version_minor": 0
      },
      "text/plain": [
       "  1%|          | 1/134 [00:00<?, ?it/s]"
      ]
     },
     "metadata": {},
     "output_type": "display_data"
    },
    {
     "name": "stdout",
     "output_type": "stream",
     "text": [
      "Результат обучения - Эпоха: 17  Сред. точность: 82.27 Сред. ошибка: 0.56281\n",
      "Результат валидации - Эпоха: 17  Сред. точность: 82.05 Сред. ошибка: 0.58004\n"
     ]
    },
    {
     "data": {
      "application/vnd.jupyter.widget-view+json": {
       "model_id": "6ff58ba144cb4819b83c6d76949d035d",
       "version_major": 2,
       "version_minor": 0
      },
      "text/plain": [
       "  1%|          | 1/134 [00:00<?, ?it/s]"
      ]
     },
     "metadata": {},
     "output_type": "display_data"
    },
    {
     "name": "stdout",
     "output_type": "stream",
     "text": [
      "Результат обучения - Эпоха: 18  Сред. точность: 82.78 Сред. ошибка: 0.54795\n",
      "Результат валидации - Эпоха: 18  Сред. точность: 82.19 Сред. ошибка: 0.56717\n"
     ]
    },
    {
     "data": {
      "application/vnd.jupyter.widget-view+json": {
       "model_id": "bdc9d4a72b9948e3ac652cab4ba4cc88",
       "version_major": 2,
       "version_minor": 0
      },
      "text/plain": [
       "  1%|          | 1/134 [00:00<?, ?it/s]"
      ]
     },
     "metadata": {},
     "output_type": "display_data"
    },
    {
     "name": "stdout",
     "output_type": "stream",
     "text": [
      "Результат обучения - Эпоха: 19  Сред. точность: 83.40 Сред. ошибка: 0.53379\n",
      "Результат валидации - Эпоха: 19  Сред. точность: 82.96 Сред. ошибка: 0.55368\n"
     ]
    },
    {
     "data": {
      "application/vnd.jupyter.widget-view+json": {
       "model_id": "dcc50ca851d14250ba9ded540dc15a84",
       "version_major": 2,
       "version_minor": 0
      },
      "text/plain": [
       "  1%|          | 1/134 [00:00<?, ?it/s]"
      ]
     },
     "metadata": {},
     "output_type": "display_data"
    },
    {
     "name": "stdout",
     "output_type": "stream",
     "text": [
      "Результат обучения - Эпоха: 20  Сред. точность: 84.00 Сред. ошибка: 0.52034\n",
      "Результат валидации - Эпоха: 20  Сред. точность: 83.18 Сред. ошибка: 0.54224\n"
     ]
    },
    {
     "data": {
      "application/vnd.jupyter.widget-view+json": {
       "model_id": "c8e7017a1fe54155805f1ac5d1a7eb90",
       "version_major": 2,
       "version_minor": 0
      },
      "text/plain": [
       "  1%|          | 1/134 [00:00<?, ?it/s]"
      ]
     },
     "metadata": {},
     "output_type": "display_data"
    },
    {
     "name": "stdout",
     "output_type": "stream",
     "text": [
      "Результат обучения - Эпоха: 21  Сред. точность: 84.30 Сред. ошибка: 0.50883\n",
      "Результат валидации - Эпоха: 21  Сред. точность: 83.42 Сред. ошибка: 0.53165\n"
     ]
    },
    {
     "data": {
      "application/vnd.jupyter.widget-view+json": {
       "model_id": "27b397bec70e4f6e83dea03a82551e36",
       "version_major": 2,
       "version_minor": 0
      },
      "text/plain": [
       "  1%|          | 1/134 [00:00<?, ?it/s]"
      ]
     },
     "metadata": {},
     "output_type": "display_data"
    },
    {
     "name": "stdout",
     "output_type": "stream",
     "text": [
      "Результат обучения - Эпоха: 22  Сред. точность: 84.65 Сред. ошибка: 0.49735\n",
      "Результат валидации - Эпоха: 22  Сред. точность: 83.46 Сред. ошибка: 0.52181\n"
     ]
    },
    {
     "data": {
      "application/vnd.jupyter.widget-view+json": {
       "model_id": "f17eb5e0a4c641fd9a3851c0b2725a74",
       "version_major": 2,
       "version_minor": 0
      },
      "text/plain": [
       "  1%|          | 1/134 [00:00<?, ?it/s]"
      ]
     },
     "metadata": {},
     "output_type": "display_data"
    },
    {
     "name": "stdout",
     "output_type": "stream",
     "text": [
      "Результат обучения - Эпоха: 23  Сред. точность: 85.11 Сред. ошибка: 0.48708\n",
      "Результат валидации - Эпоха: 23  Сред. точность: 84.16 Сред. ошибка: 0.51336\n"
     ]
    },
    {
     "data": {
      "application/vnd.jupyter.widget-view+json": {
       "model_id": "8230ef32286c47bd8c7557f1009b33c8",
       "version_major": 2,
       "version_minor": 0
      },
      "text/plain": [
       "  1%|          | 1/134 [00:00<?, ?it/s]"
      ]
     },
     "metadata": {},
     "output_type": "display_data"
    },
    {
     "name": "stdout",
     "output_type": "stream",
     "text": [
      "Результат обучения - Эпоха: 24  Сред. точность: 85.31 Сред. ошибка: 0.47767\n",
      "Результат валидации - Эпоха: 24  Сред. точность: 83.84 Сред. ошибка: 0.50465\n"
     ]
    },
    {
     "data": {
      "application/vnd.jupyter.widget-view+json": {
       "model_id": "ab8648156ca64004b5891ca761052e93",
       "version_major": 2,
       "version_minor": 0
      },
      "text/plain": [
       "  1%|          | 1/134 [00:00<?, ?it/s]"
      ]
     },
     "metadata": {},
     "output_type": "display_data"
    },
    {
     "name": "stdout",
     "output_type": "stream",
     "text": [
      "Результат обучения - Эпоха: 25  Сред. точность: 85.67 Сред. ошибка: 0.46762\n",
      "Результат валидации - Эпоха: 25  Сред. точность: 84.36 Сред. ошибка: 0.49631\n"
     ]
    },
    {
     "data": {
      "application/vnd.jupyter.widget-view+json": {
       "model_id": "8aa7812f08384c62bdbc7664de1aa20e",
       "version_major": 2,
       "version_minor": 0
      },
      "text/plain": [
       "  1%|          | 1/134 [00:00<?, ?it/s]"
      ]
     },
     "metadata": {},
     "output_type": "display_data"
    },
    {
     "name": "stdout",
     "output_type": "stream",
     "text": [
      "Результат обучения - Эпоха: 26  Сред. точность: 85.88 Сред. ошибка: 0.45891\n",
      "Результат валидации - Эпоха: 26  Сред. точность: 84.46 Сред. ошибка: 0.48961\n"
     ]
    },
    {
     "data": {
      "application/vnd.jupyter.widget-view+json": {
       "model_id": "028c8925e7b440509f0957ab9ee36a37",
       "version_major": 2,
       "version_minor": 0
      },
      "text/plain": [
       "  1%|          | 1/134 [00:00<?, ?it/s]"
      ]
     },
     "metadata": {},
     "output_type": "display_data"
    },
    {
     "name": "stdout",
     "output_type": "stream",
     "text": [
      "Результат обучения - Эпоха: 27  Сред. точность: 86.17 Сред. ошибка: 0.45102\n",
      "Результат валидации - Эпоха: 27  Сред. точность: 84.58 Сред. ошибка: 0.48317\n"
     ]
    },
    {
     "data": {
      "application/vnd.jupyter.widget-view+json": {
       "model_id": "8af4aab45d0c459abd625c719ea7b5ea",
       "version_major": 2,
       "version_minor": 0
      },
      "text/plain": [
       "  1%|          | 1/134 [00:00<?, ?it/s]"
      ]
     },
     "metadata": {},
     "output_type": "display_data"
    },
    {
     "name": "stdout",
     "output_type": "stream",
     "text": [
      "Результат обучения - Эпоха: 28  Сред. точность: 86.43 Сред. ошибка: 0.44318\n",
      "Результат валидации - Эпоха: 28  Сред. точность: 84.92 Сред. ошибка: 0.47645\n"
     ]
    },
    {
     "data": {
      "application/vnd.jupyter.widget-view+json": {
       "model_id": "519f7f8337e945f3811c45bf34468145",
       "version_major": 2,
       "version_minor": 0
      },
      "text/plain": [
       "  1%|          | 1/134 [00:00<?, ?it/s]"
      ]
     },
     "metadata": {},
     "output_type": "display_data"
    },
    {
     "name": "stdout",
     "output_type": "stream",
     "text": [
      "Результат обучения - Эпоха: 29  Сред. точность: 86.63 Сред. ошибка: 0.43598\n",
      "Результат валидации - Эпоха: 29  Сред. точность: 84.82 Сред. ошибка: 0.47056\n"
     ]
    },
    {
     "data": {
      "application/vnd.jupyter.widget-view+json": {
       "model_id": "58adb9f1bcbb450cb3e3d7d8fd90de6c",
       "version_major": 2,
       "version_minor": 0
      },
      "text/plain": [
       "  1%|          | 1/134 [00:00<?, ?it/s]"
      ]
     },
     "metadata": {},
     "output_type": "display_data"
    },
    {
     "name": "stdout",
     "output_type": "stream",
     "text": [
      "Результат обучения - Эпоха: 30  Сред. точность: 86.98 Сред. ошибка: 0.42927\n",
      "Результат валидации - Эпоха: 30  Сред. точность: 85.16 Сред. ошибка: 0.46558\n"
     ]
    },
    {
     "data": {
      "application/vnd.jupyter.widget-view+json": {
       "model_id": "bdcee2d38a9a48f69f44e0a51164d9b9",
       "version_major": 2,
       "version_minor": 0
      },
      "text/plain": [
       "  1%|          | 1/134 [00:00<?, ?it/s]"
      ]
     },
     "metadata": {},
     "output_type": "display_data"
    },
    {
     "name": "stdout",
     "output_type": "stream",
     "text": [
      "Результат обучения - Эпоха: 31  Сред. точность: 87.15 Сред. ошибка: 0.42230\n",
      "Результат валидации - Эпоха: 31  Сред. точность: 85.26 Сред. ошибка: 0.46011\n"
     ]
    },
    {
     "data": {
      "application/vnd.jupyter.widget-view+json": {
       "model_id": "030aa51044054f20986637900acf2388",
       "version_major": 2,
       "version_minor": 0
      },
      "text/plain": [
       "  1%|          | 1/134 [00:00<?, ?it/s]"
      ]
     },
     "metadata": {},
     "output_type": "display_data"
    },
    {
     "name": "stdout",
     "output_type": "stream",
     "text": [
      "Результат обучения - Эпоха: 32  Сред. точность: 87.39 Сред. ошибка: 0.41605\n",
      "Результат валидации - Эпоха: 32  Сред. точность: 85.48 Сред. ошибка: 0.45523\n"
     ]
    },
    {
     "data": {
      "application/vnd.jupyter.widget-view+json": {
       "model_id": "314fa19b6e2c40ae9df879ae2225dfbc",
       "version_major": 2,
       "version_minor": 0
      },
      "text/plain": [
       "  1%|          | 1/134 [00:00<?, ?it/s]"
      ]
     },
     "metadata": {},
     "output_type": "display_data"
    },
    {
     "name": "stdout",
     "output_type": "stream",
     "text": [
      "Результат обучения - Эпоха: 33  Сред. точность: 87.41 Сред. ошибка: 0.41000\n",
      "Результат валидации - Эпоха: 33  Сред. точность: 85.53 Сред. ошибка: 0.44922\n"
     ]
    },
    {
     "data": {
      "application/vnd.jupyter.widget-view+json": {
       "model_id": "6846a48818504789a188f7546b25632f",
       "version_major": 2,
       "version_minor": 0
      },
      "text/plain": [
       "  1%|          | 1/134 [00:00<?, ?it/s]"
      ]
     },
     "metadata": {},
     "output_type": "display_data"
    },
    {
     "name": "stdout",
     "output_type": "stream",
     "text": [
      "Результат обучения - Эпоха: 34  Сред. точность: 87.60 Сред. ошибка: 0.40443\n",
      "Результат валидации - Эпоха: 34  Сред. точность: 85.77 Сред. ошибка: 0.44594\n"
     ]
    },
    {
     "data": {
      "application/vnd.jupyter.widget-view+json": {
       "model_id": "5186dfaeebcc4cc582f730fd64d74cb6",
       "version_major": 2,
       "version_minor": 0
      },
      "text/plain": [
       "  1%|          | 1/134 [00:00<?, ?it/s]"
      ]
     },
     "metadata": {},
     "output_type": "display_data"
    },
    {
     "name": "stdout",
     "output_type": "stream",
     "text": [
      "Результат обучения - Эпоха: 35  Сред. точность: 87.84 Сред. ошибка: 0.40010\n",
      "Результат валидации - Эпоха: 35  Сред. точность: 85.69 Сред. ошибка: 0.44225\n"
     ]
    },
    {
     "data": {
      "application/vnd.jupyter.widget-view+json": {
       "model_id": "a6f86064cb8248eca37b1679683507c8",
       "version_major": 2,
       "version_minor": 0
      },
      "text/plain": [
       "  1%|          | 1/134 [00:00<?, ?it/s]"
      ]
     },
     "metadata": {},
     "output_type": "display_data"
    },
    {
     "name": "stdout",
     "output_type": "stream",
     "text": [
      "Результат обучения - Эпоха: 36  Сред. точность: 87.93 Сред. ошибка: 0.39380\n",
      "Результат валидации - Эпоха: 36  Сред. точность: 85.87 Сред. ошибка: 0.43827\n"
     ]
    },
    {
     "data": {
      "application/vnd.jupyter.widget-view+json": {
       "model_id": "2d08c3489f84435b99f273fa75483d14",
       "version_major": 2,
       "version_minor": 0
      },
      "text/plain": [
       "  1%|          | 1/134 [00:00<?, ?it/s]"
      ]
     },
     "metadata": {},
     "output_type": "display_data"
    },
    {
     "name": "stdout",
     "output_type": "stream",
     "text": [
      "Результат обучения - Эпоха: 37  Сред. точность: 88.10 Сред. ошибка: 0.39002\n",
      "Результат валидации - Эпоха: 37  Сред. точность: 85.87 Сред. ошибка: 0.43524\n"
     ]
    },
    {
     "data": {
      "application/vnd.jupyter.widget-view+json": {
       "model_id": "745f76ccf5a941989a26ef4c25098afa",
       "version_major": 2,
       "version_minor": 0
      },
      "text/plain": [
       "  1%|          | 1/134 [00:00<?, ?it/s]"
      ]
     },
     "metadata": {},
     "output_type": "display_data"
    },
    {
     "name": "stdout",
     "output_type": "stream",
     "text": [
      "Результат обучения - Эпоха: 38  Сред. точность: 88.31 Сред. ошибка: 0.38492\n",
      "Результат валидации - Эпоха: 38  Сред. точность: 86.15 Сред. ошибка: 0.43043\n"
     ]
    },
    {
     "data": {
      "application/vnd.jupyter.widget-view+json": {
       "model_id": "3d052dfc5c1e40ddae95faaaa7272398",
       "version_major": 2,
       "version_minor": 0
      },
      "text/plain": [
       "  1%|          | 1/134 [00:00<?, ?it/s]"
      ]
     },
     "metadata": {},
     "output_type": "display_data"
    },
    {
     "name": "stdout",
     "output_type": "stream",
     "text": [
      "Результат обучения - Эпоха: 39  Сред. точность: 88.49 Сред. ошибка: 0.38052\n",
      "Результат валидации - Эпоха: 39  Сред. точность: 86.23 Сред. ошибка: 0.42780\n"
     ]
    },
    {
     "data": {
      "application/vnd.jupyter.widget-view+json": {
       "model_id": "11fd80f536454fa4b38894b5fd6a0a3d",
       "version_major": 2,
       "version_minor": 0
      },
      "text/plain": [
       "  1%|          | 1/134 [00:00<?, ?it/s]"
      ]
     },
     "metadata": {},
     "output_type": "display_data"
    },
    {
     "name": "stdout",
     "output_type": "stream",
     "text": [
      "Результат обучения - Эпоха: 40  Сред. точность: 88.58 Сред. ошибка: 0.37563\n",
      "Результат валидации - Эпоха: 40  Сред. точность: 86.27 Сред. ошибка: 0.42433\n"
     ]
    },
    {
     "data": {
      "application/vnd.jupyter.widget-view+json": {
       "model_id": "7954dbeb4fe745c3b2f3286d3fa77320",
       "version_major": 2,
       "version_minor": 0
      },
      "text/plain": [
       "  1%|          | 1/134 [00:00<?, ?it/s]"
      ]
     },
     "metadata": {},
     "output_type": "display_data"
    },
    {
     "name": "stdout",
     "output_type": "stream",
     "text": [
      "Результат обучения - Эпоха: 41  Сред. точность: 88.66 Сред. ошибка: 0.37162\n",
      "Результат валидации - Эпоха: 41  Сред. точность: 86.33 Сред. ошибка: 0.42077\n"
     ]
    },
    {
     "data": {
      "application/vnd.jupyter.widget-view+json": {
       "model_id": "3ccddb7031f344519c076fb26531c5b2",
       "version_major": 2,
       "version_minor": 0
      },
      "text/plain": [
       "  1%|          | 1/134 [00:00<?, ?it/s]"
      ]
     },
     "metadata": {},
     "output_type": "display_data"
    },
    {
     "name": "stdout",
     "output_type": "stream",
     "text": [
      "Результат обучения - Эпоха: 42  Сред. точность: 88.69 Сред. ошибка: 0.36800\n",
      "Результат валидации - Эпоха: 42  Сред. точность: 86.67 Сред. ошибка: 0.41922\n"
     ]
    },
    {
     "data": {
      "application/vnd.jupyter.widget-view+json": {
       "model_id": "0f445f5840914c4b9197cdf937494bb0",
       "version_major": 2,
       "version_minor": 0
      },
      "text/plain": [
       "  1%|          | 1/134 [00:00<?, ?it/s]"
      ]
     },
     "metadata": {},
     "output_type": "display_data"
    },
    {
     "name": "stdout",
     "output_type": "stream",
     "text": [
      "Результат обучения - Эпоха: 43  Сред. точность: 88.90 Сред. ошибка: 0.36336\n",
      "Результат валидации - Эпоха: 43  Сред. точность: 86.71 Сред. ошибка: 0.41615\n"
     ]
    },
    {
     "data": {
      "application/vnd.jupyter.widget-view+json": {
       "model_id": "83221f7b924549be99124d6684b65b72",
       "version_major": 2,
       "version_minor": 0
      },
      "text/plain": [
       "  1%|          | 1/134 [00:00<?, ?it/s]"
      ]
     },
     "metadata": {},
     "output_type": "display_data"
    },
    {
     "name": "stdout",
     "output_type": "stream",
     "text": [
      "Результат обучения - Эпоха: 44  Сред. точность: 89.00 Сред. ошибка: 0.35975\n",
      "Результат валидации - Эпоха: 44  Сред. точность: 86.81 Сред. ошибка: 0.41176\n"
     ]
    },
    {
     "data": {
      "application/vnd.jupyter.widget-view+json": {
       "model_id": "3ba448a27ad34e5a81d987d344a66ecf",
       "version_major": 2,
       "version_minor": 0
      },
      "text/plain": [
       "  1%|          | 1/134 [00:00<?, ?it/s]"
      ]
     },
     "metadata": {},
     "output_type": "display_data"
    },
    {
     "name": "stdout",
     "output_type": "stream",
     "text": [
      "Результат обучения - Эпоха: 45  Сред. точность: 89.11 Сред. ошибка: 0.35581\n",
      "Результат валидации - Эпоха: 45  Сред. точность: 86.81 Сред. ошибка: 0.40973\n"
     ]
    },
    {
     "data": {
      "application/vnd.jupyter.widget-view+json": {
       "model_id": "585741268f4f4eb29f26135254c4989f",
       "version_major": 2,
       "version_minor": 0
      },
      "text/plain": [
       "  1%|          | 1/134 [00:00<?, ?it/s]"
      ]
     },
     "metadata": {},
     "output_type": "display_data"
    },
    {
     "name": "stdout",
     "output_type": "stream",
     "text": [
      "Результат обучения - Эпоха: 46  Сред. точность: 89.07 Сред. ошибка: 0.35337\n",
      "Результат валидации - Эпоха: 46  Сред. точность: 86.79 Сред. ошибка: 0.40866\n"
     ]
    },
    {
     "data": {
      "application/vnd.jupyter.widget-view+json": {
       "model_id": "e0f038cac56a416f9275f852def3664a",
       "version_major": 2,
       "version_minor": 0
      },
      "text/plain": [
       "  1%|          | 1/134 [00:00<?, ?it/s]"
      ]
     },
     "metadata": {},
     "output_type": "display_data"
    },
    {
     "name": "stdout",
     "output_type": "stream",
     "text": [
      "Результат обучения - Эпоха: 47  Сред. точность: 89.15 Сред. ошибка: 0.34974\n",
      "Результат валидации - Эпоха: 47  Сред. точность: 86.97 Сред. ошибка: 0.40541\n"
     ]
    },
    {
     "data": {
      "application/vnd.jupyter.widget-view+json": {
       "model_id": "17979fa43c1d4a2499f564b6012ebbcd",
       "version_major": 2,
       "version_minor": 0
      },
      "text/plain": [
       "  1%|          | 1/134 [00:00<?, ?it/s]"
      ]
     },
     "metadata": {},
     "output_type": "display_data"
    },
    {
     "name": "stdout",
     "output_type": "stream",
     "text": [
      "Результат обучения - Эпоха: 48  Сред. точность: 89.53 Сред. ошибка: 0.34624\n",
      "Результат валидации - Эпоха: 48  Сред. точность: 87.01 Сред. ошибка: 0.40326\n"
     ]
    },
    {
     "data": {
      "application/vnd.jupyter.widget-view+json": {
       "model_id": "69200be040cb4a71bfb6c1173052ba9a",
       "version_major": 2,
       "version_minor": 0
      },
      "text/plain": [
       "  1%|          | 1/134 [00:00<?, ?it/s]"
      ]
     },
     "metadata": {},
     "output_type": "display_data"
    },
    {
     "name": "stdout",
     "output_type": "stream",
     "text": [
      "Результат обучения - Эпоха: 49  Сред. точность: 89.48 Сред. ошибка: 0.34251\n",
      "Результат валидации - Эпоха: 49  Сред. точность: 87.17 Сред. ошибка: 0.40095\n"
     ]
    },
    {
     "data": {
      "application/vnd.jupyter.widget-view+json": {
       "model_id": "361a958ae7f243efbeeb1e0e95e3dc5d",
       "version_major": 2,
       "version_minor": 0
      },
      "text/plain": [
       "  1%|          | 1/134 [00:00<?, ?it/s]"
      ]
     },
     "metadata": {},
     "output_type": "display_data"
    },
    {
     "name": "stdout",
     "output_type": "stream",
     "text": [
      "Результат обучения - Эпоха: 50  Сред. точность: 89.46 Сред. ошибка: 0.33965\n",
      "Результат валидации - Эпоха: 50  Сред. точность: 87.27 Сред. ошибка: 0.39856\n"
     ]
    },
    {
     "data": {
      "application/vnd.jupyter.widget-view+json": {
       "model_id": "eda5c7fb50b84018be86cd14249f06f4",
       "version_major": 2,
       "version_minor": 0
      },
      "text/plain": [
       "  1%|          | 1/134 [00:00<?, ?it/s]"
      ]
     },
     "metadata": {},
     "output_type": "display_data"
    },
    {
     "name": "stdout",
     "output_type": "stream",
     "text": [
      "Результат обучения - Эпоха: 51  Сред. точность: 89.61 Сред. ошибка: 0.33647\n",
      "Результат валидации - Эпоха: 51  Сред. точность: 87.15 Сред. ошибка: 0.39767\n"
     ]
    },
    {
     "data": {
      "application/vnd.jupyter.widget-view+json": {
       "model_id": "a18ce4b8818c44ca83b422fed8a95f43",
       "version_major": 2,
       "version_minor": 0
      },
      "text/plain": [
       "  1%|          | 1/134 [00:00<?, ?it/s]"
      ]
     },
     "metadata": {},
     "output_type": "display_data"
    },
    {
     "name": "stdout",
     "output_type": "stream",
     "text": [
      "Результат обучения - Эпоха: 52  Сред. точность: 89.85 Сред. ошибка: 0.33361\n",
      "Результат валидации - Эпоха: 52  Сред. точность: 87.35 Сред. ошибка: 0.39391\n"
     ]
    },
    {
     "data": {
      "application/vnd.jupyter.widget-view+json": {
       "model_id": "7a68ec09b08a44758d3b147340ed4cec",
       "version_major": 2,
       "version_minor": 0
      },
      "text/plain": [
       "  1%|          | 1/134 [00:00<?, ?it/s]"
      ]
     },
     "metadata": {},
     "output_type": "display_data"
    },
    {
     "name": "stdout",
     "output_type": "stream",
     "text": [
      "Результат обучения - Эпоха: 53  Сред. точность: 89.92 Сред. ошибка: 0.33112\n",
      "Результат валидации - Эпоха: 53  Сред. точность: 87.31 Сред. ошибка: 0.39270\n"
     ]
    },
    {
     "data": {
      "application/vnd.jupyter.widget-view+json": {
       "model_id": "317db2da101646599ddc88ac6cc701aa",
       "version_major": 2,
       "version_minor": 0
      },
      "text/plain": [
       "  1%|          | 1/134 [00:00<?, ?it/s]"
      ]
     },
     "metadata": {},
     "output_type": "display_data"
    },
    {
     "name": "stdout",
     "output_type": "stream",
     "text": [
      "Результат обучения - Эпоха: 54  Сред. точность: 89.99 Сред. ошибка: 0.32876\n",
      "Результат валидации - Эпоха: 54  Сред. точность: 87.57 Сред. ошибка: 0.39143\n"
     ]
    },
    {
     "data": {
      "application/vnd.jupyter.widget-view+json": {
       "model_id": "904d37ce041f4ce4a8106da310347106",
       "version_major": 2,
       "version_minor": 0
      },
      "text/plain": [
       "  1%|          | 1/134 [00:00<?, ?it/s]"
      ]
     },
     "metadata": {},
     "output_type": "display_data"
    },
    {
     "name": "stdout",
     "output_type": "stream",
     "text": [
      "Результат обучения - Эпоха: 55  Сред. точность: 90.07 Сред. ошибка: 0.32652\n",
      "Результат валидации - Эпоха: 55  Сред. точность: 87.29 Сред. ошибка: 0.39154\n"
     ]
    },
    {
     "data": {
      "application/vnd.jupyter.widget-view+json": {
       "model_id": "4dbfdc0c9f7f4482b8ad0aa02662479d",
       "version_major": 2,
       "version_minor": 0
      },
      "text/plain": [
       "  1%|          | 1/134 [00:00<?, ?it/s]"
      ]
     },
     "metadata": {},
     "output_type": "display_data"
    },
    {
     "name": "stdout",
     "output_type": "stream",
     "text": [
      "Результат обучения - Эпоха: 56  Сред. точность: 90.14 Сред. ошибка: 0.32361\n",
      "Результат валидации - Эпоха: 56  Сред. точность: 87.73 Сред. ошибка: 0.38920\n"
     ]
    },
    {
     "data": {
      "application/vnd.jupyter.widget-view+json": {
       "model_id": "3b0944250f5c45c0bf6a5b175d200800",
       "version_major": 2,
       "version_minor": 0
      },
      "text/plain": [
       "  1%|          | 1/134 [00:00<?, ?it/s]"
      ]
     },
     "metadata": {},
     "output_type": "display_data"
    },
    {
     "name": "stdout",
     "output_type": "stream",
     "text": [
      "Результат обучения - Эпоха: 57  Сред. точность: 90.24 Сред. ошибка: 0.31970\n",
      "Результат валидации - Эпоха: 57  Сред. точность: 87.59 Сред. ошибка: 0.38591\n"
     ]
    },
    {
     "data": {
      "application/vnd.jupyter.widget-view+json": {
       "model_id": "1cbb17cec77048a29c96c0b4064908e0",
       "version_major": 2,
       "version_minor": 0
      },
      "text/plain": [
       "  1%|          | 1/134 [00:00<?, ?it/s]"
      ]
     },
     "metadata": {},
     "output_type": "display_data"
    },
    {
     "name": "stdout",
     "output_type": "stream",
     "text": [
      "Результат обучения - Эпоха: 58  Сред. точность: 90.30 Сред. ошибка: 0.31814\n",
      "Результат валидации - Эпоха: 58  Сред. точность: 87.73 Сред. ошибка: 0.38497\n"
     ]
    },
    {
     "data": {
      "application/vnd.jupyter.widget-view+json": {
       "model_id": "ac0eb89304394cb1a5d589c7f347a057",
       "version_major": 2,
       "version_minor": 0
      },
      "text/plain": [
       "  1%|          | 1/134 [00:00<?, ?it/s]"
      ]
     },
     "metadata": {},
     "output_type": "display_data"
    },
    {
     "name": "stdout",
     "output_type": "stream",
     "text": [
      "Результат обучения - Эпоха: 59  Сред. точность: 90.35 Сред. ошибка: 0.31470\n",
      "Результат валидации - Эпоха: 59  Сред. точность: 87.57 Сред. ошибка: 0.38244\n"
     ]
    },
    {
     "data": {
      "application/vnd.jupyter.widget-view+json": {
       "model_id": "24fdfd7d5c784cf4a481b05e3ea10962",
       "version_major": 2,
       "version_minor": 0
      },
      "text/plain": [
       "  1%|          | 1/134 [00:00<?, ?it/s]"
      ]
     },
     "metadata": {},
     "output_type": "display_data"
    },
    {
     "name": "stdout",
     "output_type": "stream",
     "text": [
      "Результат обучения - Эпоха: 60  Сред. точность: 90.40 Сред. ошибка: 0.31230\n",
      "Результат валидации - Эпоха: 60  Сред. точность: 87.75 Сред. ошибка: 0.38185\n"
     ]
    },
    {
     "data": {
      "application/vnd.jupyter.widget-view+json": {
       "model_id": "bac5e6e182d440068a0c51fe5f6803a2",
       "version_major": 2,
       "version_minor": 0
      },
      "text/plain": [
       "  1%|          | 1/134 [00:00<?, ?it/s]"
      ]
     },
     "metadata": {},
     "output_type": "display_data"
    },
    {
     "name": "stdout",
     "output_type": "stream",
     "text": [
      "Результат обучения - Эпоха: 61  Сред. точность: 90.51 Сред. ошибка: 0.31025\n",
      "Результат валидации - Эпоха: 61  Сред. точность: 87.79 Сред. ошибка: 0.37892\n"
     ]
    },
    {
     "data": {
      "application/vnd.jupyter.widget-view+json": {
       "model_id": "cddef46e86864f2d90127d6cf3f3c708",
       "version_major": 2,
       "version_minor": 0
      },
      "text/plain": [
       "  1%|          | 1/134 [00:00<?, ?it/s]"
      ]
     },
     "metadata": {},
     "output_type": "display_data"
    },
    {
     "name": "stdout",
     "output_type": "stream",
     "text": [
      "Результат обучения - Эпоха: 62  Сред. точность: 90.64 Сред. ошибка: 0.30751\n",
      "Результат валидации - Эпоха: 62  Сред. точность: 87.87 Сред. ошибка: 0.37746\n"
     ]
    },
    {
     "data": {
      "application/vnd.jupyter.widget-view+json": {
       "model_id": "64c1cb40c653427ab7cb33d8ce4d131a",
       "version_major": 2,
       "version_minor": 0
      },
      "text/plain": [
       "  1%|          | 1/134 [00:00<?, ?it/s]"
      ]
     },
     "metadata": {},
     "output_type": "display_data"
    },
    {
     "name": "stdout",
     "output_type": "stream",
     "text": [
      "Результат обучения - Эпоха: 63  Сред. точность: 90.62 Сред. ошибка: 0.30522\n",
      "Результат валидации - Эпоха: 63  Сред. точность: 87.71 Сред. ошибка: 0.37711\n"
     ]
    },
    {
     "data": {
      "application/vnd.jupyter.widget-view+json": {
       "model_id": "fdc8a1cc028a43d5aa821f64a3c18436",
       "version_major": 2,
       "version_minor": 0
      },
      "text/plain": [
       "  1%|          | 1/134 [00:00<?, ?it/s]"
      ]
     },
     "metadata": {},
     "output_type": "display_data"
    },
    {
     "name": "stdout",
     "output_type": "stream",
     "text": [
      "Результат обучения - Эпоха: 64  Сред. точность: 90.71 Сред. ошибка: 0.30277\n",
      "Результат валидации - Эпоха: 64  Сред. точность: 87.83 Сред. ошибка: 0.37487\n"
     ]
    },
    {
     "data": {
      "application/vnd.jupyter.widget-view+json": {
       "model_id": "64cb4ffb5d2c4736b035ca01b9419a1d",
       "version_major": 2,
       "version_minor": 0
      },
      "text/plain": [
       "  1%|          | 1/134 [00:00<?, ?it/s]"
      ]
     },
     "metadata": {},
     "output_type": "display_data"
    },
    {
     "name": "stdout",
     "output_type": "stream",
     "text": [
      "Результат обучения - Эпоха: 65  Сред. точность: 90.87 Сред. ошибка: 0.30082\n",
      "Результат валидации - Эпоха: 65  Сред. точность: 88.03 Сред. ошибка: 0.37483\n"
     ]
    },
    {
     "data": {
      "application/vnd.jupyter.widget-view+json": {
       "model_id": "6e68351759994c8a83f8de6bd3939932",
       "version_major": 2,
       "version_minor": 0
      },
      "text/plain": [
       "  1%|          | 1/134 [00:00<?, ?it/s]"
      ]
     },
     "metadata": {},
     "output_type": "display_data"
    },
    {
     "name": "stdout",
     "output_type": "stream",
     "text": [
      "Результат обучения - Эпоха: 66  Сред. точность: 90.83 Сред. ошибка: 0.29831\n",
      "Результат валидации - Эпоха: 66  Сред. точность: 87.91 Сред. ошибка: 0.37245\n"
     ]
    },
    {
     "data": {
      "application/vnd.jupyter.widget-view+json": {
       "model_id": "2885aed8919a436f8b7ccf9a5d0d7aa1",
       "version_major": 2,
       "version_minor": 0
      },
      "text/plain": [
       "  1%|          | 1/134 [00:00<?, ?it/s]"
      ]
     },
     "metadata": {},
     "output_type": "display_data"
    },
    {
     "name": "stdout",
     "output_type": "stream",
     "text": [
      "Результат обучения - Эпоха: 67  Сред. точность: 90.95 Сред. ошибка: 0.29677\n",
      "Результат валидации - Эпоха: 67  Сред. точность: 88.01 Сред. ошибка: 0.37179\n"
     ]
    },
    {
     "data": {
      "application/vnd.jupyter.widget-view+json": {
       "model_id": "e19c6016cf2246d6b188a2755c8e9537",
       "version_major": 2,
       "version_minor": 0
      },
      "text/plain": [
       "  1%|          | 1/134 [00:00<?, ?it/s]"
      ]
     },
     "metadata": {},
     "output_type": "display_data"
    },
    {
     "name": "stdout",
     "output_type": "stream",
     "text": [
      "Результат обучения - Эпоха: 68  Сред. точность: 90.95 Сред. ошибка: 0.29481\n",
      "Результат валидации - Эпоха: 68  Сред. точность: 87.97 Сред. ошибка: 0.37068\n"
     ]
    },
    {
     "data": {
      "application/vnd.jupyter.widget-view+json": {
       "model_id": "8523eb1375c149e4a125ec7b83cb4219",
       "version_major": 2,
       "version_minor": 0
      },
      "text/plain": [
       "  1%|          | 1/134 [00:00<?, ?it/s]"
      ]
     },
     "metadata": {},
     "output_type": "display_data"
    },
    {
     "name": "stdout",
     "output_type": "stream",
     "text": [
      "Результат обучения - Эпоха: 69  Сред. точность: 91.01 Сред. ошибка: 0.29298\n",
      "Результат валидации - Эпоха: 69  Сред. точность: 88.11 Сред. ошибка: 0.36847\n"
     ]
    },
    {
     "data": {
      "application/vnd.jupyter.widget-view+json": {
       "model_id": "8ba63042236f4d66bd1f5c38f6b9f166",
       "version_major": 2,
       "version_minor": 0
      },
      "text/plain": [
       "  1%|          | 1/134 [00:00<?, ?it/s]"
      ]
     },
     "metadata": {},
     "output_type": "display_data"
    },
    {
     "name": "stdout",
     "output_type": "stream",
     "text": [
      "Результат обучения - Эпоха: 70  Сред. точность: 91.09 Сред. ошибка: 0.29084\n",
      "Результат валидации - Эпоха: 70  Сред. точность: 88.24 Сред. ошибка: 0.36840\n"
     ]
    },
    {
     "data": {
      "application/vnd.jupyter.widget-view+json": {
       "model_id": "48333a8e092841db82d5f3f7a081bd09",
       "version_major": 2,
       "version_minor": 0
      },
      "text/plain": [
       "  1%|          | 1/134 [00:00<?, ?it/s]"
      ]
     },
     "metadata": {},
     "output_type": "display_data"
    },
    {
     "name": "stdout",
     "output_type": "stream",
     "text": [
      "Результат обучения - Эпоха: 71  Сред. точность: 91.11 Сред. ошибка: 0.28888\n",
      "Результат валидации - Эпоха: 71  Сред. точность: 88.05 Сред. ошибка: 0.36689\n"
     ]
    },
    {
     "data": {
      "application/vnd.jupyter.widget-view+json": {
       "model_id": "f34b3991cc1d4867a3730483954f5a6a",
       "version_major": 2,
       "version_minor": 0
      },
      "text/plain": [
       "  1%|          | 1/134 [00:00<?, ?it/s]"
      ]
     },
     "metadata": {},
     "output_type": "display_data"
    },
    {
     "name": "stdout",
     "output_type": "stream",
     "text": [
      "Результат обучения - Эпоха: 72  Сред. точность: 91.18 Сред. ошибка: 0.28621\n",
      "Результат валидации - Эпоха: 72  Сред. точность: 88.28 Сред. ошибка: 0.36607\n"
     ]
    },
    {
     "data": {
      "application/vnd.jupyter.widget-view+json": {
       "model_id": "5af33ff4e6ad40309ee5cba46c820089",
       "version_major": 2,
       "version_minor": 0
      },
      "text/plain": [
       "  1%|          | 1/134 [00:00<?, ?it/s]"
      ]
     },
     "metadata": {},
     "output_type": "display_data"
    },
    {
     "name": "stdout",
     "output_type": "stream",
     "text": [
      "Результат обучения - Эпоха: 73  Сред. точность: 91.30 Сред. ошибка: 0.28434\n",
      "Результат валидации - Эпоха: 73  Сред. точность: 88.34 Сред. ошибка: 0.36475\n"
     ]
    },
    {
     "data": {
      "application/vnd.jupyter.widget-view+json": {
       "model_id": "df4b3b156d3a45e79fbaad93a07d1db5",
       "version_major": 2,
       "version_minor": 0
      },
      "text/plain": [
       "  1%|          | 1/134 [00:00<?, ?it/s]"
      ]
     },
     "metadata": {},
     "output_type": "display_data"
    },
    {
     "name": "stdout",
     "output_type": "stream",
     "text": [
      "Результат обучения - Эпоха: 74  Сред. точность: 91.29 Сред. ошибка: 0.28410\n",
      "Результат валидации - Эпоха: 74  Сред. точность: 88.42 Сред. ошибка: 0.36359\n"
     ]
    },
    {
     "data": {
      "application/vnd.jupyter.widget-view+json": {
       "model_id": "3af47b37159e4be89d443634435be4ef",
       "version_major": 2,
       "version_minor": 0
      },
      "text/plain": [
       "  1%|          | 1/134 [00:00<?, ?it/s]"
      ]
     },
     "metadata": {},
     "output_type": "display_data"
    },
    {
     "name": "stdout",
     "output_type": "stream",
     "text": [
      "Результат обучения - Эпоха: 75  Сред. точность: 91.48 Сред. ошибка: 0.28083\n",
      "Результат валидации - Эпоха: 75  Сред. точность: 88.32 Сред. ошибка: 0.36320\n"
     ]
    },
    {
     "data": {
      "application/vnd.jupyter.widget-view+json": {
       "model_id": "3d79c27be304413f8f41ecd0aa10b40a",
       "version_major": 2,
       "version_minor": 0
      },
      "text/plain": [
       "  1%|          | 1/134 [00:00<?, ?it/s]"
      ]
     },
     "metadata": {},
     "output_type": "display_data"
    },
    {
     "name": "stdout",
     "output_type": "stream",
     "text": [
      "Результат обучения - Эпоха: 76  Сред. точность: 91.43 Сред. ошибка: 0.27915\n",
      "Результат валидации - Эпоха: 76  Сред. точность: 88.42 Сред. ошибка: 0.36293\n"
     ]
    },
    {
     "data": {
      "application/vnd.jupyter.widget-view+json": {
       "model_id": "5b106cd94bcd4ae8b2ee2fc41b3fff82",
       "version_major": 2,
       "version_minor": 0
      },
      "text/plain": [
       "  1%|          | 1/134 [00:00<?, ?it/s]"
      ]
     },
     "metadata": {},
     "output_type": "display_data"
    },
    {
     "name": "stdout",
     "output_type": "stream",
     "text": [
      "Результат обучения - Эпоха: 77  Сред. точность: 91.54 Сред. ошибка: 0.27692\n",
      "Результат валидации - Эпоха: 77  Сред. точность: 88.42 Сред. ошибка: 0.36016\n"
     ]
    },
    {
     "data": {
      "application/vnd.jupyter.widget-view+json": {
       "model_id": "eabcfc2e98144bdc8d1053c5416da06d",
       "version_major": 2,
       "version_minor": 0
      },
      "text/plain": [
       "  1%|          | 1/134 [00:00<?, ?it/s]"
      ]
     },
     "metadata": {},
     "output_type": "display_data"
    },
    {
     "name": "stdout",
     "output_type": "stream",
     "text": [
      "Результат обучения - Эпоха: 78  Сред. точность: 91.65 Сред. ошибка: 0.27514\n",
      "Результат валидации - Эпоха: 78  Сред. точность: 88.50 Сред. ошибка: 0.35936\n"
     ]
    },
    {
     "data": {
      "application/vnd.jupyter.widget-view+json": {
       "model_id": "75a32792dfb14d0a85d0ad75d820072c",
       "version_major": 2,
       "version_minor": 0
      },
      "text/plain": [
       "  1%|          | 1/134 [00:00<?, ?it/s]"
      ]
     },
     "metadata": {},
     "output_type": "display_data"
    },
    {
     "name": "stdout",
     "output_type": "stream",
     "text": [
      "Результат обучения - Эпоха: 79  Сред. точность: 91.70 Сред. ошибка: 0.27325\n",
      "Результат валидации - Эпоха: 79  Сред. точность: 88.46 Сред. ошибка: 0.35826\n"
     ]
    },
    {
     "data": {
      "application/vnd.jupyter.widget-view+json": {
       "model_id": "6cc446c95c5644cc936327a715a34a0a",
       "version_major": 2,
       "version_minor": 0
      },
      "text/plain": [
       "  1%|          | 1/134 [00:00<?, ?it/s]"
      ]
     },
     "metadata": {},
     "output_type": "display_data"
    },
    {
     "name": "stdout",
     "output_type": "stream",
     "text": [
      "Результат обучения - Эпоха: 80  Сред. точность: 91.72 Сред. ошибка: 0.27209\n",
      "Результат валидации - Эпоха: 80  Сред. точность: 88.44 Сред. ошибка: 0.35936\n"
     ]
    },
    {
     "data": {
      "application/vnd.jupyter.widget-view+json": {
       "model_id": "42238262753c47f095314c7bed0157f5",
       "version_major": 2,
       "version_minor": 0
      },
      "text/plain": [
       "  1%|          | 1/134 [00:00<?, ?it/s]"
      ]
     },
     "metadata": {},
     "output_type": "display_data"
    },
    {
     "name": "stdout",
     "output_type": "stream",
     "text": [
      "Результат обучения - Эпоха: 81  Сред. точность: 91.72 Сред. ошибка: 0.26984\n",
      "Результат валидации - Эпоха: 81  Сред. точность: 88.64 Сред. ошибка: 0.35656\n"
     ]
    },
    {
     "data": {
      "application/vnd.jupyter.widget-view+json": {
       "model_id": "d96fa1cf752c41069401db2f7fe6aa5e",
       "version_major": 2,
       "version_minor": 0
      },
      "text/plain": [
       "  1%|          | 1/134 [00:00<?, ?it/s]"
      ]
     },
     "metadata": {},
     "output_type": "display_data"
    },
    {
     "name": "stdout",
     "output_type": "stream",
     "text": [
      "Результат обучения - Эпоха: 82  Сред. точность: 91.77 Сред. ошибка: 0.26881\n",
      "Результат валидации - Эпоха: 82  Сред. точность: 88.54 Сред. ошибка: 0.35674\n"
     ]
    },
    {
     "data": {
      "application/vnd.jupyter.widget-view+json": {
       "model_id": "f9ec9e89d8cc44c8b3e669b4c5d1ec2e",
       "version_major": 2,
       "version_minor": 0
      },
      "text/plain": [
       "  1%|          | 1/134 [00:00<?, ?it/s]"
      ]
     },
     "metadata": {},
     "output_type": "display_data"
    },
    {
     "name": "stdout",
     "output_type": "stream",
     "text": [
      "Результат обучения - Эпоха: 83  Сред. точность: 91.90 Сред. ошибка: 0.26679\n",
      "Результат валидации - Эпоха: 83  Сред. точность: 88.60 Сред. ошибка: 0.35456\n"
     ]
    },
    {
     "data": {
      "application/vnd.jupyter.widget-view+json": {
       "model_id": "bc31574361a94284b6f0bbbf484d09fc",
       "version_major": 2,
       "version_minor": 0
      },
      "text/plain": [
       "  1%|          | 1/134 [00:00<?, ?it/s]"
      ]
     },
     "metadata": {},
     "output_type": "display_data"
    },
    {
     "name": "stdout",
     "output_type": "stream",
     "text": [
      "Результат обучения - Эпоха: 84  Сред. точность: 91.92 Сред. ошибка: 0.26590\n",
      "Результат валидации - Эпоха: 84  Сред. точность: 88.68 Сред. ошибка: 0.35336\n"
     ]
    },
    {
     "data": {
      "application/vnd.jupyter.widget-view+json": {
       "model_id": "4fe59174bd9141d38ed23bf0909ed239",
       "version_major": 2,
       "version_minor": 0
      },
      "text/plain": [
       "  1%|          | 1/134 [00:00<?, ?it/s]"
      ]
     },
     "metadata": {},
     "output_type": "display_data"
    },
    {
     "name": "stdout",
     "output_type": "stream",
     "text": [
      "Результат обучения - Эпоха: 85  Сред. точность: 92.01 Сред. ошибка: 0.26331\n",
      "Результат валидации - Эпоха: 85  Сред. точность: 88.74 Сред. ошибка: 0.35231\n"
     ]
    },
    {
     "data": {
      "application/vnd.jupyter.widget-view+json": {
       "model_id": "def4b864e0a4409db834b9b839253ec2",
       "version_major": 2,
       "version_minor": 0
      },
      "text/plain": [
       "  1%|          | 1/134 [00:00<?, ?it/s]"
      ]
     },
     "metadata": {},
     "output_type": "display_data"
    },
    {
     "name": "stdout",
     "output_type": "stream",
     "text": [
      "Результат обучения - Эпоха: 86  Сред. точность: 92.04 Сред. ошибка: 0.26200\n",
      "Результат валидации - Эпоха: 86  Сред. точность: 88.52 Сред. ошибка: 0.35347\n"
     ]
    },
    {
     "data": {
      "application/vnd.jupyter.widget-view+json": {
       "model_id": "486b5779264744a8be20f41a54cbfdd3",
       "version_major": 2,
       "version_minor": 0
      },
      "text/plain": [
       "  1%|          | 1/134 [00:00<?, ?it/s]"
      ]
     },
     "metadata": {},
     "output_type": "display_data"
    },
    {
     "name": "stdout",
     "output_type": "stream",
     "text": [
      "Результат обучения - Эпоха: 87  Сред. точность: 91.96 Сред. ошибка: 0.26102\n",
      "Результат валидации - Эпоха: 87  Сред. точность: 88.74 Сред. ошибка: 0.35159\n"
     ]
    },
    {
     "data": {
      "application/vnd.jupyter.widget-view+json": {
       "model_id": "9922d81542ff43ea9cba2e76e96f17d8",
       "version_major": 2,
       "version_minor": 0
      },
      "text/plain": [
       "  1%|          | 1/134 [00:00<?, ?it/s]"
      ]
     },
     "metadata": {},
     "output_type": "display_data"
    },
    {
     "name": "stdout",
     "output_type": "stream",
     "text": [
      "Результат обучения - Эпоха: 88  Сред. точность: 92.11 Сред. ошибка: 0.25870\n",
      "Результат валидации - Эпоха: 88  Сред. точность: 88.76 Сред. ошибка: 0.35044\n"
     ]
    },
    {
     "data": {
      "application/vnd.jupyter.widget-view+json": {
       "model_id": "c64e2472bfcf4840b4c1129abb5d8c83",
       "version_major": 2,
       "version_minor": 0
      },
      "text/plain": [
       "  1%|          | 1/134 [00:00<?, ?it/s]"
      ]
     },
     "metadata": {},
     "output_type": "display_data"
    },
    {
     "name": "stdout",
     "output_type": "stream",
     "text": [
      "Результат обучения - Эпоха: 89  Сред. точность: 92.18 Сред. ошибка: 0.25740\n",
      "Результат валидации - Эпоха: 89  Сред. точность: 88.64 Сред. ошибка: 0.35030\n"
     ]
    },
    {
     "data": {
      "application/vnd.jupyter.widget-view+json": {
       "model_id": "77bed6f18a7c49c9a46e8e527abfd7e9",
       "version_major": 2,
       "version_minor": 0
      },
      "text/plain": [
       "  1%|          | 1/134 [00:00<?, ?it/s]"
      ]
     },
     "metadata": {},
     "output_type": "display_data"
    },
    {
     "name": "stdout",
     "output_type": "stream",
     "text": [
      "Результат обучения - Эпоха: 90  Сред. точность: 92.23 Сред. ошибка: 0.25611\n",
      "Результат валидации - Эпоха: 90  Сред. точность: 88.66 Сред. ошибка: 0.34971\n"
     ]
    },
    {
     "data": {
      "application/vnd.jupyter.widget-view+json": {
       "model_id": "2e339b2b910d438f980888ae5cb35085",
       "version_major": 2,
       "version_minor": 0
      },
      "text/plain": [
       "  1%|          | 1/134 [00:00<?, ?it/s]"
      ]
     },
     "metadata": {},
     "output_type": "display_data"
    },
    {
     "name": "stdout",
     "output_type": "stream",
     "text": [
      "Результат обучения - Эпоха: 91  Сред. точность: 92.16 Сред. ошибка: 0.25514\n",
      "Результат валидации - Эпоха: 91  Сред. точность: 88.66 Сред. ошибка: 0.34857\n"
     ]
    },
    {
     "data": {
      "application/vnd.jupyter.widget-view+json": {
       "model_id": "15b5718ce6b048a5a5cd9f588443a8da",
       "version_major": 2,
       "version_minor": 0
      },
      "text/plain": [
       "  1%|          | 1/134 [00:00<?, ?it/s]"
      ]
     },
     "metadata": {},
     "output_type": "display_data"
    },
    {
     "name": "stdout",
     "output_type": "stream",
     "text": [
      "Результат обучения - Эпоха: 92  Сред. точность: 92.22 Сред. ошибка: 0.25334\n",
      "Результат валидации - Эпоха: 92  Сред. точность: 88.76 Сред. ошибка: 0.34894\n"
     ]
    },
    {
     "data": {
      "application/vnd.jupyter.widget-view+json": {
       "model_id": "705f7cbe2b5c498aa885d8835414e0ba",
       "version_major": 2,
       "version_minor": 0
      },
      "text/plain": [
       "  1%|          | 1/134 [00:00<?, ?it/s]"
      ]
     },
     "metadata": {},
     "output_type": "display_data"
    },
    {
     "name": "stdout",
     "output_type": "stream",
     "text": [
      "Результат обучения - Эпоха: 93  Сред. точность: 92.31 Сред. ошибка: 0.25214\n",
      "Результат валидации - Эпоха: 93  Сред. точность: 88.56 Сред. ошибка: 0.34919\n"
     ]
    },
    {
     "data": {
      "application/vnd.jupyter.widget-view+json": {
       "model_id": "55388d7b0d0148d3a8f60aef321a2ca3",
       "version_major": 2,
       "version_minor": 0
      },
      "text/plain": [
       "  1%|          | 1/134 [00:00<?, ?it/s]"
      ]
     },
     "metadata": {},
     "output_type": "display_data"
    },
    {
     "name": "stdout",
     "output_type": "stream",
     "text": [
      "Результат обучения - Эпоха: 94  Сред. точность: 92.38 Сред. ошибка: 0.25104\n",
      "Результат валидации - Эпоха: 94  Сред. точность: 88.70 Сред. ошибка: 0.34643\n"
     ]
    },
    {
     "data": {
      "application/vnd.jupyter.widget-view+json": {
       "model_id": "726b33dab6224f4d929058b591ef45b5",
       "version_major": 2,
       "version_minor": 0
      },
      "text/plain": [
       "  1%|          | 1/134 [00:00<?, ?it/s]"
      ]
     },
     "metadata": {},
     "output_type": "display_data"
    },
    {
     "name": "stdout",
     "output_type": "stream",
     "text": [
      "Результат обучения - Эпоха: 95  Сред. точность: 92.39 Сред. ошибка: 0.24891\n",
      "Результат валидации - Эпоха: 95  Сред. точность: 88.78 Сред. ошибка: 0.34622\n"
     ]
    },
    {
     "data": {
      "application/vnd.jupyter.widget-view+json": {
       "model_id": "2da53f6cb9ad4dccbcbd8a9709ef26c4",
       "version_major": 2,
       "version_minor": 0
      },
      "text/plain": [
       "  1%|          | 1/134 [00:00<?, ?it/s]"
      ]
     },
     "metadata": {},
     "output_type": "display_data"
    },
    {
     "name": "stdout",
     "output_type": "stream",
     "text": [
      "Результат обучения - Эпоха: 96  Сред. точность: 92.42 Сред. ошибка: 0.24794\n",
      "Результат валидации - Эпоха: 96  Сред. точность: 88.88 Сред. ошибка: 0.34581\n"
     ]
    },
    {
     "data": {
      "application/vnd.jupyter.widget-view+json": {
       "model_id": "7d703175feed4b62abc668d4dd8394e2",
       "version_major": 2,
       "version_minor": 0
      },
      "text/plain": [
       "  1%|          | 1/134 [00:00<?, ?it/s]"
      ]
     },
     "metadata": {},
     "output_type": "display_data"
    },
    {
     "name": "stdout",
     "output_type": "stream",
     "text": [
      "Результат обучения - Эпоха: 97  Сред. точность: 92.45 Сред. ошибка: 0.24629\n",
      "Результат валидации - Эпоха: 97  Сред. точность: 88.82 Сред. ошибка: 0.34454\n"
     ]
    },
    {
     "data": {
      "application/vnd.jupyter.widget-view+json": {
       "model_id": "da1a5c991eac45c992286c092fc4cec0",
       "version_major": 2,
       "version_minor": 0
      },
      "text/plain": [
       "  1%|          | 1/134 [00:00<?, ?it/s]"
      ]
     },
     "metadata": {},
     "output_type": "display_data"
    },
    {
     "name": "stdout",
     "output_type": "stream",
     "text": [
      "Результат обучения - Эпоха: 98  Сред. точность: 92.51 Сред. ошибка: 0.24506\n",
      "Результат валидации - Эпоха: 98  Сред. точность: 88.86 Сред. ошибка: 0.34553\n"
     ]
    },
    {
     "data": {
      "application/vnd.jupyter.widget-view+json": {
       "model_id": "cbb0011af2804c1cba646e6c373a14aa",
       "version_major": 2,
       "version_minor": 0
      },
      "text/plain": [
       "  1%|          | 1/134 [00:00<?, ?it/s]"
      ]
     },
     "metadata": {},
     "output_type": "display_data"
    },
    {
     "name": "stdout",
     "output_type": "stream",
     "text": [
      "Результат обучения - Эпоха: 99  Сред. точность: 92.59 Сред. ошибка: 0.24380\n",
      "Результат валидации - Эпоха: 99  Сред. точность: 88.86 Сред. ошибка: 0.34334\n"
     ]
    },
    {
     "data": {
      "application/vnd.jupyter.widget-view+json": {
       "model_id": "a03fcc8b1e474e76b2c08b123d889d20",
       "version_major": 2,
       "version_minor": 0
      },
      "text/plain": [
       "  1%|          | 1/134 [00:00<?, ?it/s]"
      ]
     },
     "metadata": {},
     "output_type": "display_data"
    },
    {
     "name": "stdout",
     "output_type": "stream",
     "text": [
      "Результат обучения - Эпоха: 100  Сред. точность: 92.48 Сред. ошибка: 0.24323\n",
      "Результат валидации - Эпоха: 100  Сред. точность: 88.88 Сред. ошибка: 0.34464\n"
     ]
    },
    {
     "data": {
      "application/vnd.jupyter.widget-view+json": {
       "model_id": "b0b8b705ac4d490e8fd0e313f970273e",
       "version_major": 2,
       "version_minor": 0
      },
      "text/plain": [
       "  1%|          | 1/134 [00:00<?, ?it/s]"
      ]
     },
     "metadata": {},
     "output_type": "display_data"
    },
    {
     "name": "stdout",
     "output_type": "stream",
     "text": [
      "Результат обучения - Эпоха: 101  Сред. точность: 92.64 Сред. ошибка: 0.24068\n",
      "Результат валидации - Эпоха: 101  Сред. точность: 88.92 Сред. ошибка: 0.34231\n"
     ]
    },
    {
     "data": {
      "application/vnd.jupyter.widget-view+json": {
       "model_id": "24a685b8b53c4ee18d8015f1a2412e12",
       "version_major": 2,
       "version_minor": 0
      },
      "text/plain": [
       "  1%|          | 1/134 [00:00<?, ?it/s]"
      ]
     },
     "metadata": {},
     "output_type": "display_data"
    },
    {
     "name": "stdout",
     "output_type": "stream",
     "text": [
      "Результат обучения - Эпоха: 102  Сред. точность: 92.73 Сред. ошибка: 0.24036\n",
      "Результат валидации - Эпоха: 102  Сред. точность: 88.92 Сред. ошибка: 0.34397\n"
     ]
    },
    {
     "data": {
      "application/vnd.jupyter.widget-view+json": {
       "model_id": "28027e509de24ccb8c02cf17ab2b7f50",
       "version_major": 2,
       "version_minor": 0
      },
      "text/plain": [
       "  1%|          | 1/134 [00:00<?, ?it/s]"
      ]
     },
     "metadata": {},
     "output_type": "display_data"
    },
    {
     "name": "stdout",
     "output_type": "stream",
     "text": [
      "Результат обучения - Эпоха: 103  Сред. точность: 92.71 Сред. ошибка: 0.23884\n",
      "Результат валидации - Эпоха: 103  Сред. точность: 88.88 Сред. ошибка: 0.34153\n"
     ]
    },
    {
     "data": {
      "application/vnd.jupyter.widget-view+json": {
       "model_id": "cc2455795025442ca7823eb90d71bd1b",
       "version_major": 2,
       "version_minor": 0
      },
      "text/plain": [
       "  1%|          | 1/134 [00:00<?, ?it/s]"
      ]
     },
     "metadata": {},
     "output_type": "display_data"
    },
    {
     "name": "stdout",
     "output_type": "stream",
     "text": [
      "Результат обучения - Эпоха: 104  Сред. точность: 92.82 Сред. ошибка: 0.23695\n",
      "Результат валидации - Эпоха: 104  Сред. точность: 89.16 Сред. ошибка: 0.34173\n"
     ]
    },
    {
     "data": {
      "application/vnd.jupyter.widget-view+json": {
       "model_id": "eeb33b955b9c4ebba920d9d17e53691c",
       "version_major": 2,
       "version_minor": 0
      },
      "text/plain": [
       "  1%|          | 1/134 [00:00<?, ?it/s]"
      ]
     },
     "metadata": {},
     "output_type": "display_data"
    },
    {
     "name": "stdout",
     "output_type": "stream",
     "text": [
      "Результат обучения - Эпоха: 105  Сред. точность: 92.84 Сред. ошибка: 0.23597\n",
      "Результат валидации - Эпоха: 105  Сред. точность: 88.82 Сред. ошибка: 0.34170\n"
     ]
    },
    {
     "data": {
      "application/vnd.jupyter.widget-view+json": {
       "model_id": "c0f707b25bf4487b92adc76ee82fd6cf",
       "version_major": 2,
       "version_minor": 0
      },
      "text/plain": [
       "  1%|          | 1/134 [00:00<?, ?it/s]"
      ]
     },
     "metadata": {},
     "output_type": "display_data"
    },
    {
     "name": "stdout",
     "output_type": "stream",
     "text": [
      "Результат обучения - Эпоха: 106  Сред. точность: 92.82 Сред. ошибка: 0.23482\n",
      "Результат валидации - Эпоха: 106  Сред. точность: 89.10 Сред. ошибка: 0.34106\n"
     ]
    },
    {
     "data": {
      "application/vnd.jupyter.widget-view+json": {
       "model_id": "8552d7daf82a4d4aaf41c093a82c4cbc",
       "version_major": 2,
       "version_minor": 0
      },
      "text/plain": [
       "  1%|          | 1/134 [00:00<?, ?it/s]"
      ]
     },
     "metadata": {},
     "output_type": "display_data"
    },
    {
     "name": "stdout",
     "output_type": "stream",
     "text": [
      "Результат обучения - Эпоха: 107  Сред. точность: 92.96 Сред. ошибка: 0.23405\n",
      "Результат валидации - Эпоха: 107  Сред. точность: 88.92 Сред. ошибка: 0.34239\n"
     ]
    },
    {
     "data": {
      "application/vnd.jupyter.widget-view+json": {
       "model_id": "96642615d6f942a28f73010d0385a5e3",
       "version_major": 2,
       "version_minor": 0
      },
      "text/plain": [
       "  1%|          | 1/134 [00:00<?, ?it/s]"
      ]
     },
     "metadata": {},
     "output_type": "display_data"
    },
    {
     "name": "stdout",
     "output_type": "stream",
     "text": [
      "Результат обучения - Эпоха: 108  Сред. точность: 92.96 Сред. ошибка: 0.23193\n",
      "Результат валидации - Эпоха: 108  Сред. точность: 89.16 Сред. ошибка: 0.33926\n"
     ]
    },
    {
     "data": {
      "application/vnd.jupyter.widget-view+json": {
       "model_id": "52e8441c87694749b8747c86d2dc9170",
       "version_major": 2,
       "version_minor": 0
      },
      "text/plain": [
       "  1%|          | 1/134 [00:00<?, ?it/s]"
      ]
     },
     "metadata": {},
     "output_type": "display_data"
    },
    {
     "name": "stdout",
     "output_type": "stream",
     "text": [
      "Результат обучения - Эпоха: 109  Сред. точность: 92.98 Сред. ошибка: 0.23195\n",
      "Результат валидации - Эпоха: 109  Сред. точность: 88.98 Сред. ошибка: 0.33896\n"
     ]
    },
    {
     "data": {
      "application/vnd.jupyter.widget-view+json": {
       "model_id": "2d3d118fa96947bb8be53909fea9d977",
       "version_major": 2,
       "version_minor": 0
      },
      "text/plain": [
       "  1%|          | 1/134 [00:00<?, ?it/s]"
      ]
     },
     "metadata": {},
     "output_type": "display_data"
    },
    {
     "name": "stdout",
     "output_type": "stream",
     "text": [
      "Результат обучения - Эпоха: 110  Сред. точность: 93.05 Сред. ошибка: 0.23000\n",
      "Результат валидации - Эпоха: 110  Сред. точность: 89.04 Сред. ошибка: 0.33918\n"
     ]
    },
    {
     "data": {
      "application/vnd.jupyter.widget-view+json": {
       "model_id": "5fe9500e4cd84411960c0964f11bdf09",
       "version_major": 2,
       "version_minor": 0
      },
      "text/plain": [
       "  1%|          | 1/134 [00:00<?, ?it/s]"
      ]
     },
     "metadata": {},
     "output_type": "display_data"
    },
    {
     "name": "stdout",
     "output_type": "stream",
     "text": [
      "Результат обучения - Эпоха: 111  Сред. точность: 93.05 Сред. ошибка: 0.22922\n",
      "Результат валидации - Эпоха: 111  Сред. точность: 89.16 Сред. ошибка: 0.33714\n"
     ]
    },
    {
     "data": {
      "application/vnd.jupyter.widget-view+json": {
       "model_id": "980c8fbdb52b45a8b63380beeb0c1691",
       "version_major": 2,
       "version_minor": 0
      },
      "text/plain": [
       "  1%|          | 1/134 [00:00<?, ?it/s]"
      ]
     },
     "metadata": {},
     "output_type": "display_data"
    },
    {
     "name": "stdout",
     "output_type": "stream",
     "text": [
      "Результат обучения - Эпоха: 112  Сред. точность: 93.16 Сред. ошибка: 0.22718\n",
      "Результат валидации - Эпоха: 112  Сред. точность: 89.26 Сред. ошибка: 0.33718\n"
     ]
    },
    {
     "data": {
      "application/vnd.jupyter.widget-view+json": {
       "model_id": "7d0a986f833549fbbf82d4ef8e87a8d4",
       "version_major": 2,
       "version_minor": 0
      },
      "text/plain": [
       "  1%|          | 1/134 [00:00<?, ?it/s]"
      ]
     },
     "metadata": {},
     "output_type": "display_data"
    },
    {
     "name": "stdout",
     "output_type": "stream",
     "text": [
      "Результат обучения - Эпоха: 113  Сред. точность: 93.16 Сред. ошибка: 0.22658\n",
      "Результат валидации - Эпоха: 113  Сред. точность: 89.20 Сред. ошибка: 0.33792\n"
     ]
    },
    {
     "data": {
      "application/vnd.jupyter.widget-view+json": {
       "model_id": "5659e797b06b42749f808a6189e93f24",
       "version_major": 2,
       "version_minor": 0
      },
      "text/plain": [
       "  1%|          | 1/134 [00:00<?, ?it/s]"
      ]
     },
     "metadata": {},
     "output_type": "display_data"
    },
    {
     "name": "stdout",
     "output_type": "stream",
     "text": [
      "Результат обучения - Эпоха: 114  Сред. точность: 93.16 Сред. ошибка: 0.22658\n",
      "Результат валидации - Эпоха: 114  Сред. точность: 89.24 Сред. ошибка: 0.33661\n"
     ]
    },
    {
     "data": {
      "application/vnd.jupyter.widget-view+json": {
       "model_id": "aa3b945c8da34bee945bf4ee8ca2bae7",
       "version_major": 2,
       "version_minor": 0
      },
      "text/plain": [
       "  1%|          | 1/134 [00:00<?, ?it/s]"
      ]
     },
     "metadata": {},
     "output_type": "display_data"
    },
    {
     "name": "stdout",
     "output_type": "stream",
     "text": [
      "Результат обучения - Эпоха: 115  Сред. точность: 93.23 Сред. ошибка: 0.22413\n",
      "Результат валидации - Эпоха: 115  Сред. точность: 89.24 Сред. ошибка: 0.33567\n"
     ]
    },
    {
     "data": {
      "application/vnd.jupyter.widget-view+json": {
       "model_id": "d41b357f7b834b42b6f5e1fe8e3756b4",
       "version_major": 2,
       "version_minor": 0
      },
      "text/plain": [
       "  1%|          | 1/134 [00:00<?, ?it/s]"
      ]
     },
     "metadata": {},
     "output_type": "display_data"
    },
    {
     "name": "stdout",
     "output_type": "stream",
     "text": [
      "Результат обучения - Эпоха: 116  Сред. точность: 93.28 Сред. ошибка: 0.22311\n",
      "Результат валидации - Эпоха: 116  Сред. точность: 89.24 Сред. ошибка: 0.33615\n"
     ]
    },
    {
     "data": {
      "application/vnd.jupyter.widget-view+json": {
       "model_id": "cf96169d602c4129b8633aced03c8068",
       "version_major": 2,
       "version_minor": 0
      },
      "text/plain": [
       "  1%|          | 1/134 [00:00<?, ?it/s]"
      ]
     },
     "metadata": {},
     "output_type": "display_data"
    },
    {
     "name": "stdout",
     "output_type": "stream",
     "text": [
      "Результат обучения - Эпоха: 117  Сред. точность: 93.34 Сред. ошибка: 0.22179\n",
      "Результат валидации - Эпоха: 117  Сред. точность: 89.12 Сред. ошибка: 0.33440\n"
     ]
    },
    {
     "data": {
      "application/vnd.jupyter.widget-view+json": {
       "model_id": "31d2bf9b89434d7a80ec9c945d9d74df",
       "version_major": 2,
       "version_minor": 0
      },
      "text/plain": [
       "  1%|          | 1/134 [00:00<?, ?it/s]"
      ]
     },
     "metadata": {},
     "output_type": "display_data"
    },
    {
     "name": "stdout",
     "output_type": "stream",
     "text": [
      "Результат обучения - Эпоха: 118  Сред. точность: 93.38 Сред. ошибка: 0.22089\n",
      "Результат валидации - Эпоха: 118  Сред. точность: 89.28 Сред. ошибка: 0.33614\n"
     ]
    },
    {
     "data": {
      "application/vnd.jupyter.widget-view+json": {
       "model_id": "f8a8e2cb25444d26895f0e15b0bb5cdf",
       "version_major": 2,
       "version_minor": 0
      },
      "text/plain": [
       "  1%|          | 1/134 [00:00<?, ?it/s]"
      ]
     },
     "metadata": {},
     "output_type": "display_data"
    },
    {
     "name": "stdout",
     "output_type": "stream",
     "text": [
      "Результат обучения - Эпоха: 119  Сред. точность: 93.44 Сред. ошибка: 0.21977\n",
      "Результат валидации - Эпоха: 119  Сред. точность: 89.32 Сред. ошибка: 0.33481\n"
     ]
    },
    {
     "data": {
      "application/vnd.jupyter.widget-view+json": {
       "model_id": "864490563eeb456abf87a7b0d3931778",
       "version_major": 2,
       "version_minor": 0
      },
      "text/plain": [
       "  1%|          | 1/134 [00:00<?, ?it/s]"
      ]
     },
     "metadata": {},
     "output_type": "display_data"
    },
    {
     "name": "stdout",
     "output_type": "stream",
     "text": [
      "Результат обучения - Эпоха: 120  Сред. точность: 93.42 Сред. ошибка: 0.21901\n",
      "Результат валидации - Эпоха: 120  Сред. точность: 89.28 Сред. ошибка: 0.33612\n"
     ]
    },
    {
     "data": {
      "application/vnd.jupyter.widget-view+json": {
       "model_id": "1367a91552d4464e92cc289943aab7b4",
       "version_major": 2,
       "version_minor": 0
      },
      "text/plain": [
       "  1%|          | 1/134 [00:00<?, ?it/s]"
      ]
     },
     "metadata": {},
     "output_type": "display_data"
    },
    {
     "name": "stdout",
     "output_type": "stream",
     "text": [
      "Результат обучения - Эпоха: 121  Сред. точность: 93.47 Сред. ошибка: 0.21805\n",
      "Результат валидации - Эпоха: 121  Сред. точность: 89.20 Сред. ошибка: 0.33745\n"
     ]
    },
    {
     "data": {
      "application/vnd.jupyter.widget-view+json": {
       "model_id": "8b729eb9ba224fa6adec8a0d8947f089",
       "version_major": 2,
       "version_minor": 0
      },
      "text/plain": [
       "  1%|          | 1/134 [00:00<?, ?it/s]"
      ]
     },
     "metadata": {},
     "output_type": "display_data"
    },
    {
     "name": "stdout",
     "output_type": "stream",
     "text": [
      "Результат обучения - Эпоха: 122  Сред. точность: 93.51 Сред. ошибка: 0.21707\n",
      "Результат валидации - Эпоха: 122  Сред. точность: 89.48 Сред. ошибка: 0.33556\n"
     ]
    },
    {
     "data": {
      "application/vnd.jupyter.widget-view+json": {
       "model_id": "8a722db8cf3641cf889d38770eb2b23e",
       "version_major": 2,
       "version_minor": 0
      },
      "text/plain": [
       "  1%|          | 1/134 [00:00<?, ?it/s]"
      ]
     },
     "metadata": {},
     "output_type": "display_data"
    },
    {
     "name": "stdout",
     "output_type": "stream",
     "text": [
      "Результат обучения - Эпоха: 123  Сред. точность: 93.54 Сред. ошибка: 0.21626\n",
      "Результат валидации - Эпоха: 123  Сред. точность: 89.22 Сред. ошибка: 0.33374\n"
     ]
    },
    {
     "data": {
      "application/vnd.jupyter.widget-view+json": {
       "model_id": "fa030e72b5f949019a34e23991ea64d0",
       "version_major": 2,
       "version_minor": 0
      },
      "text/plain": [
       "  1%|          | 1/134 [00:00<?, ?it/s]"
      ]
     },
     "metadata": {},
     "output_type": "display_data"
    },
    {
     "name": "stdout",
     "output_type": "stream",
     "text": [
      "Результат обучения - Эпоха: 124  Сред. точность: 93.54 Сред. ошибка: 0.21451\n",
      "Результат валидации - Эпоха: 124  Сред. точность: 89.22 Сред. ошибка: 0.33323\n"
     ]
    },
    {
     "data": {
      "application/vnd.jupyter.widget-view+json": {
       "model_id": "16bc02601a91432ebf4aa5d8be0c415f",
       "version_major": 2,
       "version_minor": 0
      },
      "text/plain": [
       "  1%|          | 1/134 [00:00<?, ?it/s]"
      ]
     },
     "metadata": {},
     "output_type": "display_data"
    },
    {
     "name": "stdout",
     "output_type": "stream",
     "text": [
      "Результат обучения - Эпоха: 125  Сред. точность: 93.61 Сред. ошибка: 0.21358\n",
      "Результат валидации - Эпоха: 125  Сред. точность: 89.44 Сред. ошибка: 0.33336\n"
     ]
    },
    {
     "data": {
      "application/vnd.jupyter.widget-view+json": {
       "model_id": "ab3347ac932c4c2eb5f86637625b4e3d",
       "version_major": 2,
       "version_minor": 0
      },
      "text/plain": [
       "  1%|          | 1/134 [00:00<?, ?it/s]"
      ]
     },
     "metadata": {},
     "output_type": "display_data"
    },
    {
     "name": "stdout",
     "output_type": "stream",
     "text": [
      "Результат обучения - Эпоха: 126  Сред. точность: 93.60 Сред. ошибка: 0.21305\n",
      "Результат валидации - Эпоха: 126  Сред. точность: 89.42 Сред. ошибка: 0.33433\n"
     ]
    },
    {
     "data": {
      "application/vnd.jupyter.widget-view+json": {
       "model_id": "98913e0a9ab84568b8b0a3f30da53580",
       "version_major": 2,
       "version_minor": 0
      },
      "text/plain": [
       "  1%|          | 1/134 [00:00<?, ?it/s]"
      ]
     },
     "metadata": {},
     "output_type": "display_data"
    },
    {
     "name": "stdout",
     "output_type": "stream",
     "text": [
      "Результат обучения - Эпоха: 127  Сред. точность: 93.70 Сред. ошибка: 0.21205\n",
      "Результат валидации - Эпоха: 127  Сред. точность: 89.20 Сред. ошибка: 0.33456\n"
     ]
    },
    {
     "data": {
      "application/vnd.jupyter.widget-view+json": {
       "model_id": "40f0c85dd98f44d88c8870821a2ddf47",
       "version_major": 2,
       "version_minor": 0
      },
      "text/plain": [
       "  1%|          | 1/134 [00:00<?, ?it/s]"
      ]
     },
     "metadata": {},
     "output_type": "display_data"
    },
    {
     "name": "stdout",
     "output_type": "stream",
     "text": [
      "Результат обучения - Эпоха: 128  Сред. точность: 93.73 Сред. ошибка: 0.21043\n",
      "Результат валидации - Эпоха: 128  Сред. точность: 89.44 Сред. ошибка: 0.33144\n"
     ]
    },
    {
     "data": {
      "application/vnd.jupyter.widget-view+json": {
       "model_id": "c5bb04e802d447dfadda2f6cd606de4f",
       "version_major": 2,
       "version_minor": 0
      },
      "text/plain": [
       "  1%|          | 1/134 [00:00<?, ?it/s]"
      ]
     },
     "metadata": {},
     "output_type": "display_data"
    },
    {
     "name": "stdout",
     "output_type": "stream",
     "text": [
      "Результат обучения - Эпоха: 129  Сред. точность: 93.73 Сред. ошибка: 0.20957\n",
      "Результат валидации - Эпоха: 129  Сред. точность: 89.38 Сред. ошибка: 0.33138\n"
     ]
    },
    {
     "data": {
      "application/vnd.jupyter.widget-view+json": {
       "model_id": "5bf149ab1e734e0bbde79d04eb955315",
       "version_major": 2,
       "version_minor": 0
      },
      "text/plain": [
       "  1%|          | 1/134 [00:00<?, ?it/s]"
      ]
     },
     "metadata": {},
     "output_type": "display_data"
    },
    {
     "name": "stdout",
     "output_type": "stream",
     "text": [
      "Результат обучения - Эпоха: 130  Сред. точность: 93.63 Сред. ошибка: 0.21028\n",
      "Результат валидации - Эпоха: 130  Сред. точность: 89.40 Сред. ошибка: 0.33465\n"
     ]
    },
    {
     "data": {
      "application/vnd.jupyter.widget-view+json": {
       "model_id": "b587810778d8494899b733fe6da85403",
       "version_major": 2,
       "version_minor": 0
      },
      "text/plain": [
       "  1%|          | 1/134 [00:00<?, ?it/s]"
      ]
     },
     "metadata": {},
     "output_type": "display_data"
    },
    {
     "name": "stdout",
     "output_type": "stream",
     "text": [
      "Результат обучения - Эпоха: 131  Сред. точность: 93.79 Сред. ошибка: 0.20767\n",
      "Результат валидации - Эпоха: 131  Сред. точность: 89.42 Сред. ошибка: 0.33138\n"
     ]
    },
    {
     "data": {
      "application/vnd.jupyter.widget-view+json": {
       "model_id": "b2593432eb184ee68b46531fb114af1a",
       "version_major": 2,
       "version_minor": 0
      },
      "text/plain": [
       "  1%|          | 1/134 [00:00<?, ?it/s]"
      ]
     },
     "metadata": {},
     "output_type": "display_data"
    },
    {
     "name": "stdout",
     "output_type": "stream",
     "text": [
      "Результат обучения - Эпоха: 132  Сред. точность: 93.89 Сред. ошибка: 0.20673\n",
      "Результат валидации - Эпоха: 132  Сред. точность: 89.36 Сред. ошибка: 0.33303\n"
     ]
    },
    {
     "data": {
      "application/vnd.jupyter.widget-view+json": {
       "model_id": "92c1b769e85d4ff0a894a2d8a0a14344",
       "version_major": 2,
       "version_minor": 0
      },
      "text/plain": [
       "  1%|          | 1/134 [00:00<?, ?it/s]"
      ]
     },
     "metadata": {},
     "output_type": "display_data"
    },
    {
     "name": "stdout",
     "output_type": "stream",
     "text": [
      "Результат обучения - Эпоха: 133  Сред. точность: 93.86 Сред. ошибка: 0.20564\n",
      "Результат валидации - Эпоха: 133  Сред. точность: 89.30 Сред. ошибка: 0.33148\n"
     ]
    },
    {
     "data": {
      "application/vnd.jupyter.widget-view+json": {
       "model_id": "1bedf88e91d34e828567c93772716631",
       "version_major": 2,
       "version_minor": 0
      },
      "text/plain": [
       "  1%|          | 1/134 [00:00<?, ?it/s]"
      ]
     },
     "metadata": {},
     "output_type": "display_data"
    },
    {
     "name": "stdout",
     "output_type": "stream",
     "text": [
      "Результат обучения - Эпоха: 134  Сред. точность: 93.97 Сред. ошибка: 0.20561\n",
      "Результат валидации - Эпоха: 134  Сред. точность: 89.42 Сред. ошибка: 0.33103\n"
     ]
    },
    {
     "data": {
      "application/vnd.jupyter.widget-view+json": {
       "model_id": "8936020ad21e4cc7ba158f61d1c1fb45",
       "version_major": 2,
       "version_minor": 0
      },
      "text/plain": [
       "  1%|          | 1/134 [00:00<?, ?it/s]"
      ]
     },
     "metadata": {},
     "output_type": "display_data"
    },
    {
     "name": "stdout",
     "output_type": "stream",
     "text": [
      "Результат обучения - Эпоха: 135  Сред. точность: 93.92 Сред. ошибка: 0.20397\n",
      "Результат валидации - Эпоха: 135  Сред. точность: 89.38 Сред. ошибка: 0.33135\n"
     ]
    },
    {
     "data": {
      "application/vnd.jupyter.widget-view+json": {
       "model_id": "7d5e2d013a2c403393c2081999779833",
       "version_major": 2,
       "version_minor": 0
      },
      "text/plain": [
       "  1%|          | 1/134 [00:00<?, ?it/s]"
      ]
     },
     "metadata": {},
     "output_type": "display_data"
    },
    {
     "name": "stdout",
     "output_type": "stream",
     "text": [
      "Результат обучения - Эпоха: 136  Сред. точность: 93.93 Сред. ошибка: 0.20378\n",
      "Результат валидации - Эпоха: 136  Сред. точность: 89.42 Сред. ошибка: 0.33241\n"
     ]
    },
    {
     "data": {
      "application/vnd.jupyter.widget-view+json": {
       "model_id": "25a0ec790405460c938cdfa950f3cc07",
       "version_major": 2,
       "version_minor": 0
      },
      "text/plain": [
       "  1%|          | 1/134 [00:00<?, ?it/s]"
      ]
     },
     "metadata": {},
     "output_type": "display_data"
    },
    {
     "name": "stdout",
     "output_type": "stream",
     "text": [
      "Результат обучения - Эпоха: 137  Сред. точность: 93.95 Сред. ошибка: 0.20328\n",
      "Результат валидации - Эпоха: 137  Сред. точность: 89.40 Сред. ошибка: 0.33213\n"
     ]
    },
    {
     "data": {
      "application/vnd.jupyter.widget-view+json": {
       "model_id": "9595a5654a644f0f838f1cb9a26c726a",
       "version_major": 2,
       "version_minor": 0
      },
      "text/plain": [
       "  1%|          | 1/134 [00:00<?, ?it/s]"
      ]
     },
     "metadata": {},
     "output_type": "display_data"
    },
    {
     "name": "stdout",
     "output_type": "stream",
     "text": [
      "Результат обучения - Эпоха: 138  Сред. точность: 93.96 Сред. ошибка: 0.20131\n",
      "Результат валидации - Эпоха: 138  Сред. точность: 89.50 Сред. ошибка: 0.33095\n"
     ]
    },
    {
     "data": {
      "application/vnd.jupyter.widget-view+json": {
       "model_id": "b0bb079c4522458598c4c0f46dc6fbe3",
       "version_major": 2,
       "version_minor": 0
      },
      "text/plain": [
       "  1%|          | 1/134 [00:00<?, ?it/s]"
      ]
     },
     "metadata": {},
     "output_type": "display_data"
    },
    {
     "name": "stdout",
     "output_type": "stream",
     "text": [
      "Результат обучения - Эпоха: 139  Сред. точность: 94.05 Сред. ошибка: 0.20156\n",
      "Результат валидации - Эпоха: 139  Сред. точность: 89.42 Сред. ошибка: 0.33333\n"
     ]
    },
    {
     "data": {
      "application/vnd.jupyter.widget-view+json": {
       "model_id": "65b5ec19d9ac409788fa25347ab432cb",
       "version_major": 2,
       "version_minor": 0
      },
      "text/plain": [
       "  1%|          | 1/134 [00:00<?, ?it/s]"
      ]
     },
     "metadata": {},
     "output_type": "display_data"
    },
    {
     "name": "stdout",
     "output_type": "stream",
     "text": [
      "Результат обучения - Эпоха: 140  Сред. точность: 94.13 Сред. ошибка: 0.19913\n",
      "Результат валидации - Эпоха: 140  Сред. точность: 89.60 Сред. ошибка: 0.33039\n"
     ]
    },
    {
     "data": {
      "application/vnd.jupyter.widget-view+json": {
       "model_id": "d2e12e81245c4c20b2b7bdde5c807618",
       "version_major": 2,
       "version_minor": 0
      },
      "text/plain": [
       "  1%|          | 1/134 [00:00<?, ?it/s]"
      ]
     },
     "metadata": {},
     "output_type": "display_data"
    },
    {
     "name": "stdout",
     "output_type": "stream",
     "text": [
      "Результат обучения - Эпоха: 141  Сред. точность: 94.19 Сред. ошибка: 0.19916\n",
      "Результат валидации - Эпоха: 141  Сред. точность: 89.54 Сред. ошибка: 0.33020\n"
     ]
    },
    {
     "data": {
      "application/vnd.jupyter.widget-view+json": {
       "model_id": "9b8a5598d6dd4c4ba11d4d761ec5726f",
       "version_major": 2,
       "version_minor": 0
      },
      "text/plain": [
       "  1%|          | 1/134 [00:00<?, ?it/s]"
      ]
     },
     "metadata": {},
     "output_type": "display_data"
    },
    {
     "name": "stdout",
     "output_type": "stream",
     "text": [
      "Результат обучения - Эпоха: 142  Сред. точность: 94.15 Сред. ошибка: 0.19761\n",
      "Результат валидации - Эпоха: 142  Сред. точность: 89.36 Сред. ошибка: 0.32973\n"
     ]
    },
    {
     "data": {
      "application/vnd.jupyter.widget-view+json": {
       "model_id": "b8811ef102bb491cb744155d4259595c",
       "version_major": 2,
       "version_minor": 0
      },
      "text/plain": [
       "  1%|          | 1/134 [00:00<?, ?it/s]"
      ]
     },
     "metadata": {},
     "output_type": "display_data"
    },
    {
     "name": "stdout",
     "output_type": "stream",
     "text": [
      "Результат обучения - Эпоха: 143  Сред. точность: 94.20 Сред. ошибка: 0.19639\n",
      "Результат валидации - Эпоха: 143  Сред. точность: 89.50 Сред. ошибка: 0.33000\n"
     ]
    },
    {
     "data": {
      "application/vnd.jupyter.widget-view+json": {
       "model_id": "d044841f63314987893d2a9bf99ae6bb",
       "version_major": 2,
       "version_minor": 0
      },
      "text/plain": [
       "  1%|          | 1/134 [00:00<?, ?it/s]"
      ]
     },
     "metadata": {},
     "output_type": "display_data"
    },
    {
     "name": "stdout",
     "output_type": "stream",
     "text": [
      "Результат обучения - Эпоха: 144  Сред. точность: 94.28 Сред. ошибка: 0.19546\n",
      "Результат валидации - Эпоха: 144  Сред. точность: 89.58 Сред. ошибка: 0.32888\n"
     ]
    },
    {
     "data": {
      "application/vnd.jupyter.widget-view+json": {
       "model_id": "fcbd422bfccf4efb9a4aa165afcfe648",
       "version_major": 2,
       "version_minor": 0
      },
      "text/plain": [
       "  1%|          | 1/134 [00:00<?, ?it/s]"
      ]
     },
     "metadata": {},
     "output_type": "display_data"
    },
    {
     "name": "stdout",
     "output_type": "stream",
     "text": [
      "Результат обучения - Эпоха: 145  Сред. точность: 94.28 Сред. ошибка: 0.19502\n",
      "Результат валидации - Эпоха: 145  Сред. точность: 89.56 Сред. ошибка: 0.33162\n"
     ]
    },
    {
     "data": {
      "application/vnd.jupyter.widget-view+json": {
       "model_id": "39377cc958214b968d24071bd0a4061b",
       "version_major": 2,
       "version_minor": 0
      },
      "text/plain": [
       "  1%|          | 1/134 [00:00<?, ?it/s]"
      ]
     },
     "metadata": {},
     "output_type": "display_data"
    },
    {
     "name": "stdout",
     "output_type": "stream",
     "text": [
      "Результат обучения - Эпоха: 146  Сред. точность: 94.25 Сред. ошибка: 0.19431\n",
      "Результат валидации - Эпоха: 146  Сред. точность: 89.38 Сред. ошибка: 0.33059\n"
     ]
    },
    {
     "data": {
      "application/vnd.jupyter.widget-view+json": {
       "model_id": "5d19749799924b4795caee3caceb5fcb",
       "version_major": 2,
       "version_minor": 0
      },
      "text/plain": [
       "  1%|          | 1/134 [00:00<?, ?it/s]"
      ]
     },
     "metadata": {},
     "output_type": "display_data"
    },
    {
     "name": "stdout",
     "output_type": "stream",
     "text": [
      "Результат обучения - Эпоха: 147  Сред. точность: 94.28 Сред. ошибка: 0.19315\n",
      "Результат валидации - Эпоха: 147  Сред. точность: 89.52 Сред. ошибка: 0.32963\n"
     ]
    },
    {
     "data": {
      "application/vnd.jupyter.widget-view+json": {
       "model_id": "023cee59f4d04e5986725de06ccd0ffe",
       "version_major": 2,
       "version_minor": 0
      },
      "text/plain": [
       "  1%|          | 1/134 [00:00<?, ?it/s]"
      ]
     },
     "metadata": {},
     "output_type": "display_data"
    },
    {
     "name": "stdout",
     "output_type": "stream",
     "text": [
      "Результат обучения - Эпоха: 148  Сред. точность: 94.35 Сред. ошибка: 0.19188\n",
      "Результат валидации - Эпоха: 148  Сред. точность: 89.52 Сред. ошибка: 0.32925\n"
     ]
    },
    {
     "data": {
      "application/vnd.jupyter.widget-view+json": {
       "model_id": "9b97e2daea2b4378a4b91f0f7d58e598",
       "version_major": 2,
       "version_minor": 0
      },
      "text/plain": [
       "  1%|          | 1/134 [00:00<?, ?it/s]"
      ]
     },
     "metadata": {},
     "output_type": "display_data"
    },
    {
     "name": "stdout",
     "output_type": "stream",
     "text": [
      "Результат обучения - Эпоха: 149  Сред. точность: 94.37 Сред. ошибка: 0.19122\n",
      "Результат валидации - Эпоха: 149  Сред. точность: 89.52 Сред. ошибка: 0.32900\n"
     ]
    },
    {
     "data": {
      "application/vnd.jupyter.widget-view+json": {
       "model_id": "8294a64d6b83499cbe2b893b134f45ed",
       "version_major": 2,
       "version_minor": 0
      },
      "text/plain": [
       "  1%|          | 1/134 [00:00<?, ?it/s]"
      ]
     },
     "metadata": {},
     "output_type": "display_data"
    },
    {
     "name": "stdout",
     "output_type": "stream",
     "text": [
      "Результат обучения - Эпоха: 150  Сред. точность: 94.41 Сред. ошибка: 0.19202\n",
      "Результат валидации - Эпоха: 150  Сред. точность: 89.46 Сред. ошибка: 0.33167\n"
     ]
    },
    {
     "data": {
      "application/vnd.jupyter.widget-view+json": {
       "model_id": "4984c4dfc6984a4e9ffdc6d856c02378",
       "version_major": 2,
       "version_minor": 0
      },
      "text/plain": [
       "  1%|          | 1/134 [00:00<?, ?it/s]"
      ]
     },
     "metadata": {},
     "output_type": "display_data"
    },
    {
     "name": "stdout",
     "output_type": "stream",
     "text": [
      "Результат обучения - Эпоха: 151  Сред. точность: 94.43 Сред. ошибка: 0.19012\n",
      "Результат валидации - Эпоха: 151  Сред. точность: 89.52 Сред. ошибка: 0.33045\n"
     ]
    },
    {
     "data": {
      "application/vnd.jupyter.widget-view+json": {
       "model_id": "c7b73e8709664e70929daf5b5029ccf8",
       "version_major": 2,
       "version_minor": 0
      },
      "text/plain": [
       "  1%|          | 1/134 [00:00<?, ?it/s]"
      ]
     },
     "metadata": {},
     "output_type": "display_data"
    },
    {
     "name": "stdout",
     "output_type": "stream",
     "text": [
      "Результат обучения - Эпоха: 152  Сред. точность: 94.48 Сред. ошибка: 0.18924\n",
      "Результат валидации - Эпоха: 152  Сред. точность: 89.50 Сред. ошибка: 0.32967\n"
     ]
    },
    {
     "data": {
      "application/vnd.jupyter.widget-view+json": {
       "model_id": "159e2258b7c24d1a947e76adf2f20170",
       "version_major": 2,
       "version_minor": 0
      },
      "text/plain": [
       "  1%|          | 1/134 [00:00<?, ?it/s]"
      ]
     },
     "metadata": {},
     "output_type": "display_data"
    },
    {
     "name": "stdout",
     "output_type": "stream",
     "text": [
      "Результат обучения - Эпоха: 153  Сред. точность: 94.53 Сред. ошибка: 0.18808\n",
      "Результат валидации - Эпоха: 153  Сред. точность: 89.60 Сред. ошибка: 0.32858\n"
     ]
    },
    {
     "data": {
      "application/vnd.jupyter.widget-view+json": {
       "model_id": "ee53873db73b4e48b708ac21887caf47",
       "version_major": 2,
       "version_minor": 0
      },
      "text/plain": [
       "  1%|          | 1/134 [00:00<?, ?it/s]"
      ]
     },
     "metadata": {},
     "output_type": "display_data"
    },
    {
     "name": "stdout",
     "output_type": "stream",
     "text": [
      "Результат обучения - Эпоха: 154  Сред. точность: 94.55 Сред. ошибка: 0.18779\n",
      "Результат валидации - Эпоха: 154  Сред. точность: 89.42 Сред. ошибка: 0.33071\n"
     ]
    },
    {
     "data": {
      "application/vnd.jupyter.widget-view+json": {
       "model_id": "187399b24d6f4a43a0494c74797d7988",
       "version_major": 2,
       "version_minor": 0
      },
      "text/plain": [
       "  1%|          | 1/134 [00:00<?, ?it/s]"
      ]
     },
     "metadata": {},
     "output_type": "display_data"
    },
    {
     "name": "stdout",
     "output_type": "stream",
     "text": [
      "Результат обучения - Эпоха: 155  Сред. точность: 94.46 Сред. ошибка: 0.18672\n",
      "Результат валидации - Эпоха: 155  Сред. точность: 89.54 Сред. ошибка: 0.33089\n"
     ]
    },
    {
     "data": {
      "application/vnd.jupyter.widget-view+json": {
       "model_id": "d49663536853447a81bb1f665061c20c",
       "version_major": 2,
       "version_minor": 0
      },
      "text/plain": [
       "  1%|          | 1/134 [00:00<?, ?it/s]"
      ]
     },
     "metadata": {},
     "output_type": "display_data"
    },
    {
     "name": "stdout",
     "output_type": "stream",
     "text": [
      "Результат обучения - Эпоха: 156  Сред. точность: 94.57 Сред. ошибка: 0.18556\n",
      "Результат валидации - Эпоха: 156  Сред. точность: 89.66 Сред. ошибка: 0.32856\n"
     ]
    },
    {
     "data": {
      "application/vnd.jupyter.widget-view+json": {
       "model_id": "8830a86049c044c1b78475699291d4c0",
       "version_major": 2,
       "version_minor": 0
      },
      "text/plain": [
       "  1%|          | 1/134 [00:00<?, ?it/s]"
      ]
     },
     "metadata": {},
     "output_type": "display_data"
    },
    {
     "name": "stdout",
     "output_type": "stream",
     "text": [
      "Результат обучения - Эпоха: 157  Сред. точность: 94.59 Сред. ошибка: 0.18497\n",
      "Результат валидации - Эпоха: 157  Сред. точность: 89.52 Сред. ошибка: 0.33141\n"
     ]
    },
    {
     "data": {
      "application/vnd.jupyter.widget-view+json": {
       "model_id": "b5f5ade928c2426783164f9496bdefae",
       "version_major": 2,
       "version_minor": 0
      },
      "text/plain": [
       "  1%|          | 1/134 [00:00<?, ?it/s]"
      ]
     },
     "metadata": {},
     "output_type": "display_data"
    },
    {
     "name": "stdout",
     "output_type": "stream",
     "text": [
      "Результат обучения - Эпоха: 158  Сред. точность: 94.58 Сред. ошибка: 0.18432\n",
      "Результат валидации - Эпоха: 158  Сред. точность: 89.50 Сред. ошибка: 0.32903\n"
     ]
    },
    {
     "data": {
      "application/vnd.jupyter.widget-view+json": {
       "model_id": "3fc2f71638e14363b900d6b8bc7ab329",
       "version_major": 2,
       "version_minor": 0
      },
      "text/plain": [
       "  1%|          | 1/134 [00:00<?, ?it/s]"
      ]
     },
     "metadata": {},
     "output_type": "display_data"
    },
    {
     "name": "stdout",
     "output_type": "stream",
     "text": [
      "Результат обучения - Эпоха: 159  Сред. точность: 94.61 Сред. ошибка: 0.18292\n",
      "Результат валидации - Эпоха: 159  Сред. точность: 89.58 Сред. ошибка: 0.32833\n"
     ]
    },
    {
     "data": {
      "application/vnd.jupyter.widget-view+json": {
       "model_id": "b9fc408d165b496bb5543b0236532876",
       "version_major": 2,
       "version_minor": 0
      },
      "text/plain": [
       "  1%|          | 1/134 [00:00<?, ?it/s]"
      ]
     },
     "metadata": {},
     "output_type": "display_data"
    },
    {
     "name": "stdout",
     "output_type": "stream",
     "text": [
      "Результат обучения - Эпоха: 160  Сред. точность: 94.69 Сред. ошибка: 0.18223\n",
      "Результат валидации - Эпоха: 160  Сред. точность: 89.60 Сред. ошибка: 0.32793\n"
     ]
    },
    {
     "data": {
      "application/vnd.jupyter.widget-view+json": {
       "model_id": "7de30cb6727347328799a2cfde345347",
       "version_major": 2,
       "version_minor": 0
      },
      "text/plain": [
       "  1%|          | 1/134 [00:00<?, ?it/s]"
      ]
     },
     "metadata": {},
     "output_type": "display_data"
    },
    {
     "name": "stdout",
     "output_type": "stream",
     "text": [
      "Результат обучения - Эпоха: 161  Сред. точность: 94.72 Сред. ошибка: 0.18155\n",
      "Результат валидации - Эпоха: 161  Сред. точность: 89.58 Сред. ошибка: 0.32986\n"
     ]
    },
    {
     "data": {
      "application/vnd.jupyter.widget-view+json": {
       "model_id": "10d7c978a6104c9cb1af55f3c174d05b",
       "version_major": 2,
       "version_minor": 0
      },
      "text/plain": [
       "  1%|          | 1/134 [00:00<?, ?it/s]"
      ]
     },
     "metadata": {},
     "output_type": "display_data"
    },
    {
     "name": "stdout",
     "output_type": "stream",
     "text": [
      "Результат обучения - Эпоха: 162  Сред. точность: 94.63 Сред. ошибка: 0.18094\n",
      "Результат валидации - Эпоха: 162  Сред. точность: 89.60 Сред. ошибка: 0.33048\n"
     ]
    },
    {
     "data": {
      "application/vnd.jupyter.widget-view+json": {
       "model_id": "a1496e06d3fb4ddca5b110b90190fe88",
       "version_major": 2,
       "version_minor": 0
      },
      "text/plain": [
       "  1%|          | 1/134 [00:00<?, ?it/s]"
      ]
     },
     "metadata": {},
     "output_type": "display_data"
    },
    {
     "name": "stdout",
     "output_type": "stream",
     "text": [
      "Результат обучения - Эпоха: 163  Сред. точность: 94.78 Сред. ошибка: 0.17992\n",
      "Результат валидации - Эпоха: 163  Сред. точность: 89.64 Сред. ошибка: 0.32992\n"
     ]
    },
    {
     "data": {
      "application/vnd.jupyter.widget-view+json": {
       "model_id": "ad481401e66c48c18b2d93a9cea5346e",
       "version_major": 2,
       "version_minor": 0
      },
      "text/plain": [
       "  1%|          | 1/134 [00:00<?, ?it/s]"
      ]
     },
     "metadata": {},
     "output_type": "display_data"
    },
    {
     "name": "stdout",
     "output_type": "stream",
     "text": [
      "Результат обучения - Эпоха: 164  Сред. точность: 94.76 Сред. ошибка: 0.17914\n",
      "Результат валидации - Эпоха: 164  Сред. точность: 89.66 Сред. ошибка: 0.33078\n"
     ]
    },
    {
     "data": {
      "application/vnd.jupyter.widget-view+json": {
       "model_id": "41a96332157f47919f3d24334a729af4",
       "version_major": 2,
       "version_minor": 0
      },
      "text/plain": [
       "  1%|          | 1/134 [00:00<?, ?it/s]"
      ]
     },
     "metadata": {},
     "output_type": "display_data"
    },
    {
     "name": "stdout",
     "output_type": "stream",
     "text": [
      "Результат обучения - Эпоха: 165  Сред. точность: 94.71 Сред. ошибка: 0.17864\n",
      "Результат валидации - Эпоха: 165  Сред. точность: 89.50 Сред. ошибка: 0.32927\n"
     ]
    },
    {
     "data": {
      "application/vnd.jupyter.widget-view+json": {
       "model_id": "0f31a39df81c4ccba9e9ee0d04739cad",
       "version_major": 2,
       "version_minor": 0
      },
      "text/plain": [
       "  1%|          | 1/134 [00:00<?, ?it/s]"
      ]
     },
     "metadata": {},
     "output_type": "display_data"
    },
    {
     "name": "stdout",
     "output_type": "stream",
     "text": [
      "Результат обучения - Эпоха: 166  Сред. точность: 94.73 Сред. ошибка: 0.17784\n",
      "Результат валидации - Эпоха: 166  Сред. точность: 89.54 Сред. ошибка: 0.33089\n"
     ]
    },
    {
     "data": {
      "application/vnd.jupyter.widget-view+json": {
       "model_id": "0d7c36d5a7364da79f88d8746c30ea2d",
       "version_major": 2,
       "version_minor": 0
      },
      "text/plain": [
       "  1%|          | 1/134 [00:00<?, ?it/s]"
      ]
     },
     "metadata": {},
     "output_type": "display_data"
    },
    {
     "name": "stdout",
     "output_type": "stream",
     "text": [
      "Результат обучения - Эпоха: 167  Сред. точность: 94.83 Сред. ошибка: 0.17722\n",
      "Результат валидации - Эпоха: 167  Сред. точность: 89.68 Сред. ошибка: 0.32879\n"
     ]
    },
    {
     "data": {
      "application/vnd.jupyter.widget-view+json": {
       "model_id": "14f26a0c25114e89a7a4dc4685887d90",
       "version_major": 2,
       "version_minor": 0
      },
      "text/plain": [
       "  1%|          | 1/134 [00:00<?, ?it/s]"
      ]
     },
     "metadata": {},
     "output_type": "display_data"
    },
    {
     "name": "stdout",
     "output_type": "stream",
     "text": [
      "Результат обучения - Эпоха: 168  Сред. точность: 94.88 Сред. ошибка: 0.17638\n",
      "Результат валидации - Эпоха: 168  Сред. точность: 89.62 Сред. ошибка: 0.32961\n"
     ]
    },
    {
     "data": {
      "application/vnd.jupyter.widget-view+json": {
       "model_id": "6b85dddbf1784433ab92dacd4ceff6ed",
       "version_major": 2,
       "version_minor": 0
      },
      "text/plain": [
       "  1%|          | 1/134 [00:00<?, ?it/s]"
      ]
     },
     "metadata": {},
     "output_type": "display_data"
    },
    {
     "name": "stdout",
     "output_type": "stream",
     "text": [
      "Результат обучения - Эпоха: 169  Сред. точность: 94.87 Сред. ошибка: 0.17524\n",
      "Результат валидации - Эпоха: 169  Сред. точность: 89.68 Сред. ошибка: 0.32981\n"
     ]
    },
    {
     "data": {
      "application/vnd.jupyter.widget-view+json": {
       "model_id": "0ac53820ac97492b9c0c26f77a48d3db",
       "version_major": 2,
       "version_minor": 0
      },
      "text/plain": [
       "  1%|          | 1/134 [00:00<?, ?it/s]"
      ]
     },
     "metadata": {},
     "output_type": "display_data"
    },
    {
     "name": "stdout",
     "output_type": "stream",
     "text": [
      "Результат обучения - Эпоха: 170  Сред. точность: 94.86 Сред. ошибка: 0.17513\n",
      "Результат валидации - Эпоха: 170  Сред. точность: 89.52 Сред. ошибка: 0.33158\n"
     ]
    },
    {
     "data": {
      "application/vnd.jupyter.widget-view+json": {
       "model_id": "b2e1b4295de24147a520c1583b061680",
       "version_major": 2,
       "version_minor": 0
      },
      "text/plain": [
       "  1%|          | 1/134 [00:00<?, ?it/s]"
      ]
     },
     "metadata": {},
     "output_type": "display_data"
    },
    {
     "name": "stdout",
     "output_type": "stream",
     "text": [
      "Результат обучения - Эпоха: 171  Сред. точность: 94.85 Сред. ошибка: 0.17382\n",
      "Результат валидации - Эпоха: 171  Сред. точность: 89.52 Сред. ошибка: 0.33052\n"
     ]
    },
    {
     "data": {
      "application/vnd.jupyter.widget-view+json": {
       "model_id": "3e3ce9d4b3aa436ea85d74ebb55d138b",
       "version_major": 2,
       "version_minor": 0
      },
      "text/plain": [
       "  1%|          | 1/134 [00:00<?, ?it/s]"
      ]
     },
     "metadata": {},
     "output_type": "display_data"
    },
    {
     "name": "stdout",
     "output_type": "stream",
     "text": [
      "Результат обучения - Эпоха: 172  Сред. точность: 94.94 Сред. ошибка: 0.17349\n",
      "Результат валидации - Эпоха: 172  Сред. точность: 89.62 Сред. ошибка: 0.33316\n"
     ]
    },
    {
     "data": {
      "application/vnd.jupyter.widget-view+json": {
       "model_id": "9fd41b3848fb4fd0a18772521e3bb0ea",
       "version_major": 2,
       "version_minor": 0
      },
      "text/plain": [
       "  1%|          | 1/134 [00:00<?, ?it/s]"
      ]
     },
     "metadata": {},
     "output_type": "display_data"
    },
    {
     "name": "stdout",
     "output_type": "stream",
     "text": [
      "Результат обучения - Эпоха: 173  Сред. точность: 95.03 Сред. ошибка: 0.17192\n",
      "Результат валидации - Эпоха: 173  Сред. точность: 89.62 Сред. ошибка: 0.32992\n"
     ]
    },
    {
     "data": {
      "application/vnd.jupyter.widget-view+json": {
       "model_id": "859fdbf323c04b67bcafd7872693b8f9",
       "version_major": 2,
       "version_minor": 0
      },
      "text/plain": [
       "  1%|          | 1/134 [00:00<?, ?it/s]"
      ]
     },
     "metadata": {},
     "output_type": "display_data"
    },
    {
     "name": "stdout",
     "output_type": "stream",
     "text": [
      "Результат обучения - Эпоха: 174  Сред. точность: 95.00 Сред. ошибка: 0.17189\n",
      "Результат валидации - Эпоха: 174  Сред. точность: 89.60 Сред. ошибка: 0.33031\n"
     ]
    },
    {
     "data": {
      "application/vnd.jupyter.widget-view+json": {
       "model_id": "7f1199e391464e5ab61aeee7c95bc74b",
       "version_major": 2,
       "version_minor": 0
      },
      "text/plain": [
       "  1%|          | 1/134 [00:00<?, ?it/s]"
      ]
     },
     "metadata": {},
     "output_type": "display_data"
    },
    {
     "name": "stdout",
     "output_type": "stream",
     "text": [
      "Результат обучения - Эпоха: 175  Сред. точность: 94.97 Сред. ошибка: 0.17210\n",
      "Результат валидации - Эпоха: 175  Сред. точность: 89.58 Сред. ошибка: 0.33175\n"
     ]
    },
    {
     "data": {
      "application/vnd.jupyter.widget-view+json": {
       "model_id": "73922d7711534ba3bfdde57a2924b290",
       "version_major": 2,
       "version_minor": 0
      },
      "text/plain": [
       "  1%|          | 1/134 [00:00<?, ?it/s]"
      ]
     },
     "metadata": {},
     "output_type": "display_data"
    },
    {
     "name": "stdout",
     "output_type": "stream",
     "text": [
      "Результат обучения - Эпоха: 176  Сред. точность: 94.98 Сред. ошибка: 0.17038\n",
      "Результат валидации - Эпоха: 176  Сред. точность: 89.68 Сред. ошибка: 0.33117\n"
     ]
    },
    {
     "data": {
      "application/vnd.jupyter.widget-view+json": {
       "model_id": "0ccd9675d4a949d09b0dddee874beb7b",
       "version_major": 2,
       "version_minor": 0
      },
      "text/plain": [
       "  1%|          | 1/134 [00:00<?, ?it/s]"
      ]
     },
     "metadata": {},
     "output_type": "display_data"
    },
    {
     "name": "stdout",
     "output_type": "stream",
     "text": [
      "Результат обучения - Эпоха: 177  Сред. точность: 95.01 Сред. ошибка: 0.16922\n",
      "Результат валидации - Эпоха: 177  Сред. точность: 89.54 Сред. ошибка: 0.33231\n"
     ]
    },
    {
     "data": {
      "application/vnd.jupyter.widget-view+json": {
       "model_id": "679204466bad4bfcbba98f4758a2b2c1",
       "version_major": 2,
       "version_minor": 0
      },
      "text/plain": [
       "  1%|          | 1/134 [00:00<?, ?it/s]"
      ]
     },
     "metadata": {},
     "output_type": "display_data"
    },
    {
     "name": "stdout",
     "output_type": "stream",
     "text": [
      "Результат обучения - Эпоха: 178  Сред. точность: 95.09 Сред. ошибка: 0.16875\n",
      "Результат валидации - Эпоха: 178  Сред. точность: 89.72 Сред. ошибка: 0.33111\n"
     ]
    },
    {
     "data": {
      "application/vnd.jupyter.widget-view+json": {
       "model_id": "29f3fb7b89d44d4fa0eb6240e2a66b70",
       "version_major": 2,
       "version_minor": 0
      },
      "text/plain": [
       "  1%|          | 1/134 [00:00<?, ?it/s]"
      ]
     },
     "metadata": {},
     "output_type": "display_data"
    },
    {
     "name": "stdout",
     "output_type": "stream",
     "text": [
      "Результат обучения - Эпоха: 179  Сред. точность: 95.19 Сред. ошибка: 0.16795\n",
      "Результат валидации - Эпоха: 179  Сред. точность: 89.62 Сред. ошибка: 0.33271\n"
     ]
    },
    {
     "data": {
      "application/vnd.jupyter.widget-view+json": {
       "model_id": "5364b282524b4292ac81d585e7de01d3",
       "version_major": 2,
       "version_minor": 0
      },
      "text/plain": [
       "  1%|          | 1/134 [00:00<?, ?it/s]"
      ]
     },
     "metadata": {},
     "output_type": "display_data"
    },
    {
     "name": "stdout",
     "output_type": "stream",
     "text": [
      "Результат обучения - Эпоха: 180  Сред. точность: 95.09 Сред. ошибка: 0.16722\n",
      "Результат валидации - Эпоха: 180  Сред. точность: 89.70 Сред. ошибка: 0.33258\n"
     ]
    },
    {
     "data": {
      "application/vnd.jupyter.widget-view+json": {
       "model_id": "dac2ed6b28cf4dcf9fd3160a6c8fe233",
       "version_major": 2,
       "version_minor": 0
      },
      "text/plain": [
       "  1%|          | 1/134 [00:00<?, ?it/s]"
      ]
     },
     "metadata": {},
     "output_type": "display_data"
    },
    {
     "name": "stdout",
     "output_type": "stream",
     "text": [
      "Результат обучения - Эпоха: 181  Сред. точность: 95.17 Сред. ошибка: 0.16658\n",
      "Результат валидации - Эпоха: 181  Сред. точность: 89.68 Сред. ошибка: 0.33203\n"
     ]
    },
    {
     "data": {
      "application/vnd.jupyter.widget-view+json": {
       "model_id": "de6391ad04784559b9cbe9438ae0c599",
       "version_major": 2,
       "version_minor": 0
      },
      "text/plain": [
       "  1%|          | 1/134 [00:00<?, ?it/s]"
      ]
     },
     "metadata": {},
     "output_type": "display_data"
    },
    {
     "name": "stdout",
     "output_type": "stream",
     "text": [
      "Результат обучения - Эпоха: 182  Сред. точность: 95.17 Сред. ошибка: 0.16548\n",
      "Результат валидации - Эпоха: 182  Сред. точность: 89.66 Сред. ошибка: 0.33157\n"
     ]
    },
    {
     "data": {
      "application/vnd.jupyter.widget-view+json": {
       "model_id": "af6987956b564d5eb8b75a5fb4b27303",
       "version_major": 2,
       "version_minor": 0
      },
      "text/plain": [
       "  1%|          | 1/134 [00:00<?, ?it/s]"
      ]
     },
     "metadata": {},
     "output_type": "display_data"
    },
    {
     "name": "stdout",
     "output_type": "stream",
     "text": [
      "Результат обучения - Эпоха: 183  Сред. точность: 95.19 Сред. ошибка: 0.16552\n",
      "Результат валидации - Эпоха: 183  Сред. точность: 89.58 Сред. ошибка: 0.33367\n"
     ]
    },
    {
     "data": {
      "application/vnd.jupyter.widget-view+json": {
       "model_id": "4404e10c75684819a4c6a6dfb2306609",
       "version_major": 2,
       "version_minor": 0
      },
      "text/plain": [
       "  1%|          | 1/134 [00:00<?, ?it/s]"
      ]
     },
     "metadata": {},
     "output_type": "display_data"
    },
    {
     "name": "stdout",
     "output_type": "stream",
     "text": [
      "Результат обучения - Эпоха: 184  Сред. точность: 95.21 Сред. ошибка: 0.16408\n",
      "Результат валидации - Эпоха: 184  Сред. точность: 89.60 Сред. ошибка: 0.33308\n"
     ]
    },
    {
     "data": {
      "application/vnd.jupyter.widget-view+json": {
       "model_id": "09ef957f9efe45d99412cbdf313b9c24",
       "version_major": 2,
       "version_minor": 0
      },
      "text/plain": [
       "  1%|          | 1/134 [00:00<?, ?it/s]"
      ]
     },
     "metadata": {},
     "output_type": "display_data"
    },
    {
     "name": "stdout",
     "output_type": "stream",
     "text": [
      "Результат обучения - Эпоха: 185  Сред. точность: 95.28 Сред. ошибка: 0.16426\n",
      "Результат валидации - Эпоха: 185  Сред. точность: 89.84 Сред. ошибка: 0.33256\n"
     ]
    },
    {
     "data": {
      "application/vnd.jupyter.widget-view+json": {
       "model_id": "7d6613df44874b678935a88639d174ee",
       "version_major": 2,
       "version_minor": 0
      },
      "text/plain": [
       "  1%|          | 1/134 [00:00<?, ?it/s]"
      ]
     },
     "metadata": {},
     "output_type": "display_data"
    },
    {
     "name": "stdout",
     "output_type": "stream",
     "text": [
      "Результат обучения - Эпоха: 186  Сред. точность: 95.26 Сред. ошибка: 0.16343\n",
      "Результат валидации - Эпоха: 186  Сред. точность: 89.46 Сред. ошибка: 0.33468\n"
     ]
    },
    {
     "data": {
      "application/vnd.jupyter.widget-view+json": {
       "model_id": "496ac35c9acb4b9e935843479faf22e5",
       "version_major": 2,
       "version_minor": 0
      },
      "text/plain": [
       "  1%|          | 1/134 [00:00<?, ?it/s]"
      ]
     },
     "metadata": {},
     "output_type": "display_data"
    },
    {
     "name": "stdout",
     "output_type": "stream",
     "text": [
      "Результат обучения - Эпоха: 187  Сред. точность: 95.25 Сред. ошибка: 0.16245\n",
      "Результат валидации - Эпоха: 187  Сред. точность: 89.66 Сред. ошибка: 0.33419\n"
     ]
    },
    {
     "data": {
      "application/vnd.jupyter.widget-view+json": {
       "model_id": "358991e4016b482c8e89407fc54e1da6",
       "version_major": 2,
       "version_minor": 0
      },
      "text/plain": [
       "  1%|          | 1/134 [00:00<?, ?it/s]"
      ]
     },
     "metadata": {},
     "output_type": "display_data"
    },
    {
     "name": "stdout",
     "output_type": "stream",
     "text": [
      "Результат обучения - Эпоха: 188  Сред. точность: 95.27 Сред. ошибка: 0.16240\n",
      "Результат валидации - Эпоха: 188  Сред. точность: 89.82 Сред. ошибка: 0.33298\n"
     ]
    },
    {
     "data": {
      "application/vnd.jupyter.widget-view+json": {
       "model_id": "f4f3312da63b4214b7ba22338a07c54d",
       "version_major": 2,
       "version_minor": 0
      },
      "text/plain": [
       "  1%|          | 1/134 [00:00<?, ?it/s]"
      ]
     },
     "metadata": {},
     "output_type": "display_data"
    },
    {
     "name": "stdout",
     "output_type": "stream",
     "text": [
      "Результат обучения - Эпоха: 189  Сред. точность: 95.45 Сред. ошибка: 0.16106\n",
      "Результат валидации - Эпоха: 189  Сред. точность: 89.66 Сред. ошибка: 0.33385\n"
     ]
    },
    {
     "data": {
      "application/vnd.jupyter.widget-view+json": {
       "model_id": "11d0166369224e43b1d83e494eb01d8d",
       "version_major": 2,
       "version_minor": 0
      },
      "text/plain": [
       "  1%|          | 1/134 [00:00<?, ?it/s]"
      ]
     },
     "metadata": {},
     "output_type": "display_data"
    },
    {
     "name": "stdout",
     "output_type": "stream",
     "text": [
      "Результат обучения - Эпоха: 190  Сред. точность: 95.40 Сред. ошибка: 0.16023\n",
      "Результат валидации - Эпоха: 190  Сред. точность: 89.64 Сред. ошибка: 0.33396\n"
     ]
    },
    {
     "data": {
      "application/vnd.jupyter.widget-view+json": {
       "model_id": "700170aa77234f329e27226ab008a0f9",
       "version_major": 2,
       "version_minor": 0
      },
      "text/plain": [
       "  1%|          | 1/134 [00:00<?, ?it/s]"
      ]
     },
     "metadata": {},
     "output_type": "display_data"
    },
    {
     "name": "stdout",
     "output_type": "stream",
     "text": [
      "Результат обучения - Эпоха: 191  Сред. точность: 95.39 Сред. ошибка: 0.15946\n",
      "Результат валидации - Эпоха: 191  Сред. точность: 89.70 Сред. ошибка: 0.33501\n"
     ]
    },
    {
     "data": {
      "application/vnd.jupyter.widget-view+json": {
       "model_id": "631736ec8e0d4e21aa9a0e2ea6840c5e",
       "version_major": 2,
       "version_minor": 0
      },
      "text/plain": [
       "  1%|          | 1/134 [00:00<?, ?it/s]"
      ]
     },
     "metadata": {},
     "output_type": "display_data"
    },
    {
     "name": "stdout",
     "output_type": "stream",
     "text": [
      "Результат обучения - Эпоха: 192  Сред. точность: 95.28 Сред. ошибка: 0.15977\n",
      "Результат валидации - Эпоха: 192  Сред. точность: 89.92 Сред. ошибка: 0.33482\n"
     ]
    },
    {
     "data": {
      "application/vnd.jupyter.widget-view+json": {
       "model_id": "17e3996c332c4c04b0b98c981247f58b",
       "version_major": 2,
       "version_minor": 0
      },
      "text/plain": [
       "  1%|          | 1/134 [00:00<?, ?it/s]"
      ]
     },
     "metadata": {},
     "output_type": "display_data"
    },
    {
     "name": "stdout",
     "output_type": "stream",
     "text": [
      "Результат обучения - Эпоха: 193  Сред. точность: 95.45 Сред. ошибка: 0.15809\n",
      "Результат валидации - Эпоха: 193  Сред. точность: 89.66 Сред. ошибка: 0.33373\n"
     ]
    },
    {
     "data": {
      "application/vnd.jupyter.widget-view+json": {
       "model_id": "caa7f74dc5be4e259dc230b36c95d6fb",
       "version_major": 2,
       "version_minor": 0
      },
      "text/plain": [
       "  1%|          | 1/134 [00:00<?, ?it/s]"
      ]
     },
     "metadata": {},
     "output_type": "display_data"
    },
    {
     "name": "stdout",
     "output_type": "stream",
     "text": [
      "Результат обучения - Эпоха: 194  Сред. точность: 95.35 Сред. ошибка: 0.15954\n",
      "Результат валидации - Эпоха: 194  Сред. точность: 89.60 Сред. ошибка: 0.33732\n"
     ]
    },
    {
     "data": {
      "application/vnd.jupyter.widget-view+json": {
       "model_id": "c9f4056268e24e54aa63254650da728b",
       "version_major": 2,
       "version_minor": 0
      },
      "text/plain": [
       "  1%|          | 1/134 [00:00<?, ?it/s]"
      ]
     },
     "metadata": {},
     "output_type": "display_data"
    },
    {
     "name": "stdout",
     "output_type": "stream",
     "text": [
      "Результат обучения - Эпоха: 195  Сред. точность: 95.40 Сред. ошибка: 0.15787\n",
      "Результат валидации - Эпоха: 195  Сред. точность: 89.82 Сред. ошибка: 0.33517\n"
     ]
    },
    {
     "data": {
      "application/vnd.jupyter.widget-view+json": {
       "model_id": "34d7b2019f1d4be1b829e893cc2bdfb1",
       "version_major": 2,
       "version_minor": 0
      },
      "text/plain": [
       "  1%|          | 1/134 [00:00<?, ?it/s]"
      ]
     },
     "metadata": {},
     "output_type": "display_data"
    },
    {
     "name": "stdout",
     "output_type": "stream",
     "text": [
      "Результат обучения - Эпоха: 196  Сред. точность: 95.51 Сред. ошибка: 0.15580\n",
      "Результат валидации - Эпоха: 196  Сред. точность: 89.60 Сред. ошибка: 0.33404\n"
     ]
    },
    {
     "data": {
      "application/vnd.jupyter.widget-view+json": {
       "model_id": "95ff76ecba6143dfa97d0d94dbb385c8",
       "version_major": 2,
       "version_minor": 0
      },
      "text/plain": [
       "  1%|          | 1/134 [00:00<?, ?it/s]"
      ]
     },
     "metadata": {},
     "output_type": "display_data"
    },
    {
     "name": "stdout",
     "output_type": "stream",
     "text": [
      "Результат обучения - Эпоха: 197  Сред. точность: 95.48 Сред. ошибка: 0.15589\n",
      "Результат валидации - Эпоха: 197  Сред. точность: 89.86 Сред. ошибка: 0.33527\n"
     ]
    },
    {
     "data": {
      "application/vnd.jupyter.widget-view+json": {
       "model_id": "ac07c30b8c86494290d29a7e67ed6018",
       "version_major": 2,
       "version_minor": 0
      },
      "text/plain": [
       "  1%|          | 1/134 [00:00<?, ?it/s]"
      ]
     },
     "metadata": {},
     "output_type": "display_data"
    },
    {
     "name": "stdout",
     "output_type": "stream",
     "text": [
      "Результат обучения - Эпоха: 198  Сред. точность: 95.49 Сред. ошибка: 0.15606\n",
      "Результат валидации - Эпоха: 198  Сред. точность: 89.70 Сред. ошибка: 0.33763\n"
     ]
    },
    {
     "data": {
      "application/vnd.jupyter.widget-view+json": {
       "model_id": "1537f1df17bd4103bc640479c487d4c5",
       "version_major": 2,
       "version_minor": 0
      },
      "text/plain": [
       "  1%|          | 1/134 [00:00<?, ?it/s]"
      ]
     },
     "metadata": {},
     "output_type": "display_data"
    },
    {
     "name": "stdout",
     "output_type": "stream",
     "text": [
      "Результат обучения - Эпоха: 199  Сред. точность: 95.54 Сред. ошибка: 0.15504\n",
      "Результат валидации - Эпоха: 199  Сред. точность: 89.90 Сред. ошибка: 0.33544\n"
     ]
    },
    {
     "data": {
      "application/vnd.jupyter.widget-view+json": {
       "model_id": "410473e278e64f6c885503ee6bdffc5c",
       "version_major": 2,
       "version_minor": 0
      },
      "text/plain": [
       "  1%|          | 1/134 [00:00<?, ?it/s]"
      ]
     },
     "metadata": {},
     "output_type": "display_data"
    },
    {
     "name": "stdout",
     "output_type": "stream",
     "text": [
      "Результат обучения - Эпоха: 200  Сред. точность: 95.55 Сред. ошибка: 0.15352\n",
      "Результат валидации - Эпоха: 200  Сред. точность: 89.68 Сред. ошибка: 0.33527\n"
     ]
    },
    {
     "data": {
      "application/vnd.jupyter.widget-view+json": {
       "model_id": "26981ce64fa84c2cb8d84f0896d7c34c",
       "version_major": 2,
       "version_minor": 0
      },
      "text/plain": [
       "  1%|          | 1/134 [00:00<?, ?it/s]"
      ]
     },
     "metadata": {},
     "output_type": "display_data"
    },
    {
     "name": "stdout",
     "output_type": "stream",
     "text": [
      "Результат обучения - Эпоха: 201  Сред. точность: 95.52 Сред. ошибка: 0.15358\n",
      "Результат валидации - Эпоха: 201  Сред. точность: 89.74 Сред. ошибка: 0.33680\n"
     ]
    },
    {
     "data": {
      "application/vnd.jupyter.widget-view+json": {
       "model_id": "5a54e1a2dbfe424d9f1ea140e52b2bde",
       "version_major": 2,
       "version_minor": 0
      },
      "text/plain": [
       "  1%|          | 1/134 [00:00<?, ?it/s]"
      ]
     },
     "metadata": {},
     "output_type": "display_data"
    },
    {
     "name": "stdout",
     "output_type": "stream",
     "text": [
      "Результат обучения - Эпоха: 202  Сред. точность: 95.60 Сред. ошибка: 0.15227\n",
      "Результат валидации - Эпоха: 202  Сред. точность: 89.78 Сред. ошибка: 0.33655\n"
     ]
    },
    {
     "data": {
      "application/vnd.jupyter.widget-view+json": {
       "model_id": "5007f855ae844e24b79a8de861e30dc7",
       "version_major": 2,
       "version_minor": 0
      },
      "text/plain": [
       "  1%|          | 1/134 [00:00<?, ?it/s]"
      ]
     },
     "metadata": {},
     "output_type": "display_data"
    },
    {
     "name": "stdout",
     "output_type": "stream",
     "text": [
      "Результат обучения - Эпоха: 203  Сред. точность: 95.70 Сред. ошибка: 0.15136\n",
      "Результат валидации - Эпоха: 203  Сред. точность: 89.76 Сред. ошибка: 0.33651\n"
     ]
    },
    {
     "data": {
      "application/vnd.jupyter.widget-view+json": {
       "model_id": "96bb06b61e3f4523a8f4d77a68086fa4",
       "version_major": 2,
       "version_minor": 0
      },
      "text/plain": [
       "  1%|          | 1/134 [00:00<?, ?it/s]"
      ]
     },
     "metadata": {},
     "output_type": "display_data"
    },
    {
     "name": "stdout",
     "output_type": "stream",
     "text": [
      "Результат обучения - Эпоха: 204  Сред. точность: 95.69 Сред. ошибка: 0.15085\n",
      "Результат валидации - Эпоха: 204  Сред. точность: 89.84 Сред. ошибка: 0.33615\n"
     ]
    },
    {
     "data": {
      "application/vnd.jupyter.widget-view+json": {
       "model_id": "e55c4f7056794c618b63ccb1327c80f5",
       "version_major": 2,
       "version_minor": 0
      },
      "text/plain": [
       "  1%|          | 1/134 [00:00<?, ?it/s]"
      ]
     },
     "metadata": {},
     "output_type": "display_data"
    },
    {
     "name": "stdout",
     "output_type": "stream",
     "text": [
      "Результат обучения - Эпоха: 205  Сред. точность: 95.69 Сред. ошибка: 0.15011\n",
      "Результат валидации - Эпоха: 205  Сред. точность: 89.68 Сред. ошибка: 0.33624\n"
     ]
    },
    {
     "data": {
      "application/vnd.jupyter.widget-view+json": {
       "model_id": "2d0408420cdd415c85dea8c582d05cfd",
       "version_major": 2,
       "version_minor": 0
      },
      "text/plain": [
       "  1%|          | 1/134 [00:00<?, ?it/s]"
      ]
     },
     "metadata": {},
     "output_type": "display_data"
    },
    {
     "name": "stdout",
     "output_type": "stream",
     "text": [
      "Результат обучения - Эпоха: 206  Сред. точность: 95.69 Сред. ошибка: 0.14998\n",
      "Результат валидации - Эпоха: 206  Сред. точность: 89.80 Сред. ошибка: 0.33835\n"
     ]
    },
    {
     "data": {
      "application/vnd.jupyter.widget-view+json": {
       "model_id": "a1591c8aa8724f938d2888e283bc020f",
       "version_major": 2,
       "version_minor": 0
      },
      "text/plain": [
       "  1%|          | 1/134 [00:00<?, ?it/s]"
      ]
     },
     "metadata": {},
     "output_type": "display_data"
    },
    {
     "name": "stdout",
     "output_type": "stream",
     "text": [
      "Результат обучения - Эпоха: 207  Сред. точность: 95.72 Сред. ошибка: 0.14945\n",
      "Результат валидации - Эпоха: 207  Сред. точность: 89.76 Сред. ошибка: 0.33933\n"
     ]
    },
    {
     "data": {
      "application/vnd.jupyter.widget-view+json": {
       "model_id": "c5f6a348586c4d5389fc1149fad53ea4",
       "version_major": 2,
       "version_minor": 0
      },
      "text/plain": [
       "  1%|          | 1/134 [00:00<?, ?it/s]"
      ]
     },
     "metadata": {},
     "output_type": "display_data"
    },
    {
     "name": "stdout",
     "output_type": "stream",
     "text": [
      "Результат обучения - Эпоха: 208  Сред. точность: 95.66 Сред. ошибка: 0.14957\n",
      "Результат валидации - Эпоха: 208  Сред. точность: 89.70 Сред. ошибка: 0.34140\n"
     ]
    },
    {
     "data": {
      "application/vnd.jupyter.widget-view+json": {
       "model_id": "b8be5b2a93ba4ad4b543887df48f1801",
       "version_major": 2,
       "version_minor": 0
      },
      "text/plain": [
       "  1%|          | 1/134 [00:00<?, ?it/s]"
      ]
     },
     "metadata": {},
     "output_type": "display_data"
    },
    {
     "name": "stdout",
     "output_type": "stream",
     "text": [
      "Результат обучения - Эпоха: 209  Сред. точность: 95.86 Сред. ошибка: 0.14821\n",
      "Результат валидации - Эпоха: 209  Сред. точность: 89.66 Сред. ошибка: 0.33846\n"
     ]
    },
    {
     "data": {
      "application/vnd.jupyter.widget-view+json": {
       "model_id": "1315ce71e772477ca967f15ecb444b33",
       "version_major": 2,
       "version_minor": 0
      },
      "text/plain": [
       "  1%|          | 1/134 [00:00<?, ?it/s]"
      ]
     },
     "metadata": {},
     "output_type": "display_data"
    },
    {
     "name": "stdout",
     "output_type": "stream",
     "text": [
      "Результат обучения - Эпоха: 210  Сред. точность: 95.89 Сред. ошибка: 0.14679\n",
      "Результат валидации - Эпоха: 210  Сред. точность: 89.70 Сред. ошибка: 0.33757\n"
     ]
    },
    {
     "data": {
      "application/vnd.jupyter.widget-view+json": {
       "model_id": "2c3bd24df6e94f35a792acaa0c468df6",
       "version_major": 2,
       "version_minor": 0
      },
      "text/plain": [
       "  1%|          | 1/134 [00:00<?, ?it/s]"
      ]
     },
     "metadata": {},
     "output_type": "display_data"
    },
    {
     "name": "stdout",
     "output_type": "stream",
     "text": [
      "Результат обучения - Эпоха: 211  Сред. точность: 95.74 Сред. ошибка: 0.14716\n",
      "Результат валидации - Эпоха: 211  Сред. точность: 89.78 Сред. ошибка: 0.34126\n"
     ]
    },
    {
     "data": {
      "application/vnd.jupyter.widget-view+json": {
       "model_id": "4c38bfd7252c4e519dd2b32bd29aa589",
       "version_major": 2,
       "version_minor": 0
      },
      "text/plain": [
       "  1%|          | 1/134 [00:00<?, ?it/s]"
      ]
     },
     "metadata": {},
     "output_type": "display_data"
    },
    {
     "name": "stdout",
     "output_type": "stream",
     "text": [
      "Результат обучения - Эпоха: 212  Сред. точность: 95.85 Сред. ошибка: 0.14604\n",
      "Результат валидации - Эпоха: 212  Сред. точность: 89.86 Сред. ошибка: 0.33880\n"
     ]
    },
    {
     "data": {
      "application/vnd.jupyter.widget-view+json": {
       "model_id": "d3c737c4e4094392b225272823b13f71",
       "version_major": 2,
       "version_minor": 0
      },
      "text/plain": [
       "  1%|          | 1/134 [00:00<?, ?it/s]"
      ]
     },
     "metadata": {},
     "output_type": "display_data"
    },
    {
     "name": "stdout",
     "output_type": "stream",
     "text": [
      "Результат обучения - Эпоха: 213  Сред. точность: 95.85 Сред. ошибка: 0.14521\n",
      "Результат валидации - Эпоха: 213  Сред. точность: 89.84 Сред. ошибка: 0.34093\n"
     ]
    },
    {
     "data": {
      "application/vnd.jupyter.widget-view+json": {
       "model_id": "679a840555d24e648d9fba06185ec8e6",
       "version_major": 2,
       "version_minor": 0
      },
      "text/plain": [
       "  1%|          | 1/134 [00:00<?, ?it/s]"
      ]
     },
     "metadata": {},
     "output_type": "display_data"
    },
    {
     "name": "stdout",
     "output_type": "stream",
     "text": [
      "Результат обучения - Эпоха: 214  Сред. точность: 95.89 Сред. ошибка: 0.14508\n",
      "Результат валидации - Эпоха: 214  Сред. точность: 89.90 Сред. ошибка: 0.34228\n"
     ]
    },
    {
     "data": {
      "application/vnd.jupyter.widget-view+json": {
       "model_id": "3881f053053c4dafafd479fcff962e27",
       "version_major": 2,
       "version_minor": 0
      },
      "text/plain": [
       "  1%|          | 1/134 [00:00<?, ?it/s]"
      ]
     },
     "metadata": {},
     "output_type": "display_data"
    },
    {
     "name": "stdout",
     "output_type": "stream",
     "text": [
      "Результат обучения - Эпоха: 215  Сред. точность: 95.98 Сред. ошибка: 0.14352\n",
      "Результат валидации - Эпоха: 215  Сред. точность: 89.94 Сред. ошибка: 0.33928\n"
     ]
    },
    {
     "data": {
      "application/vnd.jupyter.widget-view+json": {
       "model_id": "9454dfc5211c4dd5938539cbcabba537",
       "version_major": 2,
       "version_minor": 0
      },
      "text/plain": [
       "  1%|          | 1/134 [00:00<?, ?it/s]"
      ]
     },
     "metadata": {},
     "output_type": "display_data"
    },
    {
     "name": "stdout",
     "output_type": "stream",
     "text": [
      "Результат обучения - Эпоха: 216  Сред. точность: 95.92 Сред. ошибка: 0.14375\n",
      "Результат валидации - Эпоха: 216  Сред. точность: 89.74 Сред. ошибка: 0.34080\n"
     ]
    },
    {
     "data": {
      "application/vnd.jupyter.widget-view+json": {
       "model_id": "412a621beb124bfa837d6b3add77bd59",
       "version_major": 2,
       "version_minor": 0
      },
      "text/plain": [
       "  1%|          | 1/134 [00:00<?, ?it/s]"
      ]
     },
     "metadata": {},
     "output_type": "display_data"
    },
    {
     "name": "stdout",
     "output_type": "stream",
     "text": [
      "Результат обучения - Эпоха: 217  Сред. точность: 96.03 Сред. ошибка: 0.14294\n",
      "Результат валидации - Эпоха: 217  Сред. точность: 89.80 Сред. ошибка: 0.34040\n"
     ]
    },
    {
     "data": {
      "application/vnd.jupyter.widget-view+json": {
       "model_id": "165a90879a24484b8c446c0050404d61",
       "version_major": 2,
       "version_minor": 0
      },
      "text/plain": [
       "  1%|          | 1/134 [00:00<?, ?it/s]"
      ]
     },
     "metadata": {},
     "output_type": "display_data"
    },
    {
     "name": "stdout",
     "output_type": "stream",
     "text": [
      "Результат обучения - Эпоха: 218  Сред. точность: 95.98 Сред. ошибка: 0.14237\n",
      "Результат валидации - Эпоха: 218  Сред. точность: 89.78 Сред. ошибка: 0.34126\n"
     ]
    },
    {
     "data": {
      "application/vnd.jupyter.widget-view+json": {
       "model_id": "a5a96e7da4a3456d8bb37ef197bcf15c",
       "version_major": 2,
       "version_minor": 0
      },
      "text/plain": [
       "  1%|          | 1/134 [00:00<?, ?it/s]"
      ]
     },
     "metadata": {},
     "output_type": "display_data"
    },
    {
     "name": "stdout",
     "output_type": "stream",
     "text": [
      "Результат обучения - Эпоха: 219  Сред. точность: 95.98 Сред. ошибка: 0.14175\n",
      "Результат валидации - Эпоха: 219  Сред. точность: 89.82 Сред. ошибка: 0.34105\n"
     ]
    },
    {
     "data": {
      "application/vnd.jupyter.widget-view+json": {
       "model_id": "ec50de3136c64d8ba0bd1c58905e6c66",
       "version_major": 2,
       "version_minor": 0
      },
      "text/plain": [
       "  1%|          | 1/134 [00:00<?, ?it/s]"
      ]
     },
     "metadata": {},
     "output_type": "display_data"
    },
    {
     "name": "stdout",
     "output_type": "stream",
     "text": [
      "Результат обучения - Эпоха: 220  Сред. точность: 95.98 Сред. ошибка: 0.14142\n",
      "Результат валидации - Эпоха: 220  Сред. точность: 89.78 Сред. ошибка: 0.34487\n"
     ]
    },
    {
     "data": {
      "application/vnd.jupyter.widget-view+json": {
       "model_id": "e711aeb8b8fa40f6b7aea10b29b4ed7e",
       "version_major": 2,
       "version_minor": 0
      },
      "text/plain": [
       "  1%|          | 1/134 [00:00<?, ?it/s]"
      ]
     },
     "metadata": {},
     "output_type": "display_data"
    },
    {
     "name": "stdout",
     "output_type": "stream",
     "text": [
      "Результат обучения - Эпоха: 221  Сред. точность: 96.04 Сред. ошибка: 0.14060\n",
      "Результат валидации - Эпоха: 221  Сред. точность: 89.84 Сред. ошибка: 0.34280\n"
     ]
    },
    {
     "data": {
      "application/vnd.jupyter.widget-view+json": {
       "model_id": "98526d3ea2fc4c99b647a223c1335cd2",
       "version_major": 2,
       "version_minor": 0
      },
      "text/plain": [
       "  1%|          | 1/134 [00:00<?, ?it/s]"
      ]
     },
     "metadata": {},
     "output_type": "display_data"
    },
    {
     "name": "stdout",
     "output_type": "stream",
     "text": [
      "Результат обучения - Эпоха: 222  Сред. точность: 95.94 Сред. ошибка: 0.13998\n",
      "Результат валидации - Эпоха: 222  Сред. точность: 89.74 Сред. ошибка: 0.34381\n"
     ]
    },
    {
     "data": {
      "application/vnd.jupyter.widget-view+json": {
       "model_id": "13db273f6d7b4d8b91e4a64f533055d9",
       "version_major": 2,
       "version_minor": 0
      },
      "text/plain": [
       "  1%|          | 1/134 [00:00<?, ?it/s]"
      ]
     },
     "metadata": {},
     "output_type": "display_data"
    },
    {
     "name": "stdout",
     "output_type": "stream",
     "text": [
      "Результат обучения - Эпоха: 223  Сред. точность: 95.91 Сред. ошибка: 0.14160\n",
      "Результат валидации - Эпоха: 223  Сред. точность: 89.54 Сред. ошибка: 0.34867\n"
     ]
    },
    {
     "data": {
      "application/vnd.jupyter.widget-view+json": {
       "model_id": "9810688f9fe444fd8a66c9b5f0557711",
       "version_major": 2,
       "version_minor": 0
      },
      "text/plain": [
       "  1%|          | 1/134 [00:00<?, ?it/s]"
      ]
     },
     "metadata": {},
     "output_type": "display_data"
    },
    {
     "name": "stdout",
     "output_type": "stream",
     "text": [
      "Результат обучения - Эпоха: 224  Сред. точность: 96.05 Сред. ошибка: 0.13942\n",
      "Результат валидации - Эпоха: 224  Сред. точность: 89.96 Сред. ошибка: 0.34533\n"
     ]
    },
    {
     "data": {
      "application/vnd.jupyter.widget-view+json": {
       "model_id": "b006d7b8064c48eda2d30c08d66f8c48",
       "version_major": 2,
       "version_minor": 0
      },
      "text/plain": [
       "  1%|          | 1/134 [00:00<?, ?it/s]"
      ]
     },
     "metadata": {},
     "output_type": "display_data"
    },
    {
     "name": "stdout",
     "output_type": "stream",
     "text": [
      "Результат обучения - Эпоха: 225  Сред. точность: 96.18 Сред. ошибка: 0.13777\n",
      "Результат валидации - Эпоха: 225  Сред. точность: 89.88 Сред. ошибка: 0.34332\n"
     ]
    },
    {
     "data": {
      "application/vnd.jupyter.widget-view+json": {
       "model_id": "734f0e05a1b2412989cbd0be8ed8ab7a",
       "version_major": 2,
       "version_minor": 0
      },
      "text/plain": [
       "  1%|          | 1/134 [00:00<?, ?it/s]"
      ]
     },
     "metadata": {},
     "output_type": "display_data"
    },
    {
     "name": "stdout",
     "output_type": "stream",
     "text": [
      "Результат обучения - Эпоха: 226  Сред. точность: 95.99 Сред. ошибка: 0.14036\n",
      "Результат валидации - Эпоха: 226  Сред. точность: 89.84 Сред. ошибка: 0.35100\n"
     ]
    },
    {
     "data": {
      "application/vnd.jupyter.widget-view+json": {
       "model_id": "f65ad5bcb1564f81847c45a85ead847c",
       "version_major": 2,
       "version_minor": 0
      },
      "text/plain": [
       "  1%|          | 1/134 [00:00<?, ?it/s]"
      ]
     },
     "metadata": {},
     "output_type": "display_data"
    },
    {
     "name": "stdout",
     "output_type": "stream",
     "text": [
      "Результат обучения - Эпоха: 227  Сред. точность: 96.21 Сред. ошибка: 0.13676\n",
      "Результат валидации - Эпоха: 227  Сред. точность: 89.68 Сред. ошибка: 0.34548\n"
     ]
    },
    {
     "data": {
      "application/vnd.jupyter.widget-view+json": {
       "model_id": "83fb0285ea744f03b71b9ec81fffde34",
       "version_major": 2,
       "version_minor": 0
      },
      "text/plain": [
       "  1%|          | 1/134 [00:00<?, ?it/s]"
      ]
     },
     "metadata": {},
     "output_type": "display_data"
    },
    {
     "name": "stdout",
     "output_type": "stream",
     "text": [
      "Результат обучения - Эпоха: 228  Сред. точность: 96.19 Сред. ошибка: 0.13688\n",
      "Результат валидации - Эпоха: 228  Сред. точность: 89.92 Сред. ошибка: 0.34806\n"
     ]
    },
    {
     "data": {
      "application/vnd.jupyter.widget-view+json": {
       "model_id": "88c30990a3a34bbb9bdf2035f4c29fcb",
       "version_major": 2,
       "version_minor": 0
      },
      "text/plain": [
       "  1%|          | 1/134 [00:00<?, ?it/s]"
      ]
     },
     "metadata": {},
     "output_type": "display_data"
    },
    {
     "name": "stdout",
     "output_type": "stream",
     "text": [
      "Результат обучения - Эпоха: 229  Сред. точность: 96.24 Сред. ошибка: 0.13602\n",
      "Результат валидации - Эпоха: 229  Сред. точность: 89.64 Сред. ошибка: 0.34674\n"
     ]
    },
    {
     "data": {
      "application/vnd.jupyter.widget-view+json": {
       "model_id": "2d16c32efeaa4a6c9f26026706fdbd6f",
       "version_major": 2,
       "version_minor": 0
      },
      "text/plain": [
       "  1%|          | 1/134 [00:00<?, ?it/s]"
      ]
     },
     "metadata": {},
     "output_type": "display_data"
    },
    {
     "name": "stdout",
     "output_type": "stream",
     "text": [
      "Результат обучения - Эпоха: 230  Сред. точность: 96.25 Сред. ошибка: 0.13520\n",
      "Результат валидации - Эпоха: 230  Сред. точность: 89.76 Сред. ошибка: 0.34533\n"
     ]
    },
    {
     "data": {
      "application/vnd.jupyter.widget-view+json": {
       "model_id": "dd4ecf7fb4c4475c9b04594ddf7cc9e4",
       "version_major": 2,
       "version_minor": 0
      },
      "text/plain": [
       "  1%|          | 1/134 [00:00<?, ?it/s]"
      ]
     },
     "metadata": {},
     "output_type": "display_data"
    },
    {
     "name": "stdout",
     "output_type": "stream",
     "text": [
      "Результат обучения - Эпоха: 231  Сред. точность: 96.25 Сред. ошибка: 0.13500\n",
      "Результат валидации - Эпоха: 231  Сред. точность: 89.98 Сред. ошибка: 0.34664\n"
     ]
    },
    {
     "data": {
      "application/vnd.jupyter.widget-view+json": {
       "model_id": "736b774585434594a21118054b68b5e5",
       "version_major": 2,
       "version_minor": 0
      },
      "text/plain": [
       "  1%|          | 1/134 [00:00<?, ?it/s]"
      ]
     },
     "metadata": {},
     "output_type": "display_data"
    },
    {
     "name": "stdout",
     "output_type": "stream",
     "text": [
      "Результат обучения - Эпоха: 232  Сред. точность: 96.34 Сред. ошибка: 0.13399\n",
      "Результат валидации - Эпоха: 232  Сред. точность: 89.88 Сред. ошибка: 0.34719\n"
     ]
    },
    {
     "data": {
      "application/vnd.jupyter.widget-view+json": {
       "model_id": "d6907cc613734f27b8f93b97c35875d3",
       "version_major": 2,
       "version_minor": 0
      },
      "text/plain": [
       "  1%|          | 1/134 [00:00<?, ?it/s]"
      ]
     },
     "metadata": {},
     "output_type": "display_data"
    },
    {
     "name": "stdout",
     "output_type": "stream",
     "text": [
      "Результат обучения - Эпоха: 233  Сред. точность: 96.20 Сред. ошибка: 0.13486\n",
      "Результат валидации - Эпоха: 233  Сред. точность: 89.92 Сред. ошибка: 0.35153\n"
     ]
    },
    {
     "data": {
      "application/vnd.jupyter.widget-view+json": {
       "model_id": "95493e6748a54a448a9a472c869a0c2a",
       "version_major": 2,
       "version_minor": 0
      },
      "text/plain": [
       "  1%|          | 1/134 [00:00<?, ?it/s]"
      ]
     },
     "metadata": {},
     "output_type": "display_data"
    },
    {
     "name": "stdout",
     "output_type": "stream",
     "text": [
      "Результат обучения - Эпоха: 234  Сред. точность: 96.35 Сред. ошибка: 0.13316\n",
      "Результат валидации - Эпоха: 234  Сред. точность: 89.86 Сред. ошибка: 0.34713\n"
     ]
    },
    {
     "data": {
      "application/vnd.jupyter.widget-view+json": {
       "model_id": "8c0ddcb135974c189edb80ba7bb2629b",
       "version_major": 2,
       "version_minor": 0
      },
      "text/plain": [
       "  1%|          | 1/134 [00:00<?, ?it/s]"
      ]
     },
     "metadata": {},
     "output_type": "display_data"
    },
    {
     "name": "stdout",
     "output_type": "stream",
     "text": [
      "Результат обучения - Эпоха: 235  Сред. точность: 96.29 Сред. ошибка: 0.13306\n",
      "Результат валидации - Эпоха: 235  Сред. точность: 89.74 Сред. ошибка: 0.34852\n"
     ]
    },
    {
     "data": {
      "application/vnd.jupyter.widget-view+json": {
       "model_id": "1c7529a8d63b47bd856bd071f519c985",
       "version_major": 2,
       "version_minor": 0
      },
      "text/plain": [
       "  1%|          | 1/134 [00:00<?, ?it/s]"
      ]
     },
     "metadata": {},
     "output_type": "display_data"
    },
    {
     "name": "stdout",
     "output_type": "stream",
     "text": [
      "Результат обучения - Эпоха: 236  Сред. точность: 96.34 Сред. ошибка: 0.13182\n",
      "Результат валидации - Эпоха: 236  Сред. точность: 89.60 Сред. ошибка: 0.35198\n"
     ]
    },
    {
     "data": {
      "application/vnd.jupyter.widget-view+json": {
       "model_id": "cc5d31ce5011442eada5b714a94b87db",
       "version_major": 2,
       "version_minor": 0
      },
      "text/plain": [
       "  1%|          | 1/134 [00:00<?, ?it/s]"
      ]
     },
     "metadata": {},
     "output_type": "display_data"
    },
    {
     "name": "stdout",
     "output_type": "stream",
     "text": [
      "Результат обучения - Эпоха: 237  Сред. точность: 96.32 Сред. ошибка: 0.13190\n",
      "Результат валидации - Эпоха: 237  Сред. точность: 89.98 Сред. ошибка: 0.35121\n"
     ]
    },
    {
     "data": {
      "application/vnd.jupyter.widget-view+json": {
       "model_id": "a330110d62f34389875c8d9a00772e6e",
       "version_major": 2,
       "version_minor": 0
      },
      "text/plain": [
       "  1%|          | 1/134 [00:00<?, ?it/s]"
      ]
     },
     "metadata": {},
     "output_type": "display_data"
    },
    {
     "name": "stdout",
     "output_type": "stream",
     "text": [
      "Результат обучения - Эпоха: 238  Сред. точность: 96.22 Сред. ошибка: 0.13068\n",
      "Результат валидации - Эпоха: 238  Сред. точность: 89.94 Сред. ошибка: 0.34864\n"
     ]
    },
    {
     "data": {
      "application/vnd.jupyter.widget-view+json": {
       "model_id": "4c7a276339114706978be4a963aa6b94",
       "version_major": 2,
       "version_minor": 0
      },
      "text/plain": [
       "  1%|          | 1/134 [00:00<?, ?it/s]"
      ]
     },
     "metadata": {},
     "output_type": "display_data"
    },
    {
     "name": "stdout",
     "output_type": "stream",
     "text": [
      "Результат обучения - Эпоха: 239  Сред. точность: 96.35 Сред. ошибка: 0.13038\n",
      "Результат валидации - Эпоха: 239  Сред. точность: 89.80 Сред. ошибка: 0.34930\n"
     ]
    },
    {
     "data": {
      "application/vnd.jupyter.widget-view+json": {
       "model_id": "9673557b47834fcbbb84e3b6895c8876",
       "version_major": 2,
       "version_minor": 0
      },
      "text/plain": [
       "  1%|          | 1/134 [00:00<?, ?it/s]"
      ]
     },
     "metadata": {},
     "output_type": "display_data"
    },
    {
     "name": "stdout",
     "output_type": "stream",
     "text": [
      "Результат обучения - Эпоха: 240  Сред. точность: 96.43 Сред. ошибка: 0.12990\n",
      "Результат валидации - Эпоха: 240  Сред. точность: 89.90 Сред. ошибка: 0.35133\n"
     ]
    },
    {
     "data": {
      "application/vnd.jupyter.widget-view+json": {
       "model_id": "56e4c1e534694daeb8b9c14f09a5f20c",
       "version_major": 2,
       "version_minor": 0
      },
      "text/plain": [
       "  1%|          | 1/134 [00:00<?, ?it/s]"
      ]
     },
     "metadata": {},
     "output_type": "display_data"
    },
    {
     "name": "stdout",
     "output_type": "stream",
     "text": [
      "Результат обучения - Эпоха: 241  Сред. точность: 96.31 Сред. ошибка: 0.12992\n",
      "Результат валидации - Эпоха: 241  Сред. точность: 89.56 Сред. ошибка: 0.35404\n"
     ]
    },
    {
     "data": {
      "application/vnd.jupyter.widget-view+json": {
       "model_id": "a762c2c8c0ea4a84824e500dc5fc93e4",
       "version_major": 2,
       "version_minor": 0
      },
      "text/plain": [
       "  1%|          | 1/134 [00:00<?, ?it/s]"
      ]
     },
     "metadata": {},
     "output_type": "display_data"
    },
    {
     "name": "stdout",
     "output_type": "stream",
     "text": [
      "Результат обучения - Эпоха: 242  Сред. точность: 96.46 Сред. ошибка: 0.12868\n",
      "Результат валидации - Эпоха: 242  Сред. точность: 89.94 Сред. ошибка: 0.35214\n"
     ]
    },
    {
     "data": {
      "application/vnd.jupyter.widget-view+json": {
       "model_id": "af034093852f41a8b94fac6c8188d867",
       "version_major": 2,
       "version_minor": 0
      },
      "text/plain": [
       "  1%|          | 1/134 [00:00<?, ?it/s]"
      ]
     },
     "metadata": {},
     "output_type": "display_data"
    },
    {
     "name": "stdout",
     "output_type": "stream",
     "text": [
      "Результат обучения - Эпоха: 243  Сред. точность: 96.43 Сред. ошибка: 0.12778\n",
      "Результат валидации - Эпоха: 243  Сред. точность: 89.88 Сред. ошибка: 0.35165\n"
     ]
    },
    {
     "data": {
      "application/vnd.jupyter.widget-view+json": {
       "model_id": "c45b0f3acc534eafb0dea27e94cd25fd",
       "version_major": 2,
       "version_minor": 0
      },
      "text/plain": [
       "  1%|          | 1/134 [00:00<?, ?it/s]"
      ]
     },
     "metadata": {},
     "output_type": "display_data"
    },
    {
     "name": "stdout",
     "output_type": "stream",
     "text": [
      "Результат обучения - Эпоха: 244  Сред. точность: 96.49 Сред. ошибка: 0.12798\n",
      "Результат валидации - Эпоха: 244  Сред. точность: 89.88 Сред. ошибка: 0.35208\n"
     ]
    },
    {
     "data": {
      "application/vnd.jupyter.widget-view+json": {
       "model_id": "a1caf22e0630421788a098a13cc366fe",
       "version_major": 2,
       "version_minor": 0
      },
      "text/plain": [
       "  1%|          | 1/134 [00:00<?, ?it/s]"
      ]
     },
     "metadata": {},
     "output_type": "display_data"
    },
    {
     "name": "stdout",
     "output_type": "stream",
     "text": [
      "Результат обучения - Эпоха: 245  Сред. точность: 96.39 Сред. ошибка: 0.12763\n",
      "Результат валидации - Эпоха: 245  Сред. точность: 89.74 Сред. ошибка: 0.35441\n"
     ]
    },
    {
     "data": {
      "application/vnd.jupyter.widget-view+json": {
       "model_id": "aaf730fa9363479ab3ac91bb413482d6",
       "version_major": 2,
       "version_minor": 0
      },
      "text/plain": [
       "  1%|          | 1/134 [00:00<?, ?it/s]"
      ]
     },
     "metadata": {},
     "output_type": "display_data"
    },
    {
     "name": "stdout",
     "output_type": "stream",
     "text": [
      "Результат обучения - Эпоха: 246  Сред. точность: 96.50 Сред. ошибка: 0.12698\n",
      "Результат валидации - Эпоха: 246  Сред. точность: 89.86 Сред. ошибка: 0.35285\n"
     ]
    },
    {
     "data": {
      "application/vnd.jupyter.widget-view+json": {
       "model_id": "267530eb98634817a4abc87b0476b52d",
       "version_major": 2,
       "version_minor": 0
      },
      "text/plain": [
       "  1%|          | 1/134 [00:00<?, ?it/s]"
      ]
     },
     "metadata": {},
     "output_type": "display_data"
    },
    {
     "name": "stdout",
     "output_type": "stream",
     "text": [
      "Результат обучения - Эпоха: 247  Сред. точность: 96.52 Сред. ошибка: 0.12615\n",
      "Результат валидации - Эпоха: 247  Сред. точность: 89.82 Сред. ошибка: 0.35348\n"
     ]
    },
    {
     "data": {
      "application/vnd.jupyter.widget-view+json": {
       "model_id": "75714c40134442b598deaeeaf29d5574",
       "version_major": 2,
       "version_minor": 0
      },
      "text/plain": [
       "  1%|          | 1/134 [00:00<?, ?it/s]"
      ]
     },
     "metadata": {},
     "output_type": "display_data"
    },
    {
     "name": "stdout",
     "output_type": "stream",
     "text": [
      "Результат обучения - Эпоха: 248  Сред. точность: 96.55 Сред. ошибка: 0.12545\n",
      "Результат валидации - Эпоха: 248  Сред. точность: 89.88 Сред. ошибка: 0.35422\n"
     ]
    },
    {
     "data": {
      "application/vnd.jupyter.widget-view+json": {
       "model_id": "d6a928c5608e4054b510e503e3f25b35",
       "version_major": 2,
       "version_minor": 0
      },
      "text/plain": [
       "  1%|          | 1/134 [00:00<?, ?it/s]"
      ]
     },
     "metadata": {},
     "output_type": "display_data"
    },
    {
     "name": "stdout",
     "output_type": "stream",
     "text": [
      "Результат обучения - Эпоха: 249  Сред. точность: 96.52 Сред. ошибка: 0.12504\n",
      "Результат валидации - Эпоха: 249  Сред. точность: 89.82 Сред. ошибка: 0.35506\n"
     ]
    },
    {
     "data": {
      "application/vnd.jupyter.widget-view+json": {
       "model_id": "cfe7783f71694024887e83580af28a94",
       "version_major": 2,
       "version_minor": 0
      },
      "text/plain": [
       "  1%|          | 1/134 [00:00<?, ?it/s]"
      ]
     },
     "metadata": {},
     "output_type": "display_data"
    },
    {
     "name": "stdout",
     "output_type": "stream",
     "text": [
      "Результат обучения - Эпоха: 250  Сред. точность: 96.38 Сред. ошибка: 0.12681\n",
      "Результат валидации - Эпоха: 250  Сред. точность: 89.58 Сред. ошибка: 0.35783\n"
     ]
    },
    {
     "data": {
      "text/plain": [
       "State:\n",
       "\titeration: 33500\n",
       "\tepoch: 250\n",
       "\tepoch_length: 134\n",
       "\tmax_epochs: 250\n",
       "\toutput: 0.12540413439273834\n",
       "\tbatch: <class 'list'>\n",
       "\tmetrics: <class 'dict'>\n",
       "\tdataloader: <class 'torch.utils.data.dataloader.DataLoader'>\n",
       "\tseed: <class 'NoneType'>\n",
       "\ttimes: <class 'dict'>"
      ]
     },
     "execution_count": 26,
     "metadata": {},
     "output_type": "execute_result"
    },
    {
     "data": {
      "image/png": "[encoded data removed]",
      "text/plain": [
       "<Figure size 500x500 with 2 Axes>"
      ]
     },
     "metadata": {},
     "output_type": "display_data"
    }
   ],
   "source": [
    "trainer.run(train_loader, max_epochs=250)"
   ]
  },
  {
   "cell_type": "code",
   "execution_count": 27,
   "metadata": {
    "colab": {
     "base_uri": "https://localhost:8080/"
    },
    "executionInfo": {
     "elapsed": 535,
     "status": "ok",
     "timestamp": 1713443715563,
     "user": {
      "displayName": "Konstantin Eidelman",
      "userId": "17829340596789731820"
     },
     "user_tz": -180
    },
    "id": "fEtAPWfSzlIT",
    "outputId": "3aa693ee-598c-438f-af36-ffede5ac4fef"
   },
   "outputs": [
    {
     "data": {
      "image/png": "[encoded data removed]",
      "text/plain": [
       "<Figure size 1500x1000 with 1 Axes>"
      ]
     },
     "metadata": {},
     "output_type": "display_data"
    }
   ],
   "source": [
    "plt.rcParams[\"figure.figsize\"] = (15,10)\n",
    "plt.plot(training_history['accuracy'],label=\"Точность на обуч. выборке\")\n",
    "plt.plot(test_history['accuracy'],label=\"Точность на тест. выборке\")\n",
    "plt.xlabel('№ Эпохи')\n",
    "plt.ylabel('Точность')\n",
    "plt.legend(frameon=False)\n",
    "#plt.savefig('Accuracy_50_001_50.jpeg')\n",
    "plt.show()\n"
   ]
  },
  {
   "cell_type": "code",
   "execution_count": 28,
   "metadata": {
    "executionInfo": {
     "elapsed": 420,
     "status": "ok",
     "timestamp": 1713443720075,
     "user": {
      "displayName": "Konstantin Eidelman",
      "userId": "17829340596789731820"
     },
     "user_tz": -180
    },
    "id": "Cp3yoOVjd93e"
   },
   "outputs": [
    {
     "data": {
      "image/png": "[encoded data removed]",
      "text/plain": [
       "<Figure size 1500x1000 with 1 Axes>"
      ]
     },
     "metadata": {},
     "output_type": "display_data"
    }
   ],
   "source": [
    "plt.rcParams[\"figure.figsize\"] = (15,10)\n",
    "plt.plot(training_history['loss'],label=\"Сред. ошибка на обуч. выборке\")\n",
    "plt.plot(test_history['loss'],label=\"Сред. ошибка на тест. выборке\")\n",
    "plt.xlabel('№ Эпохи')\n",
    "plt.ylim(0,1)\n",
    "plt.ylabel('Сред. ошибка')\n",
    "plt.legend(frameon=False)\n",
    "#plt.savefig('Loss_50_001_50.jpeg')\n",
    "plt.show()\n"
   ]
  },
  {
   "cell_type": "code",
   "execution_count": null,
   "metadata": {},
   "outputs": [],
   "source": [
    "test_evaluator.run(test_loader)\n",
    "metrics = test_evaluator.state.metrics\n",
    "cm = metrics['cm']\n",
    "cm = cm.numpy()\n",
    "cm = cm.astype(int)\n",
    "classes = ['Сидение', 'Ходьба по ровной поверхности', 'Поднятие по рампе', 'Спуск по рампе', 'Поднятие по лестнице', 'Спуск по лестнице', 'Стояние']\n",
    "fig, ax = plt.subplots(figsize=(6,6))  \n",
    "ax = plt.subplot()\n",
    "sns.heatmap(cm, annot=True, ax = ax,fmt=\"d\")\n",
    "# labels, title and ticks\n",
    "ax.set_xlabel('Предсказанные классы')\n",
    "ax.set_ylabel('Реальные классы') \n",
    "ax.set_title('Матрица ошибок') \n",
    "ax.xaxis.set_ticklabels(classes,rotation=90)\n",
    "ax.yaxis.set_ticklabels(classes,rotation=0)"
   ]
  },
  {
   "cell_type": "code",
   "execution_count": null,
   "metadata": {},
   "outputs": [],
   "source": []
  },
  {
   "cell_type": "code",
   "execution_count": null,
   "metadata": {},
   "outputs": [],
   "source": []
  }
 ],
 "metadata": {
  "colab": {
   "authorship_tag": "ABX9TyMm6qj1VutwIFrBEPgVRJGZ",
   "mount_file_id": "1ioJ0iPc8QRzzr-iNFWHQAeXONyegd0Fa",
   "provenance": []
  },
  "kernelspec": {
   "display_name": "Python 3 (ipykernel)",
   "language": "python",
   "name": "python3"
  },
  "language_info": {
   "codemirror_mode": {
    "name": "ipython",
    "version": 3
   },
   "file_extension": ".py",
   "mimetype": "text/x-python",
   "name": "python",
   "nbconvert_exporter": "python",
   "pygments_lexer": "ipython3",
   "version": "3.10.12"
  }
 },
 "nbformat": 4,
 "nbformat_minor": 4
}
